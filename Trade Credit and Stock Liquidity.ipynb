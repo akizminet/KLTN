{
 "cells": [
  {
   "cell_type": "code",
   "execution_count": 1,
   "metadata": {},
   "outputs": [],
   "source": [
    "import pandas as pd\n",
    "import numpy as np"
   ]
  },
  {
   "cell_type": "markdown",
   "metadata": {},
   "source": [
    "The sample used in this study contains firms on Vietnam stock exchange from 2002 to 2019. I exclude the following observations from the sample: **utility and financial firms** , **firms with non-positive total assets or sales**, **firms that are not traded on HNX, UPCOM, or HSX**, _firms with share codes other than 10 and 11_, firms with fewer than 100 daily stock price records during a fiscal year, and firms without sufficient data to calculate the control variables described below. In addition, I follow Love et al. (2007) and remove observations that imply trade credit of longer than 1 year. The final sample consists of 129,177 firm-year observations with 13,712 unique firms."
   ]
  },
  {
   "cell_type": "code",
   "execution_count": 2,
   "metadata": {},
   "outputs": [],
   "source": [
    "stockprices = pd.read_csv(\"StockPrices/CafeF.UPCOM.Upto02.10.2020.csv\")\\\n",
    "                .append(pd.read_csv(\"StockPrices/CafeF.HNX.Upto02.10.2020.csv\"))\\\n",
    "                .append(pd.read_csv(\"StockPrices/CafeF.HSX.Upto02.10.2020.csv\"))"
   ]
  },
  {
   "cell_type": "code",
   "execution_count": 3,
   "metadata": {},
   "outputs": [
    {
     "data": {
      "text/html": [
       "<div>\n",
       "<style scoped>\n",
       "    .dataframe tbody tr th:only-of-type {\n",
       "        vertical-align: middle;\n",
       "    }\n",
       "\n",
       "    .dataframe tbody tr th {\n",
       "        vertical-align: top;\n",
       "    }\n",
       "\n",
       "    .dataframe thead th {\n",
       "        text-align: right;\n",
       "    }\n",
       "</style>\n",
       "<table border=\"1\" class=\"dataframe\">\n",
       "  <thead>\n",
       "    <tr style=\"text-align: right;\">\n",
       "      <th></th>\n",
       "      <th>TICKER</th>\n",
       "      <th>DATE</th>\n",
       "      <th>CLOSE</th>\n",
       "      <th>VOLUME</th>\n",
       "    </tr>\n",
       "  </thead>\n",
       "  <tbody>\n",
       "    <tr>\n",
       "      <th>0</th>\n",
       "      <td>ABC</td>\n",
       "      <td>20191231</td>\n",
       "      <td>9.8000</td>\n",
       "      <td>300</td>\n",
       "    </tr>\n",
       "    <tr>\n",
       "      <th>1</th>\n",
       "      <td>ABI</td>\n",
       "      <td>20191231</td>\n",
       "      <td>30.6968</td>\n",
       "      <td>10300</td>\n",
       "    </tr>\n",
       "    <tr>\n",
       "      <th>2</th>\n",
       "      <td>ABR</td>\n",
       "      <td>20191231</td>\n",
       "      <td>11.7000</td>\n",
       "      <td>1501</td>\n",
       "    </tr>\n",
       "    <tr>\n",
       "      <th>3</th>\n",
       "      <td>ACV</td>\n",
       "      <td>20191231</td>\n",
       "      <td>75.0000</td>\n",
       "      <td>81718</td>\n",
       "    </tr>\n",
       "    <tr>\n",
       "      <th>4</th>\n",
       "      <td>ADG</td>\n",
       "      <td>20191231</td>\n",
       "      <td>42.2776</td>\n",
       "      <td>18900</td>\n",
       "    </tr>\n",
       "  </tbody>\n",
       "</table>\n",
       "</div>"
      ],
      "text/plain": [
       "  TICKER      DATE    CLOSE  VOLUME\n",
       "0    ABC  20191231   9.8000     300\n",
       "1    ABI  20191231  30.6968   10300\n",
       "2    ABR  20191231  11.7000    1501\n",
       "3    ACV  20191231  75.0000   81718\n",
       "4    ADG  20191231  42.2776   18900"
      ]
     },
     "execution_count": 3,
     "metadata": {},
     "output_type": "execute_result"
    }
   ],
   "source": [
    "stockprices.columns=[\"TICKER\",\"DATE\",\"OPEN\",\"HIGH\",\"LOW\",\"CLOSE\",\"VOLUME\"]\n",
    "stockprices = stockprices[(stockprices.DATE < 20200101) & (stockprices.DATE > 20011231)]\n",
    "stockprices.drop(columns=[\"OPEN\",\"HIGH\",\"LOW\"],inplace=True)\n",
    "stockprices.drop_duplicates(inplace=True)\n",
    "stockprices.reset_index(inplace=True,drop=True)\n",
    "stockprices.head()"
   ]
  },
  {
   "cell_type": "code",
   "execution_count": 4,
   "metadata": {
    "scrolled": true
   },
   "outputs": [
    {
     "name": "stderr",
     "output_type": "stream",
     "text": [
      "/home/akizminet/.local/lib/python3.8/site-packages/IPython/core/interactiveshell.py:3145: DtypeWarning: Columns (0,1,3,4) have mixed types.Specify dtype option on import or set low_memory=False.\n",
      "  has_raised = await self.run_ast_nodes(code_ast.body, cell_name,\n"
     ]
    },
    {
     "data": {
      "text/html": [
       "<div>\n",
       "<style scoped>\n",
       "    .dataframe tbody tr th:only-of-type {\n",
       "        vertical-align: middle;\n",
       "    }\n",
       "\n",
       "    .dataframe tbody tr th {\n",
       "        vertical-align: top;\n",
       "    }\n",
       "\n",
       "    .dataframe thead th {\n",
       "        text-align: right;\n",
       "    }\n",
       "</style>\n",
       "<table border=\"1\" class=\"dataframe\">\n",
       "  <thead>\n",
       "    <tr style=\"text-align: right;\">\n",
       "      <th></th>\n",
       "      <th>TICKER</th>\n",
       "      <th>NAME</th>\n",
       "      <th>PRICE</th>\n",
       "      <th>EXCHANGE</th>\n",
       "      <th>URL</th>\n",
       "    </tr>\n",
       "  </thead>\n",
       "  <tbody>\n",
       "    <tr>\n",
       "      <th>0</th>\n",
       "      <td>A32</td>\n",
       "      <td>Công ty cổ phần 32</td>\n",
       "      <td>39.00</td>\n",
       "      <td>Upcom</td>\n",
       "      <td>/upcom/A32-cong-ty-co-phan-32.chn</td>\n",
       "    </tr>\n",
       "    <tr>\n",
       "      <th>1</th>\n",
       "      <td>AAA</td>\n",
       "      <td>Công ty Cổ phần Nhựa An Phát Xanh</td>\n",
       "      <td>12.45</td>\n",
       "      <td>HSX</td>\n",
       "      <td>/hose/AAA-cong-ty-co-phan-nhua-an-phat-xanh.chn</td>\n",
       "    </tr>\n",
       "    <tr>\n",
       "      <th>2</th>\n",
       "      <td>AAM</td>\n",
       "      <td>Công ty Cổ phần Thủy sản Mekong</td>\n",
       "      <td>11.70</td>\n",
       "      <td>HSX</td>\n",
       "      <td>/hose/AAM-cong-ty-co-phan-thuy-san-mekong.chn</td>\n",
       "    </tr>\n",
       "    <tr>\n",
       "      <th>3</th>\n",
       "      <td>AAV</td>\n",
       "      <td>Công ty Cổ phần Việt Tiên Sơn Địa ốc</td>\n",
       "      <td>8.70</td>\n",
       "      <td>HNX</td>\n",
       "      <td>/hastc/AAV-cong-ty-co-phan-viet-tien-son-dia-o...</td>\n",
       "    </tr>\n",
       "    <tr>\n",
       "      <th>4</th>\n",
       "      <td>ABC</td>\n",
       "      <td>Công ty cổ phần Truyền thông VMG</td>\n",
       "      <td>13.90</td>\n",
       "      <td>Upcom</td>\n",
       "      <td>/upcom/ABC-cong-ty-co-phan-truyen-thong-vmg.chn</td>\n",
       "    </tr>\n",
       "  </tbody>\n",
       "</table>\n",
       "</div>"
      ],
      "text/plain": [
       "  TICKER                                  NAME  PRICE EXCHANGE  \\\n",
       "0    A32                    Công ty cổ phần 32  39.00    Upcom   \n",
       "1    AAA     Công ty Cổ phần Nhựa An Phát Xanh  12.45      HSX   \n",
       "2    AAM       Công ty Cổ phần Thủy sản Mekong  11.70      HSX   \n",
       "3    AAV  Công ty Cổ phần Việt Tiên Sơn Địa ốc   8.70      HNX   \n",
       "4    ABC      Công ty cổ phần Truyền thông VMG  13.90    Upcom   \n",
       "\n",
       "                                                 URL  \n",
       "0                  /upcom/A32-cong-ty-co-phan-32.chn  \n",
       "1    /hose/AAA-cong-ty-co-phan-nhua-an-phat-xanh.chn  \n",
       "2      /hose/AAM-cong-ty-co-phan-thuy-san-mekong.chn  \n",
       "3  /hastc/AAV-cong-ty-co-phan-viet-tien-son-dia-o...  \n",
       "4    /upcom/ABC-cong-ty-co-phan-truyen-thong-vmg.chn  "
      ]
     },
     "execution_count": 4,
     "metadata": {},
     "output_type": "execute_result"
    }
   ],
   "source": [
    "companies = pd.read_csv(\"Companies.csv\")\n",
    "companies.head()"
   ]
  },
  {
   "cell_type": "markdown",
   "metadata": {},
   "source": [
    "# Liquidity measures\n",
    "**The illiquidity measure proposed by Amihud (2002) is used as the primary measure of stock liquidity in this study.** This measure is widely employed in the literature and has been demonstrated to be an appropriate proxy for stock illiquidity. For example, Goyenko et al. (2009) document that among 12 proxies that use daily data, the Amihud illiquidity measure most accurately captures price impact. Hasbrouck (2009) shows that, compared to other daily proxies, the Amihud illiquidity measure is the one most strongly correlated with a TAQ-based price impact coefficient. In addition, Fong et al. (2017) find that the Amihud illiquidity measure is the best daily cost-per-dollar-volume proxy. The Amihud illiquidity measure is calculated as the daily ratio of the absolute value of stock returns to dollar volume, averaged over firm i's fiscal year t:\n",
    "\n",
    "$$\\text{Amihud Illiquidity}_{i,t}=\\dfrac{1}{D_{i,t}}\\sum_{d=1}^{D}\\dfrac{\\left |\\text{Ret}_{t,d}  \\right |}{\\text{Dollar Volume}_{i,d}}$$\n",
    "\n",
    "Where $Ret$ and $\\text{Dollar Volume}$ are the return and dollar volume of firm i on day d, respectively, and D is the total number of trading days during firm i's fiscal year t.\n",
    "\n",
    "Since the distribution of the Amihud illiquidity measure is highly skewed, I follow Edmans et al.'s (2013) approach to modify the Amihud illiquidity measure by taking the natural logarithm of (Amihud illiquidity plus one). In addition, for the convenience of interpreting the empirical results, I multiply the modified Amihud illiquidity measure by −1 and name this measure “LiqAM”. Specifically, $LiqAM$ is defined as $–ln(\\text{Amihud illiquidity} + 1)$. A higher value of $LiqAM$ is associated with a higher level of stock liquidity.\n"
   ]
  },
  {
   "cell_type": "code",
   "execution_count": 5,
   "metadata": {},
   "outputs": [],
   "source": [
    "filtered_stocks = companies[\"TICKER\"].to_frame().merge(stockprices, on='TICKER',how='inner')"
   ]
  },
  {
   "cell_type": "code",
   "execution_count": 6,
   "metadata": {},
   "outputs": [
    {
     "data": {
      "text/html": [
       "<div>\n",
       "<style scoped>\n",
       "    .dataframe tbody tr th:only-of-type {\n",
       "        vertical-align: middle;\n",
       "    }\n",
       "\n",
       "    .dataframe tbody tr th {\n",
       "        vertical-align: top;\n",
       "    }\n",
       "\n",
       "    .dataframe thead th {\n",
       "        text-align: right;\n",
       "    }\n",
       "</style>\n",
       "<table border=\"1\" class=\"dataframe\">\n",
       "  <thead>\n",
       "    <tr style=\"text-align: right;\">\n",
       "      <th></th>\n",
       "      <th>TICKER</th>\n",
       "      <th>DATE</th>\n",
       "      <th>CLOSE</th>\n",
       "      <th>VOLUME</th>\n",
       "      <th>YEAR</th>\n",
       "    </tr>\n",
       "  </thead>\n",
       "  <tbody>\n",
       "    <tr>\n",
       "      <th>0</th>\n",
       "      <td>A32</td>\n",
       "      <td>20191224</td>\n",
       "      <td>27.2860</td>\n",
       "      <td>400</td>\n",
       "      <td>2019</td>\n",
       "    </tr>\n",
       "    <tr>\n",
       "      <th>1</th>\n",
       "      <td>A32</td>\n",
       "      <td>20191223</td>\n",
       "      <td>26.7994</td>\n",
       "      <td>200</td>\n",
       "      <td>2019</td>\n",
       "    </tr>\n",
       "    <tr>\n",
       "      <th>2</th>\n",
       "      <td>A32</td>\n",
       "      <td>20191220</td>\n",
       "      <td>26.7994</td>\n",
       "      <td>500</td>\n",
       "      <td>2019</td>\n",
       "    </tr>\n",
       "    <tr>\n",
       "      <th>3</th>\n",
       "      <td>A32</td>\n",
       "      <td>20191217</td>\n",
       "      <td>27.7236</td>\n",
       "      <td>100</td>\n",
       "      <td>2019</td>\n",
       "    </tr>\n",
       "    <tr>\n",
       "      <th>4</th>\n",
       "      <td>A32</td>\n",
       "      <td>20191126</td>\n",
       "      <td>25.8753</td>\n",
       "      <td>100</td>\n",
       "      <td>2019</td>\n",
       "    </tr>\n",
       "  </tbody>\n",
       "</table>\n",
       "</div>"
      ],
      "text/plain": [
       "  TICKER      DATE    CLOSE  VOLUME  YEAR\n",
       "0    A32  20191224  27.2860     400  2019\n",
       "1    A32  20191223  26.7994     200  2019\n",
       "2    A32  20191220  26.7994     500  2019\n",
       "3    A32  20191217  27.7236     100  2019\n",
       "4    A32  20191126  25.8753     100  2019"
      ]
     },
     "execution_count": 6,
     "metadata": {},
     "output_type": "execute_result"
    }
   ],
   "source": [
    "filtered_stocks['YEAR'] = filtered_stocks['DATE']//10000\n",
    "filtered_stocks.head()"
   ]
  },
  {
   "cell_type": "code",
   "execution_count": 7,
   "metadata": {},
   "outputs": [
    {
     "name": "stdout",
     "output_type": "stream",
     "text": [
      "<class 'pandas.core.frame.DataFrame'>\n",
      "RangeIndex: 9306 entries, 0 to 9305\n",
      "Data columns (total 3 columns):\n",
      " #   Column  Non-Null Count  Dtype \n",
      "---  ------  --------------  ----- \n",
      " 0   TICKER  9306 non-null   object\n",
      " 1   YEAR    9306 non-null   int64 \n",
      " 2   counts  9306 non-null   int64 \n",
      "dtypes: int64(2), object(1)\n",
      "memory usage: 218.2+ KB\n"
     ]
    }
   ],
   "source": [
    "lmstat = filtered_stocks[['TICKER','YEAR']]\\\n",
    "            .groupby(by=['TICKER','YEAR'])\\\n",
    "            .size().reset_index(name='counts')\n",
    "lmstat.info()"
   ]
  },
  {
   "cell_type": "code",
   "execution_count": 8,
   "metadata": {},
   "outputs": [],
   "source": [
    "# remove firms with fewer than 100 daily stock price records during a fiscal year\n",
    "filtered_tickers = lmstat[lmstat.counts >= 100]"
   ]
  },
  {
   "cell_type": "code",
   "execution_count": 9,
   "metadata": {},
   "outputs": [],
   "source": [
    "filtered_stocks= filtered_stocks.merge(filtered_tickers, on=['TICKER','YEAR'],how='inner')"
   ]
  },
  {
   "cell_type": "code",
   "execution_count": 10,
   "metadata": {},
   "outputs": [],
   "source": [
    "filtered_stocks['VND_VOLUME'] = filtered_stocks['CLOSE']*filtered_stocks['VOLUME']*1000"
   ]
  },
  {
   "cell_type": "code",
   "execution_count": 11,
   "metadata": {},
   "outputs": [],
   "source": [
    "filtered_stocks.sort_values(by=['TICKER','DATE'],inplace=True)"
   ]
  },
  {
   "cell_type": "code",
   "execution_count": 12,
   "metadata": {},
   "outputs": [
    {
     "name": "stdout",
     "output_type": "stream",
     "text": [
      "('AAA', 2017);('AAA', 2018);('AAA', 2019);('AAM', 2010);('AAM', 2011);('AAM', 2012);('AAM', 2013);('AAM', 2014);('AAM', 2015);('AAM', 2016);('AAM', 2017);('AAM', 2018);('AAM', 2019);('AAV', 2018);('AAV', 2019);('ABC', 2017);('ABC', 2018);('ABC', 2019);('ABR', 2019);('ABT', 2009);('ABT', 2010);('ABT', 2011);('ABT', 2012);('ABT', 2013);('ABT', 2014);('ABT', 2015);('ABT', 2016);('ABT', 2017);('ABT', 2018);('ABT', 2019);('ACC', 2010);('ACC', 2011);('ACC', 2012);('ACC', 2013);('ACC', 2014);('ACC', 2015);('ACC', 2016);('ACC', 2017);('ACC', 2018);('ACC', 2019);('ACE', 2010);('ACE', 2016);('ACE', 2017);('ACE', 2018);('ACL', 2008);('ACL', 2009);('ACL', 2010);('ACL', 2011);('ACL', 2012);('ACL', 2013);('ACL', 2014);('ACL', 2015);('ACL', 2016);('ACL', 2017);('ACL', 2018);('ACL', 2019);('ACM', 2015);('ACM', 2016);('ACM', 2017);('ACM', 2018);('ACM', 2019);('ACV', 2017);('ACV', 2018);('ACV', 2019);('ADP', 2012);('ADP', 2016);('ADP', 2017);('ADP', 2018);('ADS', 2016);('ADS', 2017);('ADS', 2018);('ADS', 2019);('AFX', 2017);('AFX', 2018);('AFX', 2019);('AGM', 2013);('AGM', 2014);('AGM', 2015);('AGM', 2016);('AGM', 2017);('AGM', 2018);('AGM', 2019);('AMC', 2016);('AMC', 2017);('AMC', 2018);('AMD', 2015);('AMD', 2016);('AMD', 2017);('AMD', 2018);('AMD', 2019);('AME', 2010);('AME', 2011);('AME', 2012);('AME', 2013);('AME', 2014);('AME', 2015);('AME', 2019);('AMS', 2017);('AMS', 2018);('AMS', 2019);('AMV', 2010);('AMV', 2011);('AMV', 2012);('AMV', 2013);('AMV', 2014);('AMV', 2015);('AMV', 2016);('AMV', 2017);('AMV', 2018);('AMV', 2019);('ANT', 2017);('ANV', 2008);('ANV', 2009);('ANV', 2010);('ANV', 2011);('ANV', 2012);('ANV', 2013);('ANV', 2014);('ANV', 2015);('ANV', 2016);('ANV', 2017);('ANV', 2018);('ANV', 2019);('APC', 2010);('APC', 2011);('APC', 2012);('APC', 2013);('APC', 2014);('APC', 2015);('APC', 2016);('APC', 2017);('APC', 2018);('APC', 2019);('APF', 2018);('APF', 2019);('APP', 2011);('APP', 2012);('APP', 2013);('APP', 2014);('APP', 2015);('ASA', 2012);('ASA', 2013);('ASA', 2014);('ASA', 2015);('ASA', 2016);('ASA', 2017);('ASA', 2018);('ASM', 2010);('ASM', 2011);('ASM', 2012);('ASM', 2013);('ASM', 2014);('ASM', 2015);('ASM', 2016);('ASM', 2017);('ASM', 2018);('ASM', 2019);('ASP', 2008);('ASP', 2009);('ASP', 2010);('ASP', 2011);('ASP', 2012);('ASP', 2013);('ASP', 2014);('ASP', 2015);('ASP', 2016);('ASP', 2017);('ASP', 2018);('ASP', 2019);('AST', 2018);('AST', 2019);('ATA', 2010);('ATA', 2011);('ATA', 2012);('ATA', 2013);('ATA', 2014);('ATA', 2015);('ATA', 2016);('ATB', 2018);('ATB', 2019);('ATG', 2017);('ATG', 2018);('ATG', 2019);('ATS', 2016);('ATS', 2017);('ATS', 2018);('ATS', 2019);('AVC', 2018);('AVF', 2011);('AVF', 2012);('AVF', 2013);('AVF', 2014);('AVF', 2015);('AVF', 2016);('BAM', 2015);('BAX', 2019);('BBC', 2002);('BBC', 2003);('BBC', 2004);('BBC', 2005);('BBC', 2006);('BBC', 2007);('BBC', 2008);('BBC', 2009);('BBC', 2010);('BBC', 2011);('BBC', 2012);('BBC', 2013);('BBC', 2014);('BBC', 2015);('BBC', 2016);('BBC', 2017);('BBC', 2018);('BBC', 2019);('BBS', 2006);('BBS', 2007);('BBS', 2008);('BBS', 2009);('BBS', 2010);('BBS', 2011);('BBS', 2012);('BBS', 2013);('BBS', 2014);('BBS', 2015);('BBS', 2016);('BBS', 2017);('BBT', 2018);('BBT', 2019);('BCC', 2007);('BCC', 2008);('BCC', 2009);('BCC', 2010);('BCC', 2011);('BCC', 2012);('BCC', 2013);('BCC', 2014);('BCC', 2015);('BCC', 2016);('BCC', 2017);('BCC', 2018);('BCC', 2019);('BCE', 2010);('BCE', 2011);('BCE', 2012);('BCE', 2013);('BCE', 2014);('BCE', 2015);('BCE', 2016);('BCE', 2017);('BCE', 2018);('BCE', 2019);('BCI', 2009);('BCI', 2010);('BCI', 2011);('BCI', 2012);('BCI', 2013);('BCI', 2014);('BCI', 2015);('BCI', 2016);('BCI', 2017);('BCM', 2018);('BCM', 2019);('BCP', 2018);('BCP', 2019);('BDG', 2019);('BDT', 2019);('BEL', 2019);('BFC', 2016);('BFC', 2017);('BFC', 2018);('BFC', 2019);('BGM', 2011);('BGM', 2012);('BGM', 2013);('BGM', 2014);('BGM', 2015);('BGM', 2016);('BHC', 2009);('BHC', 2010);('BHC', 2011);('BHC', 2012);('BHC', 2013);('BHN', 2017);('BHN', 2018);('BHN', 2019);('BHP', 2017);('BHS', 2007);('BHS', 2008);('BHS', 2009);('BHS', 2010);('BHS', 2011);('BHS', 2012);('BHS', 2013);('BHS', 2014);('BHS', 2015);('BHS', 2016);('BHS', 2017);('BHT', 2011);('BHT', 2015);('BHT', 2016);('BII', 2015);('BII', 2016);('BII', 2017);('BII', 2018);('BII', 2019);('BKC', 2010);('BKC', 2011);('BKC', 2012);('BKC', 2013);('BKC', 2014);('BKC', 2015);('BKC', 2017);('BLF', 2008);('BLF', 2009);('BLF', 2010);('BLF', 2011);('BLF', 2012);('BLF', 2013);('BLF', 2014);('BLF', 2015);('BLF', 2016);('BLF', 2017);('BLF', 2018);('BMC', 2007);('BMC', 2008);('BMC', 2009);('BMC', 2010);('BMC', 2011);('BMC', 2012);('BMC', 2013);('BMC', 2014);('BMC', 2015);('BMC', 2016);('BMC', 2017);('BMC', 2018);('BMC', 2019);('BMJ', 2010);('BMJ', 2011);('BMJ', 2012);('BMJ', 2014);('BMP', 2006);('BMP', 2007);('BMP', 2008);('BMP', 2009);('BMP', 2010);('BMP', 2011);('BMP', 2012);('BMP', 2013);('BMP', 2014);('BMP', 2015);('BMP', 2016);('BMP', 2017);('BMP', 2018);('BMP', 2019);('BOT', 2019);('BPC', 2002);('BPC', 2003);('BPC', 2004);('BPC', 2005);('BPC', 2006);('BPC', 2007);('BPC', 2008);('BPC', 2009);('BPC', 2010);('BPC', 2011);('BPC', 2012);('BPC', 2013);('BPC', 2014);('BPC', 2015);('BPC', 2016);('BPC', 2017);('BRC', 2012);('BRC', 2013);('BRC', 2014);('BRC', 2015);('BRC', 2016);('BRC', 2017);('BRC', 2018);('BSA', 2019);('BSG', 2017);('BSL', 2018);('BSL', 2019);('BSP', 2017);('BSP', 2018);('BSP', 2019);('BSQ', 2017);('BSQ', 2018);('BSQ', 2019);('BSR', 2018);('BSR', 2019);('BT6', 2002);('BT6', 2003);('BT6', 2004);('BT6', 2005);('BT6', 2006);('BT6', 2007);('BT6', 2008);('BT6', 2009);('BT6', 2010);('BT6', 2011);('BT6', 2012);('BT6', 2013);('BT6', 2014);('BT6', 2015);('BT6', 2017);('BTC', 2002);('BTC', 2003);('BTC', 2004);('BTC', 2005);('BTC', 2006);('BTC', 2007);('BTC', 2008);('BTC', 2009);('BTD', 2017);('BTD', 2018);('BTD', 2019);('BTP', 2010);('BTP', 2011);('BTP', 2012);('BTP', 2013);('BTP', 2014);('BTP', 2015);('BTP', 2016);('BTP', 2017);('BTP', 2018);('BTP', 2019);('BTS', 2007);('BTS', 2008);('BTS', 2009);('BTS', 2010);('BTS', 2011);('BTS', 2012);('BTS', 2013);('BTS', 2014);('BTS', 2015);('BTS', 2016);('BTS', 2017);('BTS', 2018);('BTS', 2019);('BUD', 2019);('BVG', 2010);('BVG', 2011);('BVG', 2012);('BVG', 2013);('BVG', 2014);('BVG', 2015);('BVG', 2017);('BVG', 2018);('BVG', 2019);('BVN', 2013);('BVN', 2014);('BVN', 2016);('BXH', 2010);('BXH', 2014);('BXH', 2015);('C21', 2017);('C21', 2018);('C21', 2019);('C32', 2013);('C32', 2014);('C32', 2015);('C32', 2016);('C32', 2017);('C32', 2018);('C32', 2019);('C47', 2011);('C47', 2012);('C47', 2013);('C47', 2014);('C47', 2015);('C47', 2016);('C47', 2017);('C47', 2018);('C47', 2019);('C4G', 2019);('C69', 2017);('C69', 2018);('C69', 2019);('C92', 2008);('C92', 2009);('C92', 2010);('C92', 2011);('C92', 2012);('C92', 2013);('C92', 2014);('C92', 2015);('C92', 2017);('CAD', 2009);('CAD', 2010);('CAD', 2011);('CAD', 2012);('CAD', 2013);('CAD', 2014);('CAD', 2015);('CAD', 2016);('CAN', 2002);('CAN', 2003);('CAN', 2004);('CAN', 2005);('CAN', 2006);('CAN', 2007);('CAN', 2008);('CAN', 2009);('CAN', 2010);('CAN', 2011);('CAN', 2012);('CAN', 2013);('CAN', 2014);('CAN', 2017);('CAP', 2008);('CAP', 2009);('CAP', 2010);('CAP', 2011);('CAP', 2012);('CAP', 2013);('CAP', 2014);('CAP', 2015);('CAP', 2016);('CAP', 2017);('CAP', 2018);('CAP', 2019);('CAT', 2019);('CAV', 2015);('CAV', 2016);('CAV', 2017);('CAV', 2018);('CAV', 2019);('CCI', 2010);('CCI', 2011);('CCI', 2012);('CCI', 2013);('CCI', 2014);('CCI', 2015);('CCI', 2016);('CCI', 2017);('CCI', 2018);('CCI', 2019);('CCL', 2011);('CCL', 2012);('CCL', 2013);('CCL', 2014);('CCL', 2015);('CCL', 2016);('CCL', 2017);('CCL', 2018);('CCL', 2019);('CCM', 2009);('CCM', 2010);('CCM', 2011);('CCM', 2012);('CCM', 2013);('CCM', 2014);('CCM', 2017);('CCM', 2018);('CDC', 2008);('CDC', 2009);('CDC', 2010);('CDC', 2011);('CDC', 2012);('CDC', 2013);('CDC', 2014);('CDC', 2015);('CDC', 2016);('CDC', 2017);('CDC', 2018);('CDC', 2019);('CDN', 2016);('CDN', 2017);('CDN', 2018);('CDN', 2019);('CDO', 2015);('CDO', 2016);('CDO', 2017);('CDO', 2018);('CDO', 2019);('CDP', 2019);('CEC', 2016);('CEE', 2017);('CEE', 2018);('CEE', 2019);('CEN', 2018);('CEN', 2019);('CEO', 2015);('CEO', 2016);('CEO', 2017);('CEO', 2018);('CEO', 2019);('CET', 2017);('CET', 2018);('CET', 2019);('CFC', 2010);('CGP', 2016);('CGP', 2017);('CGV', 2017);('CGV', 2018);('CHP', 2017);('CHP', 2018);('CHP', 2019);('CHS', 2017);('CHS', 2018);('CHS', 2019);('CIA', 2018);('CIA', 2019);('CID', 2007);('CID', 2008);('CID', 2009);('CID', 2010);('CIG', 2011);('CIG', 2012);('CIG', 2013);('CIG', 2014);('CIG', 2015);('CIG', 2016);('CIG', 2017);('CIG', 2018);('CIG', 2019);('CII', 2006);('CII', 2007);('CII', 2008);('CII', 2009);('CII', 2010);('CII', 2011);('CII', 2012);('CII', 2013);('CII', 2014);('CII', 2015);('CII', 2016);('CII', 2017);('CII', 2018);('CII', 2019);('CJC', 2007);('CJC', 2008);('CJC', 2009)"
     ]
    },
    {
     "name": "stdout",
     "output_type": "stream",
     "text": [
      ";('CJC', 2010);('CJC', 2011);('CJC', 2014);('CKA', 2019);('CKD', 2017);('CLC', 2007);('CLC', 2008);('CLC', 2009);('CLC', 2010);('CLC', 2011);('CLC', 2012);('CLC', 2013);('CLC', 2014);('CLC', 2015);('CLC', 2016);('CLC', 2017);('CLC', 2018);('CLC', 2019);('CLG', 2010);('CLG', 2011);('CLG', 2012);('CLG', 2013);('CLG', 2014);('CLG', 2015);('CLG', 2016);('CLG', 2017);('CLG', 2018);('CLG', 2019);('CLH', 2016);('CLH', 2017);('CLH', 2019);('CLL', 2014);('CLL', 2015);('CLL', 2016);('CLL', 2017);('CLL', 2018);('CLL', 2019);('CLS', 2009);('CLS', 2010);('CLS', 2011);('CLS', 2012);('CMC', 2007);('CMC', 2008);('CMC', 2009);('CMC', 2010);('CMC', 2011);('CMC', 2012);('CMC', 2013);('CMC', 2014);('CMG', 2010);('CMG', 2011);('CMG', 2012);('CMG', 2013);('CMG', 2014);('CMG', 2015);('CMG', 2016);('CMG', 2017);('CMG', 2018);('CMG', 2019);('CMN', 2018);('CMT', 2019);('CMV', 2010);('CMV', 2011);('CMV', 2012);('CMV', 2013);('CMV', 2014);('CMV', 2015);('CMV', 2016);('CMX', 2011);('CMX', 2012);('CMX', 2013);('CMX', 2014);('CMX', 2015);('CMX', 2016);('CMX', 2017);('CMX', 2018);('CMX', 2019);('CNC', 2014);('CNC', 2016);('CNC', 2017);('CNC', 2018);('CNC', 2019);('CNG', 2012);('CNG', 2013);('CNG', 2014);('CNG', 2015);('CNG', 2016);('CNG', 2017);('CNG', 2018);('CNG', 2019);('CNT', 2008);('CNT', 2009);('CNT', 2010);('CNT', 2011);('CNT', 2012);('CNT', 2013);('CNT', 2016);('COM', 2006);('COM', 2007);('COM', 2008);('COM', 2009);('COM', 2010);('COM', 2011);('COM', 2012);('COM', 2013);('COM', 2014);('COM', 2015);('COM', 2016);('COM', 2017);('COM', 2018);('COM', 2019);('CPC', 2010);('CPC', 2011);('CPC', 2012);('CPC', 2013);('CPC', 2014);('CPC', 2015);('CPC', 2016);('CPC', 2017);('CPC', 2018);('CPC', 2019);('CRC', 2019);('CRE', 2019);('CSC', 2010);('CSC', 2011);('CSC', 2012);('CSC', 2013);('CSC', 2014);('CSC', 2015);('CSC', 2016);('CSC', 2017);('CSC', 2018);('CSC', 2019);('CSM', 2009);('CSM', 2010);('CSM', 2011);('CSM', 2012);('CSM', 2013);('CSM', 2014);('CSM', 2015);('CSM', 2016);('CSM', 2017);('CSM', 2018);('CSM', 2019);('CSV', 2015);('CSV', 2016);('CSV', 2017);('CSV', 2018);('CSV', 2019);('CT3', 2019);('CTA', 2011);('CTA', 2012);('CTA', 2013);('CTA', 2014);('CTA', 2015);('CTA', 2016);('CTA', 2017);('CTB', 2007);('CTB', 2008);('CTB', 2009);('CTB', 2010);('CTB', 2012);('CTB', 2017);('CTB', 2018);('CTD', 2010);('CTD', 2011);('CTD', 2012);('CTD', 2013);('CTD', 2014);('CTD', 2015);('CTD', 2016);('CTD', 2017);('CTD', 2018);('CTD', 2019);('CTF', 2017);('CTF', 2018);('CTF', 2019);('CTI', 2010);('CTI', 2011);('CTI', 2012);('CTI', 2013);('CTI', 2014);('CTI', 2015);('CTI', 2016);('CTI', 2017);('CTI', 2018);('CTI', 2019);('CTN', 2007);('CTN', 2008);('CTN', 2009);('CTN', 2010);('CTN', 2011);('CTN', 2012);('CTN', 2013);('CTN', 2014);('CTP', 2016);('CTP', 2017);('CTP', 2018);('CTP', 2019);('CTR', 2018);('CTR', 2019);('CTX', 2012);('CTX', 2014);('CTX', 2015);('CTX', 2016);('CTX', 2017);('CTX', 2018);('CTX', 2019);('CVN', 2010);('CVN', 2011);('CVN', 2012);('CVN', 2013);('CVN', 2014);('CVN', 2015);('CVN', 2016);('CVN', 2017);('CVN', 2018);('CVN', 2019);('CVT', 2018);('CVT', 2019);('CX8', 2010);('CX8', 2011);('CX8', 2012);('CX8', 2013);('CX8', 2014);('CX8', 2015);('CX8', 2016);('CYC', 2006);('CYC', 2007);('CYC', 2008);('CYC', 2009);('CYC', 2010);('CYC', 2011);('CYC', 2012);('CYC', 2013);('CYC', 2014);('CYC', 2015);('CYC', 2016);('CYC', 2017);('CYC', 2018);('D11', 2011);('D11', 2012);('D11', 2013);('D11', 2017);('D11', 2018);('D11', 2019);('D2D', 2010);('D2D', 2011);('D2D', 2012);('D2D', 2013);('D2D', 2014);('D2D', 2015);('D2D', 2016);('D2D', 2017);('D2D', 2018);('D2D', 2019);('DAC', 2007);('DAC', 2008);('DAC', 2009);('DAC', 2010);('DAG', 2010);('DAG', 2011);('DAG', 2012);('DAG', 2013);('DAG', 2014);('DAG', 2015);('DAG', 2016);('DAG', 2017);('DAG', 2018);('DAG', 2019);('DAS', 2019);('DAT', 2016);('DAT', 2018);('DBC', 2019);('DBD', 2017);('DBD', 2018);('DBD', 2019);('DBM', 2010);('DBM', 2011);('DBM', 2012);('DBM', 2017);('DBT', 2010);('DBT', 2011);('DBT', 2012);('DBT', 2013);('DBT', 2014);('DBT', 2015);('DBT', 2016);('DBT', 2017);('DBT', 2018);('DBT', 2019);('DC1', 2017);('DC1', 2018);('DC2', 2010);('DC2', 2011);('DC2', 2012);('DC2', 2014);('DC2', 2015);('DC2', 2016);('DC2', 2017);('DC4', 2009);('DC4', 2010);('DC4', 2011);('DC4', 2012);('DC4', 2013);('DC4', 2014);('DC4', 2015);('DC4', 2016);('DC4', 2017);('DC4', 2018);('DC4', 2019);('DCF', 2017);('DCL', 2009);('DCL', 2010);('DCL', 2011);('DCL', 2012);('DCL', 2013);('DCL', 2014);('DCL', 2015);('DCL', 2016);('DCL', 2017);('DCL', 2018);('DCL', 2019);('DCM', 2015);('DCM', 2016);('DCM', 2017);('DCM', 2018);('DCM', 2019);('DCT', 2007);('DCT', 2008);('DCT', 2009);('DCT', 2010);('DCT', 2011);('DCT', 2012);('DCT', 2013);('DCT', 2014);('DCT', 2016);('DDG', 2019);('DDM', 2008);('DDM', 2009);('DDM', 2010);('DDM', 2011);('DDM', 2012);('DDM', 2015);('DDN', 2016);('DDN', 2017);('DDN', 2018);('DDV', 2015);('DDV', 2016);('DDV', 2017);('DDV', 2018);('DDV', 2019);('DGC', 2015);('DGC', 2016);('DGC', 2017);('DGC', 2018);('DGC', 2019);('DGL', 2016);('DGL', 2017);('DGL', 2018);('DGT', 2010);('DGT', 2011);('DGT', 2017);('DGW', 2015);('DGW', 2016);('DGW', 2017);('DGW', 2018);('DGW', 2019);('DHA', 2004);('DHA', 2005);('DHA', 2006);('DHA', 2007);('DHA', 2008);('DHA', 2009);('DHA', 2010);('DHA', 2011);('DHA', 2012);('DHA', 2013);('DHA', 2014);('DHA', 2015);('DHA', 2016);('DHA', 2017);('DHA', 2018);('DHA', 2019);('DHC', 2009);('DHC', 2010);('DHC', 2011);('DHC', 2012);('DHC', 2013);('DHC', 2014);('DHC', 2015);('DHC', 2016);('DHC', 2017);('DHC', 2018);('DHC', 2019);('DHD', 2017);('DHD', 2018);('DHD', 2019);('DHG', 2007);('DHG', 2008);('DHG', 2009);('DHG', 2010);('DHG', 2011);('DHG', 2012);('DHG', 2013);('DHG', 2014);('DHG', 2015);('DHG', 2016);('DHG', 2017);('DHG', 2018);('DHG', 2019);('DHP', 2013);('DHP', 2014);('DHP', 2015);('DHP', 2016);('DHP', 2017);('DHP', 2018);('DHT', 2009);('DHT', 2010);('DHT', 2011);('DHT', 2012);('DHT', 2013);('DHT', 2014);('DHT', 2015);('DHT', 2016);('DHT', 2017);('DHT', 2018);('DHT', 2019);('DIC', 2007);('DIC', 2008);('DIC', 2009);('DIC', 2010);('DIC', 2011);('DIC', 2012);('DIC', 2013);('DIC', 2014);('DIC', 2015);('DIC', 2016);('DIC', 2017);('DIC', 2018);('DIC', 2019);('DID', 2010);('DID', 2011);('DID', 2012);('DID', 2013);('DID', 2014);('DIG', 2010);('DIG', 2011);('DIG', 2012);('DIG', 2013);('DIG', 2014);('DIG', 2015);('DIG', 2016);('DIG', 2017);('DIG', 2018);('DIG', 2019);('DIH', 2012);('DIH', 2013);('DIH', 2014);('DIH', 2015);('DIH', 2016);('DIH', 2017);('DIH', 2018);('DIH', 2019);('DL1', 2010);('DL1', 2011);('DL1', 2012);('DL1', 2013);('DL1', 2014);('DL1', 2015);('DL1', 2016);('DL1', 2017);('DL1', 2018);('DLG', 2010);('DLG', 2011);('DLG', 2012);('DLG', 2013);('DLG', 2014);('DLG', 2015);('DLG', 2016);('DLG', 2017);('DLG', 2018);('DLG', 2019);('DMC', 2007);('DMC', 2008);('DMC', 2009);('DMC', 2010);('DMC', 2011);('DMC', 2012);('DMC', 2013);('DMC', 2014);('DMC', 2015);('DMC', 2016);('DMC', 2017);('DMC', 2018);('DMC', 2019);('DNA', 2018);('DNC', 2010);('DNC', 2011);('DND', 2017);('DND', 2018);('DNL', 2015);('DNL', 2016);('DNL', 2017);('DNM', 2011);('DNM', 2012);('DNM', 2013);('DNM', 2014);('DNM', 2015);('DNM', 2016);('DNM', 2017);('DNM', 2018);('DNM', 2019);('DNP', 2016);('DNP', 2017);('DNP', 2018);('DNP', 2019);('DNS', 2010);('DNS', 2011);('DNS', 2014);('DNS', 2016);('DNS', 2017);('DNY', 2010);('DNY', 2011);('DNY', 2012);('DNY', 2013);('DNY', 2014);('DNY', 2015);('DNY', 2016);('DNY', 2017);('DNY', 2018);('DP3', 2016);('DP3', 2017);('DP3', 2018);('DP3', 2019);('DPC', 2002);('DPC', 2003);('DPC', 2004);('DPC', 2005);('DPC', 2006);('DPC', 2007);('DPC', 2008);('DPC', 2009);('DPC', 2010);('DPC', 2011);('DPC', 2012);('DPC', 2013);('DPC', 2014);('DPC', 2016);('DPC', 2017);('DPG', 2017);('DPG', 2018);('DPG', 2019);('DPM', 2008);('DPM', 2009);('DPM', 2010);('DPM', 2011);('DPM', 2012);('DPM', 2013);('DPM', 2014);('DPM', 2015);('DPM', 2016);('DPM', 2017);('DPM', 2018);('DPM', 2019);('DPR', 2008);('DPR', 2009);('DPR', 2010);('DPR', 2011);('DPR', 2012);('DPR', 2013);('DPR', 2014);('DPR', 2015);('DPR', 2016);('DPR', 2017);('DPR', 2018);('DPR', 2019);('DPS', 2015);('DPS', 2016);('DPS', 2017);('DPS', 2018);('DPS', 2019);('DQC', 2008);('DQC', 2009);('DQC', 2010);('DQC', 2011);('DQC', 2012);('DQC', 2013);('DQC', 2014);('DQC', 2015);('DQC', 2016);('DQC', 2017);('DQC', 2018);('DQC', 2019);('DRC', 2007);('DRC', 2008);('DRC', 2009);('DRC', 2010);('DRC', 2011);('DRC', 2012);('DRC', 2013);('DRC', 2014);('DRC', 2015);('DRC', 2016);('DRC', 2017);('DRC', 2018);('DRC', 2019);('DRH', 2010);('DRH', 2011);('DRH', 2012);('DRH', 2013);('DRH', 2014);('DRH', 2015);('DRH', 2016);('DRH', 2017);('DRH', 2018);('DRH', 2019);('DRI', 2017);('DRI', 2018);('DRI', 2019);('DRL', 2012);('DRL', 2013);('DRL', 2014)"
     ]
    },
    {
     "name": "stdout",
     "output_type": "stream",
     "text": [
      ";('DRL', 2015);('DRL', 2016);('DRL', 2017);('DRL', 2018);('DRL', 2019);('DSC', 2018);('DSC', 2019);('DSP', 2019);('DTA', 2010);('DTA', 2011);('DTA', 2012);('DTA', 2013);('DTA', 2014);('DTA', 2015);('DTA', 2016);('DTA', 2017);('DTA', 2018);('DTA', 2019);('DTC', 2007);('DTC', 2008);('DTC', 2009);('DTC', 2010);('DTC', 2011);('DTC', 2012);('DTC', 2014);('DTC', 2015);('DTC', 2018);('DTD', 2018);('DTD', 2019);('DTI', 2018);('DTL', 2010);('DTL', 2011);('DTL', 2012);('DTL', 2013);('DTL', 2014);('DTL', 2015);('DTL', 2016);('DTL', 2017);('DTL', 2018);('DTL', 2019);('DTT', 2007);('DTT', 2008);('DTT', 2009);('DTT', 2010);('DTT', 2011);('DTT', 2012);('DTT', 2013);('DTT', 2014);('DTT', 2016);('DTT', 2017);('DTT', 2018);('DVN', 2017);('DVN', 2018);('DVN', 2019);('DVP', 2010);('DVP', 2011);('DVP', 2012);('DVP', 2013);('DVP', 2014);('DVP', 2015);('DVP', 2016);('DVP', 2017);('DVP', 2018);('DVP', 2019);('DXG', 2010);('DXG', 2011);('DXG', 2012);('DXG', 2013);('DXG', 2014);('DXG', 2015);('DXG', 2016);('DXG', 2017);('DXG', 2018);('DXG', 2019);('DXP', 2006);('DXP', 2007);('DXP', 2008);('DXP', 2009);('DXP', 2010);('DXP', 2011);('DXP', 2012);('DXP', 2013);('DXP', 2014);('DXP', 2015);('DXP', 2016);('DXP', 2017);('DXP', 2018);('DXP', 2019);('DXV', 2008);('DXV', 2009);('DXV', 2010);('DXV', 2011);('DXV', 2012);('DXV', 2013);('DXV', 2014);('DXV', 2015);('DXV', 2016);('DXV', 2017);('DXV', 2018);('DXV', 2019);('DZM', 2009);('DZM', 2010);('DZM', 2011);('DZM', 2012);('DZM', 2013);('DZM', 2014);('DZM', 2015);('DZM', 2016);('DZM', 2017);('DZM', 2018);('EIC', 2017);('EIN', 2017);('EIN', 2018);('EIN', 2019);('ELC', 2011);('ELC', 2012);('ELC', 2013);('ELC', 2014);('ELC', 2015);('ELC', 2016);('ELC', 2017);('ELC', 2018);('ELC', 2019);('EMC', 2013);('EMC', 2014);('EMC', 2015);('EMC', 2016);('EMC', 2017);('EMC', 2018);('EMC', 2019);('EME', 2018);('EVE', 2011);('EVE', 2012);('EVE', 2013);('EVE', 2014);('EVE', 2015);('EVE', 2016);('EVE', 2017);('EVE', 2018);('EVE', 2019);('EVG', 2017);('EVG', 2018);('EVG', 2019);('FBA', 2011);('FBA', 2012);('FBA', 2013);('FCM', 2013);('FCM', 2014);('FCM', 2015);('FCM', 2016);('FCM', 2017);('FCM', 2018);('FCM', 2019);('FCN', 2012);('FCN', 2013);('FCN', 2014);('FCN', 2015);('FCN', 2016);('FCN', 2017);('FCN', 2018);('FCN', 2019);('FDG', 2011);('FDG', 2012);('FDG', 2013);('FIR', 2019);('FLC', 2012);('FLC', 2013);('FLC', 2014);('FLC', 2015);('FLC', 2016);('FLC', 2017);('FLC', 2018);('FLC', 2019);('FMC', 2007);('FMC', 2008);('FMC', 2009);('FMC', 2010);('FMC', 2011);('FMC', 2012);('FMC', 2013);('FMC', 2014);('FMC', 2015);('FMC', 2016);('FMC', 2017);('FMC', 2018);('FMC', 2019);('FOC', 2019);('FOX', 2017);('FOX', 2018);('FOX', 2019);('FPT', 2007);('FPT', 2008);('FPT', 2009);('FPT', 2010);('FPT', 2011);('FPT', 2012);('FPT', 2013);('FPT', 2014);('FPT', 2015);('FPT', 2016);('FPT', 2017);('FPT', 2018);('FPT', 2019);('FRT', 2018);('FRT', 2019);('FTM', 2017);('FTM', 2018);('FTM', 2019);('FUCTVGF1', 2017);('FUCVREIT', 2017);('FUCVREIT', 2018);('FUCVREIT', 2019);('FUESSV50', 2019);('G20', 2018);('G20', 2019);('G36', 2017);('G36', 2018);('G36', 2019);('GAB', 2019);('GAS', 2012);('GAS', 2013);('GAS', 2014);('GAS', 2015);('GAS', 2016);('GAS', 2017);('GAS', 2018);('GAS', 2019);('GDT', 2010);('GDT', 2011);('GDT', 2012);('GDT', 2013);('GDT', 2014);('GDT', 2015);('GDT', 2016);('GDT', 2017);('GDT', 2018);('GDT', 2019);('GEG', 2017);('GEG', 2018);('GEG', 2019);('GEX', 2018);('GEX', 2019);('GGG', 2010);('GGG', 2011);('GGG', 2012);('GGG', 2013);('GGG', 2014);('GGG', 2015);('GGG', 2016);('GHC', 2012);('GHC', 2013);('GHC', 2014);('GHC', 2015);('GHC', 2016);('GHC', 2017);('GHC', 2018);('GHC', 2019);('GIL', 2002);('GIL', 2003);('GIL', 2004);('GIL', 2005);('GIL', 2006);('GIL', 2007);('GIL', 2008);('GIL', 2009);('GIL', 2010);('GIL', 2011);('GIL', 2012);('GIL', 2013);('GIL', 2014);('GIL', 2015);('GIL', 2016);('GIL', 2017);('GIL', 2018);('GIL', 2019);('GKM', 2017);('GKM', 2018);('GKM', 2019);('GLT', 2010);('GLT', 2011);('GLT', 2012);('GLT', 2013);('GLT', 2014);('GLT', 2015);('GLT', 2016);('GLT', 2017);('GLT', 2018);('GLT', 2019);('GMC', 2007);('GMC', 2008);('GMC', 2009);('GMC', 2010);('GMC', 2011);('GMC', 2012);('GMC', 2013);('GMC', 2014);('GMC', 2015);('GMC', 2016);('GMC', 2017);('GMC', 2018);('GMC', 2019);('GMD', 2002);('GMD', 2003);('GMD', 2004);('GMD', 2005);('GMD', 2006);('GMD', 2007);('GMD', 2008);('GMD', 2009);('GMD', 2010);('GMD', 2011);('GMD', 2012);('GMD', 2013);('GMD', 2014);('GMD', 2015);('GMD', 2016);('GMD', 2017);('GMD', 2018);('GMD', 2019);('GMX', 2012);('GMX', 2015);('GMX', 2016);('GMX', 2017);('GND', 2017);('GND', 2018);('GND', 2019);('GSM', 2015);('GSM', 2016);('GSM', 2017);('GSM', 2018);('GSP', 2012);('GSP', 2013);('GSP', 2014);('GSP', 2015);('GSP', 2016);('GSP', 2017);('GSP', 2018);('GSP', 2019);('GTA', 2007);('GTA', 2008);('GTA', 2009);('GTA', 2010);('GTA', 2011);('GTA', 2012);('GTA', 2013);('GTA', 2014);('GTA', 2015);('GTA', 2016);('GTA', 2017);('GTA', 2018);('GTA', 2019);('GTH', 2010);('GTH', 2011);('GTH', 2012);('GTH', 2015);('GTN', 2015);('GTN', 2016);('GTN', 2017);('GTN', 2018);('GTN', 2019);('GTS', 2019);('GTT', 2010);('GTT', 2011);('GTT', 2012);('GTT', 2013);('GTT', 2014);('GTT', 2015);('GTT', 2016);('GVT', 2019);('HAD', 2010);('HAD', 2012);('HAD', 2013);('HAD', 2014);('HAD', 2015);('HAD', 2016);('HAD', 2017);('HAD', 2018);('HAD', 2019);('HAF', 2019);('HAH', 2015);('HAH', 2016);('HAH', 2017);('HAH', 2018);('HAH', 2019);('HAI', 2007);('HAI', 2008);('HAI', 2009);('HAI', 2010);('HAI', 2011);('HAI', 2012);('HAI', 2013);('HAI', 2014);('HAI', 2015);('HAI', 2016);('HAI', 2017);('HAI', 2018);('HAI', 2019);('HAP', 2002);('HAP', 2003);('HAP', 2004);('HAP', 2005);('HAP', 2006);('HAP', 2007);('HAP', 2008);('HAP', 2009);('HAP', 2010);('HAP', 2011);('HAP', 2012);('HAP', 2013);('HAP', 2014);('HAP', 2015);('HAP', 2016);('HAP', 2017);('HAP', 2018);('HAP', 2019);('HAR', 2013);('HAR', 2014);('HAR', 2015);('HAR', 2016);('HAR', 2017);('HAR', 2018);('HAR', 2019);('HAS', 2003);('HAS', 2004);('HAS', 2005);('HAS', 2006);('HAS', 2007);('HAS', 2008);('HAS', 2009);('HAS', 2010);('HAS', 2011);('HAS', 2012);('HAS', 2013);('HAS', 2014);('HAS', 2015);('HAS', 2016);('HAS', 2017);('HAS', 2018);('HAS', 2019);('HAT', 2011);('HAT', 2012);('HAT', 2013);('HAT', 2014);('HAT', 2015);('HAT', 2016);('HAT', 2017);('HAT', 2018);('HAT', 2019);('HBC', 2007);('HBC', 2008);('HBC', 2009);('HBC', 2010);('HBC', 2011);('HBC', 2012);('HBC', 2013);('HBC', 2014);('HBC', 2015);('HBC', 2016);('HBC', 2017);('HBC', 2018);('HBC', 2019);('HBD', 2014);('HBD', 2018);('HC3', 2017);('HC3', 2018);('HCC', 2008);('HCC', 2009);('HCC', 2010);('HCC', 2011);('HCC', 2012);('HCC', 2013);('HCC', 2014);('HCC', 2015);('HCC', 2016);('HCC', 2017);('HCC', 2018);('HCC', 2019);('HCD', 2016);('HCD', 2017);('HCD', 2018);('HCD', 2019);('HCT', 2008);('HCT', 2009);('HCT', 2010);('HCT', 2011);('HCT', 2012);('HCT', 2013);('HCT', 2014);('HCT', 2015);('HCT', 2016);('HCT', 2017);('HD2', 2016);('HD2', 2017);('HD2', 2018);('HD2', 2019);('HDA', 2011);('HDA', 2012);('HDA', 2013);('HDA', 2014);('HDA', 2015);('HDA', 2016);('HDA', 2017);('HDA', 2018);('HDA', 2019);('HDB', 2018);('HDB', 2019);('HDC', 2008);('HDC', 2009);('HDC', 2010);('HDC', 2011);('HDC', 2012);('HDC', 2013);('HDC', 2014);('HDC', 2015);('HDC', 2016);('HDC', 2017);('HDC', 2018);('HDC', 2019);('HDG', 2010);('HDG', 2011);('HDG', 2012);('HDG', 2013);('HDG', 2014);('HDG', 2015);('HDG', 2016);('HDG', 2017);('HDG', 2018);('HDG', 2019);('HDM', 2013);('HDM', 2014);('HDM', 2016);('HDM', 2017);('HDM', 2018);('HDM', 2019);('HDO', 2010);('HDO', 2011);('HDO', 2012);('HDO', 2013);('HDO', 2014);('HDO', 2015);('HDO', 2016);('HDO', 2017);('HDO', 2018);('HDO', 2019);('HDP', 2017);('HEM', 2017);('HEM', 2018);('HEM', 2019);('HGM', 2010);('HGM', 2011);('HGM', 2012);('HGM', 2013);('HGM', 2014);('HGM', 2015);('HGM', 2016);('HGM', 2018);('HHA', 2016);('HHC', 2008);('HHC', 2009);('HHC', 2010);('HHC', 2011);('HHC', 2012);('HHC', 2013);('HHC', 2014);('HHC', 2015);('HHC', 2016);('HHC', 2017);('HHC', 2018);('HHG', 2010);('HHG', 2011);('HHG', 2012);('HHG', 2013);('HHG', 2014);('HHG', 2015);('HHG', 2016);('HHG', 2017);('HHG', 2018);('HHG', 2019);('HHP', 2018);('HHP', 2019);('HHS', 2012);('HHS', 2013);('HHS', 2014);('HHS', 2015);('HHS', 2016);('HHS', 2017);('HHS', 2018);('HHS', 2019);('HID', 2016);('HID', 2017);('HID', 2018);('HID', 2019);('HIG', 2009);('HIG', 2010);('HIG', 2011);('HIG', 2012);('HIG', 2013);('HIG', 2014);('HIG', 2015);('HIG', 2016);('HIG', 2017);('HIG', 2018);('HIG', 2019);('HII', 2017);('HII', 2018);('HII', 2019);('HJS', 2007);('HJS', 2008);('HJS', 2009);('HJS', 2010);('HJS', 2011);('HJS', 2012);('HJS', 2013);('HJS', 2014);('HJS', 2015);('HJS', 2016);('HJS', 2017);('HJS', 2018);('HKB', 2015);('HKB', 2016);('HKB', 2017);('HKB', 2018);('HKB', 2019);('HKT', 2017);('HKT', 2018);('HLA', 2009);('HLA', 2010);('HLA', 2011);('HLA', 2012);('HLA', 2013);('HLA', 2014);('HLA', 2015);('HLA', 2016);('HLC', 2009);('HLC', 2010);('HLC', 2011);('HLC', 2012);('HLC', 2013);('HLC', 2014);('HLC', 2015);('HLC', 2016);('HLC', 2017);('HLC', 2018);('HLD', 2013);('HLD', 2014);('HLD', 2015);('HLD', 2016);('HLD', 2017);('HLD', 2018);('HLD', 2019);('HLY', 2007);('HLY', 2008);('HLY', 2009);('HLY', 2010);('HLY', 2017);('HMC', 2007);('HMC', 2008);('HMC', 2009);('HMC', 2010);('HMC', 2011);('HMC', 2012);('HMC', 2013);('HMC', 2014)"
     ]
    },
    {
     "name": "stdout",
     "output_type": "stream",
     "text": [
      ";('HMC', 2015);('HMC', 2016);('HMC', 2017);('HMC', 2018);('HMC', 2019);('HMH', 2010);('HMH', 2011);('HMH', 2012);('HMH', 2013);('HMH', 2014);('HMH', 2015);('HMH', 2016);('HMH', 2017);('HMH', 2018);('HMH', 2019);('HMS', 2017);('HMS', 2018);('HMS', 2019);('HNA', 2018);('HNA', 2019);('HND', 2017);('HND', 2018);('HND', 2019);('HNF', 2016);('HNF', 2017);('HNG', 2015);('HNG', 2016);('HNG', 2017);('HNG', 2018);('HNG', 2019);('HNI', 2018);('HNM', 2007);('HNM', 2008);('HNM', 2009);('HNM', 2010);('HNM', 2011);('HNM', 2012);('HNM', 2013);('HNM', 2014);('HNM', 2015);('HNM', 2016);('HNM', 2017);('HNM', 2018);('HNP', 2017);('HOM', 2009);('HOM', 2010);('HOM', 2011);('HOM', 2012);('HOM', 2013);('HOM', 2014);('HOM', 2015);('HOM', 2016);('HOM', 2017);('HOM', 2018);('HOM', 2019);('HPB', 2010);('HPB', 2011);('HPB', 2012);('HPB', 2013);('HPB', 2014);('HPD', 2016);('HPG', 2008);('HPG', 2009);('HPG', 2010);('HPG', 2011);('HPG', 2012);('HPG', 2013);('HPG', 2014);('HPG', 2015);('HPG', 2016);('HPG', 2017);('HPG', 2018);('HPG', 2019);('HPM', 2016);('HPM', 2017);('HPM', 2018);('HPP', 2017);('HPP', 2018);('HPP', 2019);('HPS', 2007);('HPS', 2008);('HPS', 2009);('HPS', 2010);('HPS', 2011);('HPT', 2010);('HPT', 2019);('HPX', 2018);('HPX', 2019);('HQC', 2011);('HQC', 2012);('HQC', 2013);('HQC', 2014);('HQC', 2015);('HQC', 2016);('HQC', 2017);('HQC', 2018);('HQC', 2019);('HRC', 2007);('HRC', 2008);('HRC', 2009);('HRC', 2010);('HRC', 2011);('HRC', 2012);('HRC', 2013);('HRC', 2014);('HRC', 2015);('HRC', 2016);('HRC', 2017);('HRC', 2018);('HRC', 2019);('HRT', 2017);('HRT', 2018);('HRT', 2019);('HSG', 2009);('HSG', 2010);('HSG', 2011);('HSG', 2012);('HSG', 2013);('HSG', 2014);('HSG', 2015);('HSG', 2016);('HSG', 2017);('HSG', 2018);('HSG', 2019);('HSI', 2008);('HSI', 2009);('HSI', 2010);('HSI', 2011);('HSI', 2012);('HSI', 2013);('HSI', 2014);('HSI', 2015);('HSI', 2018);('HSL', 2018);('HSL', 2019);('HT1', 2008);('HT1', 2009);('HT1', 2010);('HT1', 2011);('HT1', 2012);('HT1', 2013);('HT1', 2014);('HT1', 2015);('HT1', 2016);('HT1', 2017);('HT1', 2018);('HT1', 2019);('HTE', 2018);('HTE', 2019);('HTG', 2017);('HTG', 2018);('HTG', 2019);('HTI', 2011);('HTI', 2012);('HTI', 2013);('HTI', 2014);('HTI', 2015);('HTI', 2016);('HTI', 2017);('HTI', 2018);('HTI', 2019);('HTN', 2019);('HTT', 2017);('HTT', 2018);('HTT', 2019);('HTV', 2006);('HTV', 2007);('HTV', 2008);('HTV', 2009);('HTV', 2010);('HTV', 2011);('HTV', 2012);('HTV', 2013);('HTV', 2014);('HTV', 2015);('HTV', 2016);('HTV', 2017);('HTV', 2018);('HTV', 2019);('HU1', 2011);('HU1', 2012);('HU1', 2013);('HU1', 2014);('HU1', 2015);('HU1', 2016);('HU1', 2017);('HU1', 2018);('HU1', 2019);('HU3', 2011);('HU3', 2012);('HU3', 2013);('HU3', 2014);('HU3', 2015);('HU3', 2016);('HU3', 2017);('HU3', 2018);('HU3', 2019);('HU4', 2016);('HU4', 2017);('HU4', 2018);('HU4', 2019);('HU6', 2018);('HU6', 2019);('HUB', 2019);('HUG', 2019);('HUT', 2008);('HUT', 2009);('HUT', 2010);('HUT', 2011);('HUT', 2012);('HUT', 2013);('HUT', 2014);('HUT', 2015);('HUT', 2016);('HUT', 2017);('HUT', 2018);('HUT', 2019);('HVA', 2015);('HVA', 2016);('HVA', 2017);('HVA', 2018);('HVG', 2010);('HVG', 2011);('HVG', 2012);('HVG', 2013);('HVG', 2014);('HVG', 2015);('HVG', 2016);('HVG', 2017);('HVG', 2018);('HVG', 2019);('HVN', 2019);('HVT', 2009);('HVT', 2010);('HVT', 2011);('HVT', 2012);('HVT', 2013);('HVT', 2014);('HVT', 2015);('HVT', 2016);('HVT', 2017);('HVT', 2018);('HVT', 2019);('HVX', 2011);('HVX', 2012);('HVX', 2013);('HVX', 2014);('HVX', 2016);('HVX', 2017);('HVX', 2018);('HVX', 2019);('ICC', 2017);('ICC', 2018);('ICC', 2019);('ICG', 2009);('ICG', 2010);('ICG', 2011);('ICG', 2012);('ICG', 2013);('ICG', 2014);('ICG', 2015);('ICG', 2016);('ICG', 2017);('ICG', 2018);('ICG', 2019);('ICI', 2011);('ICI', 2012);('ICI', 2014);('ICI', 2015);('ICN', 2016);('ICN', 2017);('ICN', 2018);('IDI', 2011);('IDI', 2012);('IDI', 2013);('IDI', 2014);('IDI', 2015);('IDI', 2016);('IDI', 2017);('IDI', 2018);('IDI', 2019);('IDJ', 2011);('IDJ', 2012);('IDJ', 2013);('IDJ', 2014);('IDJ', 2015);('IDJ', 2016);('IDJ', 2017);('IDJ', 2018);('IDJ', 2019);('IDV', 2010);('IDV', 2011);('IDV', 2014);('IDV', 2015);('IDV', 2016);('IDV', 2017);('IDV', 2018);('IDV', 2019);('IFC', 2016);('IFC', 2018);('IFC', 2019);('IFS', 2007);('IFS', 2008);('IFS', 2009);('IFS', 2010);('IFS', 2011);('IFS', 2012);('IFS', 2017);('IFS', 2018);('IFS', 2019);('IJC', 2010);('IJC', 2011);('IJC', 2012);('IJC', 2013);('IJC', 2014);('IJC', 2015);('IJC', 2016);('IJC', 2017);('IJC', 2018);('IJC', 2019);('ILA', 2018);('ILA', 2019);('ILB', 2019);('ILS', 2018);('ILS', 2019);('IMP', 2007);('IMP', 2008);('IMP', 2009);('IMP', 2010);('IMP', 2011);('IMP', 2012);('IMP', 2013);('IMP', 2014);('IMP', 2015);('IMP', 2016);('IMP', 2017);('IMP', 2018);('IMP', 2019);('IMT', 2010);('IMT', 2011);('INC', 2012);('INC', 2014);('INC', 2015);('INN', 2010);('INN', 2011);('INN', 2012);('INN', 2013);('INN', 2014);('INN', 2015);('INN', 2016);('INN', 2017);('INN', 2018);('INN', 2019);('ISH', 2017);('ITA', 2007);('ITA', 2008);('ITA', 2009);('ITA', 2010);('ITA', 2011);('ITA', 2012);('ITA', 2013);('ITA', 2014);('ITA', 2015);('ITA', 2016);('ITA', 2017);('ITA', 2018);('ITA', 2019);('ITC', 2010);('ITC', 2011);('ITC', 2012);('ITC', 2013);('ITC', 2014);('ITC', 2015);('ITC', 2016);('ITC', 2017);('ITC', 2018);('ITC', 2019);('ITD', 2010);('ITD', 2011);('ITD', 2012);('ITD', 2013);('ITD', 2014);('ITD', 2015);('ITD', 2016);('ITD', 2017);('ITD', 2018);('ITD', 2019);('ITQ', 2013);('ITQ', 2014);('ITQ', 2015);('ITQ', 2016);('ITQ', 2017);('ITQ', 2018);('ITQ', 2019);('ITS', 2016);('ITS', 2017);('ITS', 2018);('ITS', 2019);('JVC', 2011);('JVC', 2012);('JVC', 2013);('JVC', 2014);('JVC', 2015);('JVC', 2016);('JVC', 2017);('JVC', 2018);('JVC', 2019);('KBC', 2008);('KBC', 2009);('KBC', 2010);('KBC', 2011);('KBC', 2012);('KBC', 2013);('KBC', 2014);('KBC', 2015);('KBC', 2016);('KBC', 2017);('KBC', 2018);('KBC', 2019);('KCB', 2017);('KDC', 2006);('KDC', 2007);('KDC', 2008);('KDC', 2009);('KDC', 2010);('KDC', 2011);('KDC', 2012);('KDC', 2013);('KDC', 2014);('KDC', 2015);('KDC', 2016);('KDC', 2017);('KDC', 2018);('KDC', 2019);('KDF', 2018);('KDF', 2019);('KDH', 2010);('KDH', 2011);('KDH', 2012);('KDH', 2013);('KDH', 2014);('KDH', 2015);('KDH', 2016);('KDH', 2017);('KDH', 2018);('KDH', 2019);('KDM', 2016);('KDM', 2017);('KDM', 2018);('KDM', 2019);('KHA', 2003);('KHA', 2004);('KHA', 2005);('KHA', 2006);('KHA', 2007);('KHA', 2008);('KHA', 2009);('KHA', 2010);('KHA', 2011);('KHA', 2012);('KHA', 2013);('KHA', 2014);('KHA', 2015);('KHA', 2016);('KHA', 2017);('KHA', 2018);('KHA', 2019);('KHD', 2019);('KHL', 2012);('KHL', 2013);('KHL', 2014);('KHL', 2015);('KHL', 2016);('KHP', 2006);('KHP', 2007);('KHP', 2008);('KHP', 2009);('KHP', 2010);('KHP', 2011);('KHP', 2012);('KHP', 2013);('KHP', 2014);('KHP', 2015);('KHP', 2016);('KHP', 2017);('KHP', 2018);('KHP', 2019);('KHS', 2018);('KHS', 2019);('KKC', 2009);('KKC', 2010);('KKC', 2011);('KKC', 2012);('KKC', 2013);('KKC', 2014);('KKC', 2015);('KKC', 2016);('KKC', 2017);('KKC', 2018);('KKC', 2019);('KMR', 2008);('KMR', 2009);('KMR', 2010);('KMR', 2011);('KMR', 2012);('KMR', 2013);('KMR', 2014);('KMR', 2015);('KMR', 2016);('KMR', 2017);('KMR', 2018);('KMR', 2019);('KMT', 2011);('KMT', 2012);('KOS', 2019);('KPF', 2016);('KPF', 2017);('KPF', 2018);('KPF', 2019);('KSA', 2010);('KSA', 2011);('KSA', 2012);('KSA', 2013);('KSA', 2014);('KSA', 2015);('KSA', 2016);('KSA', 2017);('KSB', 2010);('KSB', 2011);('KSB', 2012);('KSB', 2013);('KSB', 2014);('KSB', 2015);('KSB', 2016);('KSB', 2017);('KSB', 2018);('KSB', 2019);('KSD', 2010);('KSD', 2011);('KSD', 2012);('KSD', 2013);('KSD', 2014);('KSD', 2015);('KSD', 2016);('KSD', 2017);('KSD', 2018);('KSK', 2014);('KSK', 2015);('KSK', 2016);('KSK', 2017);('KSK', 2018);('KSQ', 2013);('KSQ', 2014);('KSQ', 2015);('KSQ', 2016);('KSQ', 2017);('KSQ', 2018);('KSQ', 2019);('KSS', 2010);('KSS', 2011);('KSS', 2012);('KSS', 2013);('KSS', 2014);('KSS', 2015);('KSS', 2016);('KST', 2011);('KTL', 2015);('KTL', 2016);('KTL', 2017);('KTL', 2018);('KTL', 2019);('KTS', 2012);('KTS', 2013);('KTS', 2014);('KTS', 2016);('KTS', 2017);('KTS', 2018);('KTS', 2019);('KTT', 2011);('KTT', 2012);('KTT', 2013);('KTT', 2014);('KTT', 2016);('KTT', 2017);('KVC', 2015);('KVC', 2016);('KVC', 2017);('KVC', 2018);('KVC', 2019);('L10', 2008);('L10', 2009);('L10', 2010);('L10', 2011);('L10', 2012);('L10', 2013);('L10', 2014);('L10', 2015);('L10', 2016);('L10', 2017);('L10', 2018);('L10', 2019);('L14', 2013);('L14', 2014);('L14', 2015);('L14', 2016);('L14', 2017);('L14', 2018);('L14', 2019);('L18', 2008);('L18', 2009);('L18', 2010);('L18', 2011);('L18', 2012);('L18', 2013);('L18', 2014);('L18', 2015);('L35', 2010);('L35', 2011);('L35', 2012);('L35', 2013);('L35', 2014);('L35', 2015);('L35', 2016);('L35', 2019);('L43', 2008);('L43', 2009);('L43', 2010);('L43', 2011);('L43', 2012);('L43', 2014);('L44', 2010);('L44', 2011);('L44', 2012);('L44', 2013);('L44', 2014);('L44', 2015);('L44', 2016);('L44', 2017);('L61', 2009);('L61', 2010);('L61', 2011);('L61', 2012);('L61', 2013);('L61', 2014);('L61', 2015);('L61', 2016);('L61', 2017);('L61', 2018);('L62', 2008);('L62', 2009);('L62', 2010);('L62', 2011);('LAF', 2002);('LAF', 2003)"
     ]
    },
    {
     "name": "stdout",
     "output_type": "stream",
     "text": [
      ";('LAF', 2004);('LAF', 2005);('LAF', 2006);('LAF', 2007);('LAF', 2008);('LAF', 2009);('LAF', 2010);('LAF', 2011);('LAF', 2012);('LAF', 2013);('LAF', 2014);('LAF', 2015);('LAF', 2016);('LAF', 2017);('LAF', 2018);('LAF', 2019);('LAS', 2012);('LAS', 2013);('LAS', 2014);('LAS', 2015);('LAS', 2016);('LAS', 2017);('LAS', 2018);('LAS', 2019);('LBM', 2007);('LBM', 2008);('LBM', 2009);('LBM', 2010);('LBM', 2011);('LBM', 2012);('LBM', 2013);('LBM', 2014);('LBM', 2015);('LBM', 2016);('LBM', 2017);('LBM', 2018);('LBM', 2019);('LCC', 2010);('LCC', 2011);('LCC', 2012);('LCG', 2009);('LCG', 2010);('LCG', 2011);('LCG', 2012);('LCG', 2013);('LCG', 2014);('LCG', 2015);('LCG', 2016);('LCG', 2017);('LCG', 2018);('LCG', 2019);('LCM', 2012);('LCM', 2013);('LCM', 2014);('LCM', 2015);('LCM', 2016);('LCM', 2017);('LCM', 2018);('LCM', 2019);('LCS', 2010);('LCS', 2011);('LCS', 2012);('LCS', 2013);('LCS', 2014);('LCS', 2017);('LCS', 2018);('LDG', 2015);('LDG', 2016);('LDG', 2017);('LDG', 2018);('LDG', 2019);('LDP', 2012);('LDP', 2013);('LDP', 2014);('LDP', 2015);('LDP', 2016);('LDP', 2017);('LDP', 2018);('LDP', 2019);('LEC', 2017);('LEC', 2018);('LEC', 2019);('LGC', 2007);('LGC', 2008);('LGC', 2009);('LGC', 2010);('LGC', 2011);('LGC', 2012);('LGC', 2013);('LGC', 2014);('LGC', 2015);('LGC', 2016);('LGC', 2017);('LGC', 2018);('LGC', 2019);('LGL', 2010);('LGL', 2011);('LGL', 2012);('LGL', 2013);('LGL', 2014);('LGL', 2015);('LGL', 2016);('LGL', 2017);('LGL', 2018);('LGL', 2019);('LHC', 2010);('LHC', 2011);('LHC', 2012);('LHC', 2013);('LHC', 2014);('LHC', 2015);('LHC', 2016);('LHC', 2017);('LHC', 2018);('LHC', 2019);('LHG', 2010);('LHG', 2011);('LHG', 2012);('LHG', 2013);('LHG', 2014);('LHG', 2015);('LHG', 2016);('LHG', 2017);('LHG', 2018);('LHG', 2019);('LIG', 2010);('LIG', 2011);('LIG', 2012);('LIG', 2013);('LIG', 2014);('LIG', 2015);('LIG', 2016);('LIG', 2017);('LIG', 2018);('LIG', 2019);('LIX', 2010);('LIX', 2011);('LIX', 2012);('LIX', 2013);('LIX', 2014);('LIX', 2015);('LIX', 2016);('LIX', 2017);('LIX', 2018);('LIX', 2019);('LLM', 2018);('LLM', 2019);('LM3', 2010);('LM3', 2011);('LM3', 2012);('LM3', 2013);('LM3', 2014);('LM7', 2011);('LM7', 2012);('LM7', 2013);('LM7', 2014);('LM7', 2018);('LM8', 2011);('LM8', 2012);('LM8', 2013);('LM8', 2014);('LM8', 2015);('LM8', 2016);('LM8', 2017);('LM8', 2018);('LMH', 2019);('LO5', 2010);('LO5', 2011);('LO5', 2012);('LO5', 2013);('LO5', 2014);('LO5', 2015);('LSS', 2008);('LSS', 2009);('LSS', 2010);('LSS', 2011);('LSS', 2012);('LSS', 2013);('LSS', 2014);('LSS', 2015);('LSS', 2016);('LSS', 2017);('LSS', 2018);('LSS', 2019);('LTG', 2017);('LTG', 2018);('LTG', 2019);('LUT', 2008);('LUT', 2009);('LUT', 2010);('LUT', 2011);('LUT', 2012);('LUT', 2013);('LUT', 2014);('LUT', 2015);('LUT', 2016);('LUT', 2017);('LUT', 2018);('LUT', 2019);('M10', 2018);('M10', 2019);('MAC', 2010);('MAC', 2011);('MAC', 2012);('MAC', 2013);('MAC', 2014);('MAC', 2015);('MAC', 2016);('MAC', 2017);('MAC', 2018);('MAC', 2019);('MAS', 2010);('MAS', 2011);('MAS', 2014);('MAS', 2015);('MAS', 2016);('MAS', 2017);('MAS', 2018);('MAS', 2019);('MBG', 2016);('MBG', 2017);('MBG', 2018);('MBG', 2019);('MCC', 2010);('MCC', 2014);('MCC', 2015);('MCC', 2016);('MCC', 2017);('MCF', 2012);('MCF', 2013);('MCF', 2014);('MCF', 2015);('MCF', 2016);('MCF', 2017);('MCF', 2018);('MCG', 2010);('MCG', 2011);('MCG', 2012);('MCG', 2013);('MCG', 2014);('MCG', 2015);('MCG', 2016);('MCG', 2017);('MCG', 2018);('MCG', 2019);('MCH', 2017);('MCH', 2018);('MCH', 2019);('MCO', 2007);('MCO', 2008);('MCO', 2009);('MCO', 2010);('MCO', 2011);('MCO', 2012);('MCO', 2013);('MCO', 2014);('MCO', 2015);('MCO', 2016);('MCO', 2017);('MCO', 2018);('MCO', 2019);('MCP', 2007);('MCP', 2008);('MCP', 2009);('MCP', 2010);('MCP', 2011);('MCP', 2012);('MCP', 2013);('MCP', 2014);('MCP', 2015);('MCP', 2016);('MCP', 2017);('MCP', 2018);('MCP', 2019);('MDC', 2009);('MDC', 2010);('MDC', 2011);('MDC', 2012);('MDC', 2013);('MDC', 2014);('MDC', 2015);('MDC', 2018);('MDC', 2019);('MDF', 2013);('MDG', 2011);('MDG', 2012);('MDG', 2013);('MDG', 2014);('MDG', 2015);('MDG', 2016);('MDG', 2017);('MDG', 2018);('MDG', 2019);('MEC', 2007);('MEC', 2008);('MEC', 2009);('MEC', 2010);('MEC', 2011);('MEC', 2012);('MEC', 2013);('MEC', 2014);('MEC', 2015);('MEC', 2016);('MEC', 2017);('MEC', 2018);('MEC', 2019);('MFS', 2019);('MH3', 2018);('MH3', 2019);('MHC', 2005);('MHC', 2006);('MHC', 2007);('MHC', 2008);('MHC', 2009);('MHC', 2010);('MHC', 2011);('MHC', 2012);('MHC', 2013);('MHC', 2014);('MHC', 2015);('MHC', 2016);('MHC', 2017);('MHC', 2018);('MHC', 2019);('MHL', 2010);('MHL', 2011);('MHL', 2017);('MHL', 2018);('MIC', 2008);('MIC', 2009);('MIC', 2010);('MIC', 2011);('MIC', 2012);('MIC', 2013);('MIC', 2014);('MIC', 2015);('MIM', 2011);('MKP', 2018);('MKP', 2019);('MKV', 2009);('MKV', 2010);('MKV', 2011);('MKV', 2012);('MKV', 2013);('MLN', 2018);('MLS', 2017);('MMC', 2008);('MMC', 2009);('MMC', 2010);('MMC', 2011);('MNC', 2011);('MNC', 2012);('MNC', 2013);('MNC', 2014);('MNC', 2015);('MNC', 2016);('MNC', 2017);('MPC', 2018);('MPC', 2019);('MPT', 2016);('MPT', 2017);('MPT', 2018);('MPT', 2019);('MSH', 2019);('MSR', 2016);('MSR', 2017);('MSR', 2018);('MSR', 2019);('MST', 2016);('MST', 2017);('MST', 2018);('MST', 2019);('MTA', 2016);('MTA', 2017);('MTA', 2018);('MTA', 2019);('MTG', 2009);('MTG', 2010);('MTG', 2011);('MTG', 2012);('MTG', 2013);('MTG', 2014);('MTG', 2015);('MTG', 2016);('MTG', 2017);('MTG', 2018);('MTP', 2014);('MVB', 2017);('MVC', 2017);('MVC', 2018);('MWG', 2014);('MWG', 2015);('MWG', 2016);('MWG', 2017);('MWG', 2018);('MWG', 2019);('NAF', 2016);('NAF', 2017);('NAF', 2018);('NAF', 2019);('NAG', 2010);('NAG', 2011);('NAG', 2012);('NAG', 2013);('NAG', 2014);('NAG', 2015);('NAG', 2016);('NAG', 2017);('NAG', 2018);('NAG', 2019);('NAS', 2017);('NAS', 2018);('NAS', 2019);('NAV', 2007);('NAV', 2008);('NAV', 2009);('NAV', 2010);('NAV', 2011);('NAV', 2012);('NAV', 2013);('NAV', 2014);('NAV', 2015);('NAV', 2016);('NAV', 2017);('NAV', 2018);('NAV', 2019);('NBB', 2009);('NBB', 2010);('NBB', 2011);('NBB', 2012);('NBB', 2013);('NBB', 2014);('NBB', 2015);('NBB', 2016);('NBB', 2017);('NBB', 2018);('NBB', 2019);('NBC', 2007);('NBC', 2008);('NBC', 2009);('NBC', 2010);('NBC', 2011);('NBC', 2012);('NBC', 2013);('NBC', 2014);('NBC', 2015);('NBC', 2016);('NBC', 2017);('NBC', 2018);('NBC', 2019);('NBE', 2019);('NBP', 2009);('NBP', 2010);('NBP', 2011);('NBP', 2012);('NBP', 2013);('NBP', 2014);('NBP', 2015);('NBP', 2016);('NBP', 2018);('NCP', 2019);('NCS', 2016);('NCS', 2017);('NCS', 2018);('NCS', 2019);('NCT', 2015);('NCT', 2016);('NCT', 2017);('NCT', 2018);('NCT', 2019);('ND2', 2011);('ND2', 2012);('ND2', 2014);('ND2', 2015);('ND2', 2016);('ND2', 2017);('ND2', 2018);('ND2', 2019);('NDC', 2014);('NDC', 2015);('NDF', 2015);('NDF', 2016);('NDF', 2017);('NDN', 2011);('NDN', 2012);('NDN', 2013);('NDN', 2014);('NDN', 2015);('NDN', 2016);('NDN', 2017);('NDN', 2018);('NDN', 2019);('NDP', 2017);('NDX', 2014);('NDX', 2015);('NDX', 2016);('NDX', 2017);('NDX', 2018);('NDX', 2019);('NED', 2018);('NET', 2011);('NET', 2012);('NET', 2013);('NET', 2014);('NET', 2015);('NET', 2016);('NET', 2017);('NET', 2018);('NET', 2019);('NGC', 2008);('NGC', 2009);('NGC', 2010);('NGC', 2011);('NGC', 2012);('NGC', 2014);('NGC', 2015);('NGC', 2016);('NHA', 2010);('NHA', 2011);('NHA', 2012);('NHA', 2013);('NHA', 2014);('NHA', 2015);('NHA', 2016);('NHA', 2017);('NHA', 2018);('NHA', 2019);('NHC', 2006);('NHC', 2007);('NHC', 2008);('NHC', 2009);('NHC', 2010);('NHC', 2011);('NHC', 2012);('NHC', 2014);('NHC', 2015);('NHC', 2016);('NHC', 2017);('NHP', 2015);('NHP', 2016);('NHP', 2017);('NHP', 2018);('NHP', 2019);('NHS', 2010);('NHS', 2011);('NHS', 2012);('NHS', 2013);('NHS', 2014);('NHS', 2015);('NHT', 2018);('NHT', 2019);('NHV', 2017);('NKG', 2011);('NKG', 2012);('NKG', 2013);('NKG', 2014);('NKG', 2015);('NKG', 2016);('NKG', 2017);('NKG', 2018);('NKG', 2019);('NLG', 2013);('NLG', 2014);('NLG', 2015);('NLG', 2016);('NLG', 2017);('NLG', 2018);('NLG', 2019);('NMK', 2016);('NNC', 2010);('NNC', 2011);('NNC', 2012);('NNC', 2013);('NNC', 2014);('NNC', 2015);('NNC', 2016);('NNC', 2017);('NNC', 2018);('NNC', 2019);('NNG', 2018);('NNG', 2019);('NOS', 2012);('NOS', 2014);('NOS', 2015);('NPS', 2008);('NPS', 2009);('NPS', 2010);('NPS', 2011);('NPS', 2013);('NPS', 2014);('NRC', 2018);('NRC', 2019);('NSC', 2007);('NSC', 2008);('NSC', 2009);('NSC', 2010);('NSC', 2011);('NSC', 2012);('NSC', 2013);('NSC', 2014);('NSC', 2015);('NSC', 2016);('NSC', 2017);('NSC', 2018);('NSC', 2019);('NSG', 2016);('NSG', 2017);('NSH', 2017);('NSH', 2018);('NSH', 2019);('NSP', 2011);('NST', 2007);('NST', 2008);('NST', 2009);('NST', 2010);('NST', 2011);('NST', 2012);('NST', 2013);('NST', 2014);('NST', 2015);('NST', 2016);('NST', 2017);('NST', 2018);('NST', 2019);('NT2', 2010);('NT2', 2011);('NT2', 2012);('NT2', 2013);('NT2', 2014);('NT2', 2015);('NT2', 2016);('NT2', 2017);('NT2', 2018);('NT2', 2019);('NTB', 2010);('NTB', 2011);('NTB', 2012);('NTB', 2014);('NTB', 2015);('NTB', 2016);('NTC', 2017);('NTC', 2018);('NTC', 2019);('NTH', 2019);('NTL', 2008);('NTL', 2009);('NTL', 2010);('NTL', 2011);('NTL', 2012);('NTL', 2013);('NTL', 2014);('NTL', 2015);('NTL', 2016);('NTL', 2017);('NTL', 2018);('NTL', 2019);('NTP', 2007)"
     ]
    },
    {
     "name": "stdout",
     "output_type": "stream",
     "text": [
      ";('NTP', 2008);('NTP', 2009);('NTP', 2010);('NTP', 2011);('NTP', 2012);('NTP', 2013);('NTP', 2014);('NTP', 2015);('NTP', 2016);('NTP', 2017);('NTP', 2018);('NTP', 2019);('NVL', 2017);('NVL', 2018);('NVL', 2019);('NVT', 2010);('NVT', 2011);('NVT', 2012);('NVT', 2013);('NVT', 2014);('NVT', 2015);('NVT', 2016);('NVT', 2017);('NVT', 2018);('NVT', 2019);('OCH', 2011);('OCH', 2012);('OCH', 2013);('OCH', 2014);('OCH', 2016);('OCH', 2017);('OCH', 2018);('OGC', 2010);('OGC', 2011);('OGC', 2012);('OGC', 2013);('OGC', 2014);('OGC', 2015);('OGC', 2016);('OGC', 2017);('OGC', 2018);('OGC', 2019);('OIL', 2018);('OIL', 2019);('ONE', 2008);('ONE', 2009);('ONE', 2010);('ONE', 2011);('ONE', 2012);('ONE', 2013);('ONE', 2014);('ONE', 2015);('ONE', 2016);('ONE', 2017);('ONE', 2018);('ONE', 2019);('OPC', 2009);('OPC', 2010);('OPC', 2011);('OPC', 2012);('OPC', 2013);('OPC', 2014);('OPC', 2015);('OPC', 2016);('OPC', 2017);('OPC', 2018);('OPC', 2019);('PAC', 2007);('PAC', 2008);('PAC', 2009);('PAC', 2010);('PAC', 2011);('PAC', 2012);('PAC', 2013);('PAC', 2014);('PAC', 2015);('PAC', 2016);('PAC', 2017);('PAC', 2018);('PAC', 2019);('PAN', 2007);('PAN', 2008);('PAN', 2009);('PAN', 2010);('PAN', 2011);('PAN', 2012);('PAN', 2013);('PAN', 2014);('PAN', 2015);('PAN', 2016);('PAN', 2017);('PAN', 2018);('PAN', 2019);('PBP', 2015);('PBP', 2016);('PBP', 2017);('PC1', 2017);('PC1', 2018);('PC1', 2019);('PCE', 2016);('PCE', 2017);('PCE', 2019);('PCG', 2011);('PCG', 2012);('PCG', 2013);('PCG', 2014);('PCG', 2015);('PCG', 2016);('PCG', 2017);('PCG', 2018);('PCT', 2010);('PCT', 2011);('PCT', 2012);('PCT', 2013);('PCT', 2014);('PCT', 2015);('PCT', 2016);('PCT', 2017);('PDB', 2015);('PDB', 2016);('PDB', 2017);('PDB', 2018);('PDB', 2019);('PDN', 2012);('PDN', 2013);('PDN', 2014);('PDN', 2015);('PDN', 2016);('PDN', 2017);('PDN', 2018);('PDN', 2019);('PDR', 2010);('PDR', 2011);('PDR', 2012);('PDR', 2013);('PDR', 2014);('PDR', 2015);('PDR', 2016);('PDR', 2017);('PDR', 2018);('PDR', 2019);('PEN', 2015);('PFL', 2011);('PFL', 2012);('PFL', 2013);('PFL', 2014);('PFL', 2015);('PFL', 2016);('PFL', 2017);('PFL', 2018);('PFL', 2019);('PGC', 2007);('PGC', 2008);('PGC', 2009);('PGC', 2010);('PGC', 2011);('PGC', 2012);('PGC', 2013);('PGC', 2014);('PGC', 2015);('PGC', 2016);('PGC', 2017);('PGC', 2018);('PGC', 2019);('PGD', 2010);('PGD', 2011);('PGD', 2012);('PGD', 2013);('PGD', 2014);('PGD', 2015);('PGD', 2016);('PGD', 2017);('PGD', 2018);('PGD', 2019);('PGN', 2019);('PGS', 2008);('PGS', 2009);('PGS', 2010);('PGS', 2011);('PGS', 2012);('PGS', 2013);('PGS', 2014);('PGS', 2015);('PGS', 2016);('PGS', 2017);('PGS', 2018);('PGS', 2019);('PGT', 2010);('PGT', 2011);('PGT', 2012);('PGT', 2013);('PGT', 2014);('PGT', 2015);('PGT', 2016);('PGT', 2017);('PGT', 2018);('PGT', 2019);('PGV', 2018);('PGV', 2019);('PHC', 2010);('PHC', 2011);('PHC', 2012);('PHC', 2013);('PHC', 2014);('PHC', 2015);('PHC', 2016);('PHC', 2017);('PHC', 2018);('PHC', 2019);('PHH', 2010);('PHH', 2011);('PHH', 2012);('PHH', 2013);('PHH', 2014);('PHH', 2015);('PHH', 2016);('PHH', 2017);('PHN', 2019);('PHP', 2015);('PHP', 2016);('PHP', 2017);('PHP', 2018);('PHP', 2019);('PHR', 2010);('PHR', 2011);('PHR', 2012);('PHR', 2013);('PHR', 2014);('PHR', 2015);('PHR', 2016);('PHR', 2017);('PHR', 2018);('PHR', 2019);('PIA', 2017);('PIA', 2018);('PIA', 2019);('PIC', 2017);('PIC', 2018);('PIC', 2019);('PJC', 2007);('PJC', 2008);('PJC', 2009);('PJC', 2010);('PJC', 2017);('PJT', 2007);('PJT', 2008);('PJT', 2009);('PJT', 2010);('PJT', 2011);('PJT', 2012);('PJT', 2013);('PJT', 2014);('PJT', 2015);('PJT', 2016);('PJT', 2017);('PJT', 2018);('PJT', 2019);('PLC', 2007);('PLC', 2008);('PLC', 2009);('PLC', 2010);('PLC', 2011);('PLC', 2012);('PLC', 2013);('PLC', 2014);('PLC', 2015);('PLC', 2016);('PLC', 2017);('PLC', 2018);('PLC', 2019);('PLP', 2018);('PLP', 2019);('PLX', 2017);('PLX', 2018);('PLX', 2019);('PMB', 2016);('PMC', 2010);('PMC', 2011);('PMC', 2012);('PMC', 2013);('PMC', 2014);('PMC', 2015);('PMC', 2016);('PMC', 2017);('PMC', 2018);('PMC', 2019);('PME', 2018);('PME', 2019);('PMG', 2018);('PMG', 2019);('PMS', 2004);('PMS', 2005);('PMS', 2006);('PMS', 2007);('PMS', 2008);('PMS', 2009);('PMS', 2010);('PMS', 2011);('PMS', 2014);('PMS', 2015);('PMS', 2016);('PMS', 2017);('PMS', 2018);('PMS', 2019);('PMT', 2012);('PMT', 2017);('PMT', 2018);('PNG', 2019);('PNT', 2017);('POM', 2010);('POM', 2011);('POM', 2012);('POM', 2013);('POM', 2014);('POM', 2015);('POM', 2016);('POM', 2017);('POM', 2018);('POM', 2019);('POS', 2017);('POS', 2018);('POS', 2019);('POT', 2007);('POT', 2008);('POT', 2009);('POT', 2010);('POT', 2011);('POT', 2012);('POT', 2013);('POT', 2014);('POT', 2015);('POT', 2016);('POT', 2017);('POT', 2018);('POT', 2019);('POV', 2014);('POV', 2015);('POW', 2019);('PPC', 2006);('PPC', 2007);('PPC', 2008);('PPC', 2009);('PPC', 2010);('PPC', 2011);('PPC', 2012);('PPC', 2013);('PPC', 2014);('PPC', 2015);('PPC', 2016);('PPC', 2017);('PPC', 2018);('PPC', 2019);('PPE', 2013);('PPE', 2014);('PPE', 2015);('PPE', 2016);('PPE', 2017);('PPE', 2018);('PPG', 2007);('PPG', 2008);('PPG', 2009);('PPG', 2010);('PPG', 2011);('PPG', 2012);('PPG', 2013);('PPG', 2014);('PPG', 2015);('PPG', 2016);('PPH', 2018);('PPH', 2019);('PPI', 2010);('PPI', 2011);('PPI', 2012);('PPI', 2013);('PPI', 2014);('PPI', 2015);('PPI', 2016);('PPI', 2017);('PPI', 2018);('PPI', 2019);('PPP', 2009);('PPP', 2010);('PPP', 2011);('PPP', 2012);('PPP', 2013);('PPP', 2019);('PPS', 2011);('PPS', 2012);('PPS', 2013);('PPS', 2014);('PPS', 2015);('PPS', 2016);('PPS', 2017);('PPS', 2018);('PPS', 2019);('PRC', 2011);('PRT', 2018);('PRT', 2019);('PSB', 2010);('PSB', 2011);('PSB', 2012);('PSB', 2013);('PSB', 2014);('PSB', 2015);('PSB', 2016);('PSB', 2017);('PSB', 2018);('PSB', 2019);('PSC', 2007);('PSC', 2008);('PSC', 2009);('PSC', 2010);('PSC', 2014);('PSC', 2015);('PSC', 2016);('PSC', 2017);('PSE', 2015);('PSE', 2017);('PSE', 2018);('PSE', 2019);('PSG', 2011);('PSG', 2012);('PSG', 2013);('PSG', 2016);('PSL', 2016);('PSL', 2017);('PSL', 2018);('PSL', 2019);('PSP', 2010);('PSP', 2011);('PSP', 2012);('PSP', 2013);('PSP', 2014);('PSP', 2015);('PSP', 2016);('PSP', 2017);('PSP', 2018);('PSP', 2019);('PSW', 2018);('PTC', 2007);('PTC', 2008);('PTC', 2009);('PTC', 2010);('PTC', 2011);('PTC', 2012);('PTC', 2013);('PTC', 2014);('PTC', 2015);('PTC', 2016);('PTC', 2017);('PTC', 2018);('PTC', 2019);('PTD', 2016);('PTL', 2011);('PTL', 2012);('PTL', 2013);('PTL', 2014);('PTL', 2015);('PTL', 2016);('PTL', 2017);('PTL', 2018);('PTL', 2019);('PTM', 2009);('PTM', 2010);('PTM', 2016);('PTP', 2010);('PTP', 2012);('PTS', 2007);('PTS', 2008);('PTS', 2009);('PTS', 2010);('PTS', 2011);('PTS', 2012);('PTS', 2013);('PTS', 2014);('PTS', 2015);('PTS', 2016);('PTS', 2017);('PTS', 2018);('PTS', 2019);('PTT', 2016);('PV2', 2011);('PV2', 2012);('PV2', 2013);('PV2', 2014);('PV2', 2015);('PV2', 2016);('PV2', 2017);('PV2', 2018);('PV2', 2019);('PVA', 2009);('PVA', 2010);('PVA', 2011);('PVA', 2012);('PVA', 2013);('PVA', 2014);('PVA', 2015);('PVA', 2016);('PVB', 2014);('PVB', 2015);('PVB', 2016);('PVB', 2017);('PVB', 2018);('PVB', 2019);('PVC', 2008);('PVC', 2009);('PVC', 2010);('PVC', 2011);('PVC', 2012);('PVC', 2013);('PVC', 2014);('PVC', 2015);('PVC', 2016);('PVC', 2017);('PVC', 2018);('PVC', 2019);('PVD', 2007);('PVD', 2008);('PVD', 2009);('PVD', 2010);('PVD', 2011);('PVD', 2012);('PVD', 2013);('PVD', 2014);('PVD', 2015);('PVD', 2016);('PVD', 2017);('PVD', 2018);('PVD', 2019);('PVE', 2008);('PVE', 2009);('PVE', 2010);('PVE', 2011);('PVE', 2012);('PVE', 2013);('PVE', 2014);('PVE', 2015);('PVE', 2016);('PVE', 2017);('PVE', 2018);('PVG', 2009);('PVG', 2010);('PVG', 2011);('PVG', 2012);('PVG', 2013);('PVG', 2014);('PVG', 2015);('PVG', 2016);('PVG', 2017);('PVG', 2018);('PVG', 2019);('PVH', 2017);('PVL', 2010);('PVL', 2011);('PVL', 2012);('PVL', 2013);('PVL', 2014);('PVL', 2015);('PVL', 2016);('PVL', 2017);('PVL', 2018);('PVL', 2019);('PVM', 2017);('PVM', 2018);('PVM', 2019);('PVO', 2016);('PVO', 2017);('PVO', 2018);('PVO', 2019);('PVP', 2018);('PVP', 2019);('PVR', 2010);('PVR', 2011);('PVR', 2012);('PVR', 2013);('PVR', 2014);('PVR', 2015);('PVR', 2016);('PVS', 2008);('PVS', 2009);('PVS', 2010);('PVS', 2011);('PVS', 2012);('PVS', 2013);('PVS', 2014);('PVS', 2015);('PVS', 2016);('PVS', 2017);('PVS', 2018);('PVS', 2019);('PVT', 2008);('PVT', 2009);('PVT', 2010);('PVT', 2011);('PVT', 2012);('PVT', 2013);('PVT', 2014);('PVT', 2015);('PVT', 2016);('PVT', 2017);('PVT', 2018);('PVT', 2019);('PVV', 2019);('PVX', 2010);('PVX', 2011);('PVX', 2012);('PVX', 2013);('PVX', 2014);('PVX', 2015);('PVX', 2016);('PVX', 2017);('PVX', 2018);('PVX', 2019);('PWA', 2019);('PXA', 2011);('PXA', 2012);('PXA', 2013);('PXA', 2014);('PXA', 2015);('PXA', 2016);('PXA', 2017);('PXA', 2018);('PXI', 2010);('PXI', 2011);('PXI', 2012);('PXI', 2013);('PXI', 2014);('PXI', 2015);('PXI', 2016);('PXI', 2017);('PXI', 2018);('PXI', 2019);('PXL', 2011);('PXL', 2012);('PXL', 2013);('PXL', 2014);('PXL', 2015);('PXL', 2016);('PXL', 2017);('PXL', 2018);('PXL', 2019);('PXM', 2010);('PXM', 2011);('PXM', 2012);('PXM', 2013);('PXM', 2014);('PXM', 2015);('PXM', 2016);('PXS', 2010);('PXS', 2011);('PXS', 2012);('PXS', 2013)"
     ]
    },
    {
     "name": "stdout",
     "output_type": "stream",
     "text": [
      ";('PXS', 2014);('PXS', 2015);('PXS', 2016);('PXS', 2017);('PXS', 2018);('PXS', 2019);('PXT', 2010);('PXT', 2011);('PXT', 2012);('PXT', 2013);('PXT', 2014);('PXT', 2015);('PXT', 2016);('PXT', 2017);('PXT', 2018);('PXT', 2019);('QBS', 2015);('QBS', 2016);('QBS', 2017);('QBS', 2018);('QBS', 2019);('QCC', 2011);('QCC', 2012);('QCC', 2014);('QCC', 2015);('QCC', 2016);('QCG', 2010);('QCG', 2011);('QCG', 2012);('QCG', 2013);('QCG', 2014);('QCG', 2015);('QCG', 2016);('QCG', 2017);('QCG', 2018);('QCG', 2019);('QHD', 2010);('QHD', 2011);('QHD', 2012);('QHD', 2014);('QHD', 2015);('QHD', 2016);('QHD', 2017);('QHD', 2018);('QHW', 2018);('QNC', 2008);('QNC', 2009);('QNC', 2010);('QNC', 2011);('QNC', 2012);('QNC', 2013);('QNC', 2014);('QNC', 2015);('QNC', 2016);('QNC', 2017);('QNC', 2018);('QNS', 2017);('QNS', 2018);('QNS', 2019);('QTC', 2009);('QTC', 2010);('QTC', 2011);('QTC', 2012);('QTC', 2013);('QTC', 2014);('QTC', 2015);('QTC', 2016);('QTC', 2017);('QTP', 2017);('QTP', 2018);('QTP', 2019);('RAL', 2007);('RAL', 2008);('RAL', 2009);('RAL', 2010);('RAL', 2011);('RAL', 2012);('RAL', 2013);('RAL', 2014);('RAL', 2015);('RAL', 2016);('RAL', 2017);('RAL', 2018);('RAL', 2019);('RCC', 2017);('RCC', 2018);('RCC', 2019);('RCD', 2016);('RCD', 2017);('RCD', 2018);('RCL', 2007);('RCL', 2008);('RCL', 2009);('RCL', 2010);('RCL', 2011);('RCL', 2012);('RCL', 2013);('RCL', 2014);('RCL', 2015);('RCL', 2016);('RCL', 2017);('RCL', 2018);('RCL', 2019);('RDP', 2010);('RDP', 2011);('RDP', 2012);('RDP', 2013);('RDP', 2014);('RDP', 2015);('RDP', 2016);('RDP', 2017);('RDP', 2018);('RDP', 2019);('REE', 2002);('REE', 2003);('REE', 2004);('REE', 2005);('REE', 2006);('REE', 2007);('REE', 2008);('REE', 2009);('REE', 2010);('REE', 2011);('REE', 2012);('REE', 2013);('REE', 2014);('REE', 2015);('REE', 2016);('REE', 2017);('REE', 2018);('REE', 2019);('ROS', 2017);('ROS', 2018);('ROS', 2019);('S12', 2008);('S12', 2009);('S12', 2010);('S12', 2011);('S12', 2012);('S12', 2013);('S12', 2014);('S12', 2017);('S27', 2011);('S4A', 2016);('S4A', 2017);('S4A', 2018);('S4A', 2019);('S55', 2007);('S55', 2008);('S55', 2009);('S55', 2010);('S55', 2011);('S55', 2012);('S55', 2013);('S55', 2014);('S55', 2015);('S55', 2016);('S55', 2017);('S55', 2018);('S55', 2019);('S74', 2009);('S74', 2010);('S74', 2011);('S74', 2012);('S74', 2013);('S74', 2014);('S74', 2015);('S74', 2016);('S74', 2017);('S74', 2018);('S96', 2008);('S96', 2009);('S96', 2010);('S96', 2011);('S96', 2012);('S96', 2013);('S96', 2014);('S96', 2015);('S96', 2016);('S99', 2007);('S99', 2008);('S99', 2009);('S99', 2010);('S99', 2011);('S99', 2012);('S99', 2013);('S99', 2014);('S99', 2015);('S99', 2016);('S99', 2017);('S99', 2018);('S99', 2019);('SAB', 2017);('SAB', 2018);('SAB', 2019);('SAC', 2017);('SAC', 2018);('SAC', 2019);('SAF', 2007);('SAF', 2008);('SAF', 2009);('SAF', 2010);('SAF', 2014);('SAF', 2016);('SAF', 2017);('SAM', 2002);('SAM', 2003);('SAM', 2004);('SAM', 2005);('SAM', 2006);('SAM', 2007);('SAM', 2008);('SAM', 2009);('SAM', 2010);('SAM', 2011);('SAM', 2012);('SAM', 2013);('SAM', 2014);('SAM', 2015);('SAM', 2016);('SAM', 2017);('SAM', 2018);('SAM', 2019);('SAS', 2015);('SAS', 2016);('SAS', 2017);('SAS', 2018);('SAS', 2019);('SAV', 2002);('SAV', 2003);('SAV', 2004);('SAV', 2005);('SAV', 2006);('SAV', 2007);('SAV', 2008);('SAV', 2009);('SAV', 2010);('SAV', 2011);('SAV', 2012);('SAV', 2013);('SAV', 2014);('SAV', 2015);('SAV', 2016);('SAV', 2017);('SAV', 2018);('SAV', 2019);('SB1', 2017);('SB1', 2018);('SBA', 2010);('SBA', 2011);('SBA', 2012);('SBA', 2013);('SBA', 2014);('SBA', 2015);('SBA', 2016);('SBA', 2017);('SBA', 2018);('SBA', 2019);('SBD', 2018);('SBD', 2019);('SBL', 2019);('SBT', 2008);('SBT', 2009);('SBT', 2010);('SBT', 2011);('SBT', 2012);('SBT', 2013);('SBT', 2014);('SBT', 2015);('SBT', 2016);('SBT', 2017);('SBT', 2018);('SBT', 2019);('SBV', 2017);('SBV', 2018);('SBV', 2019);('SC5', 2008);('SC5', 2009);('SC5', 2010);('SC5', 2011);('SC5', 2012);('SC5', 2013);('SC5', 2014);('SC5', 2015);('SC5', 2016);('SC5', 2017);('SC5', 2018);('SC5', 2019);('SCC', 2007);('SCC', 2008);('SCC', 2009);('SCC', 2010);('SCC', 2011);('SCC', 2012);('SCC', 2019);('SCD', 2007);('SCD', 2008);('SCD', 2009);('SCD', 2010);('SCD', 2011);('SCD', 2012);('SCD', 2013);('SCD', 2014);('SCD', 2015);('SCD', 2016);('SCD', 2017);('SCD', 2018);('SCD', 2019);('SCI', 2015);('SCI', 2017);('SCI', 2018);('SCI', 2019);('SCJ', 2008);('SCJ', 2009);('SCJ', 2010);('SCJ', 2011);('SCJ', 2012);('SCJ', 2013);('SCJ', 2014);('SCJ', 2015);('SCJ', 2016);('SCJ', 2017);('SCJ', 2018);('SCO', 2011);('SCO', 2012);('SCR', 2011);('SCR', 2012);('SCR', 2013);('SCR', 2014);('SCR', 2015);('SCR', 2016);('SCR', 2017);('SCR', 2018);('SCR', 2019);('SD1', 2010);('SD1', 2011);('SD1', 2012);('SD1', 2013);('SD1', 2014);('SD1', 2015);('SD2', 2008);('SD2', 2009);('SD2', 2010);('SD2', 2011);('SD2', 2012);('SD2', 2013);('SD2', 2014);('SD2', 2015);('SD2', 2016);('SD2', 2017);('SD2', 2018);('SD2', 2019);('SD3', 2007);('SD3', 2008);('SD3', 2009);('SD3', 2010);('SD3', 2011);('SD3', 2012);('SD3', 2014);('SD3', 2015);('SD3', 2016);('SD3', 2017);('SD3', 2019);('SD4', 2008);('SD4', 2009);('SD4', 2010);('SD4', 2011);('SD4', 2012);('SD4', 2013);('SD4', 2014);('SD4', 2015);('SD4', 2016);('SD4', 2017);('SD4', 2018);('SD4', 2019);('SD5', 2007);('SD5', 2008);('SD5', 2009);('SD5', 2010);('SD5', 2011);('SD5', 2012);('SD5', 2013);('SD5', 2014);('SD5', 2015);('SD5', 2016);('SD5', 2017);('SD5', 2018);('SD5', 2019);('SD6', 2007);('SD6', 2008);('SD6', 2009);('SD6', 2010);('SD6', 2011);('SD6', 2012);('SD6', 2013);('SD6', 2014);('SD6', 2015);('SD6', 2016);('SD6', 2017);('SD6', 2018);('SD6', 2019);('SD7', 2007);('SD7', 2008);('SD7', 2009);('SD7', 2010);('SD7', 2011);('SD7', 2012);('SD7', 2013);('SD7', 2014);('SD7', 2015);('SD7', 2016);('SD7', 2017);('SD7', 2018);('SD8', 2016);('SD9', 2007);('SD9', 2008);('SD9', 2009);('SD9', 2010);('SD9', 2011);('SD9', 2012);('SD9', 2013);('SD9', 2014);('SD9', 2015);('SD9', 2016);('SD9', 2017);('SD9', 2018);('SD9', 2019);('SDB', 2010);('SDB', 2011);('SDB', 2012);('SDB', 2013);('SDB', 2014);('SDC', 2007);('SDC', 2008);('SDC', 2009);('SDC', 2010);('SDC', 2011);('SDC', 2014);('SDG', 2010);('SDG', 2011);('SDG', 2012);('SDG', 2013);('SDG', 2014);('SDG', 2019);('SDH', 2010);('SDH', 2011);('SDH', 2012);('SDH', 2013);('SDH', 2014);('SDH', 2015);('SDH', 2016);('SDH', 2017);('SDH', 2018);('SDI', 2014);('SDI', 2015);('SDI', 2016);('SDI', 2017);('SDI', 2018);('SDI', 2019);('SDJ', 2008);('SDJ', 2009);('SDJ', 2010);('SDJ', 2011);('SDJ', 2012);('SDJ', 2015);('SDJ', 2017);('SDK', 2014);('SDK', 2016);('SDK', 2017);('SDK', 2019);('SDN', 2007);('SDN', 2008);('SDN', 2009);('SDN', 2010);('SDN', 2015);('SDP', 2019);('SDT', 2007);('SDT', 2008);('SDT', 2009);('SDT', 2010);('SDT', 2011);('SDT', 2012);('SDT', 2013);('SDT', 2014);('SDT', 2015);('SDT', 2016);('SDT', 2017);('SDT', 2018);('SDT', 2019);('SDU', 2010);('SDU', 2011);('SDU', 2012);('SDU', 2013);('SDU', 2014);('SDU', 2015);('SDU', 2018);('SDY', 2007);('SDY', 2008);('SDY', 2009);('SDY', 2010);('SDY', 2011);('SDY', 2012);('SDY', 2013);('SDY', 2014);('SDY', 2015);('SEA', 2017);('SEA', 2018);('SEA', 2019);('SEB', 2009);('SEB', 2010);('SEB', 2011);('SEB', 2012);('SEB', 2013);('SEB', 2014);('SEB', 2017);('SEB', 2018);('SEB', 2019);('SEC', 2010);('SEC', 2011);('SEC', 2012);('SEC', 2013);('SEC', 2014);('SEC', 2015);('SFC', 2005);('SFC', 2006);('SFC', 2007);('SFC', 2008);('SFC', 2009);('SFC', 2010);('SFC', 2011);('SFC', 2012);('SFC', 2013);('SFC', 2014);('SFC', 2015);('SFC', 2016);('SFC', 2017);('SFC', 2018);('SFC', 2019);('SFG', 2015);('SFG', 2016);('SFG', 2017);('SFG', 2018);('SFG', 2019);('SFI', 2007);('SFI', 2008);('SFI', 2009);('SFI', 2010);('SFI', 2011);('SFI', 2012);('SFI', 2013);('SFI', 2014);('SFI', 2015);('SFI', 2016);('SFI', 2017);('SFI', 2018);('SFI', 2019);('SFN', 2007);('SFN', 2008);('SFN', 2009);('SFN', 2010);('SFN', 2011);('SFN', 2012);('SFN', 2013);('SFN', 2014);('SFN', 2015);('SFN', 2016);('SFN', 2017);('SFN', 2018);('SFN', 2019);('SGC', 2007);('SGC', 2008);('SGC', 2009);('SGC', 2010);('SGC', 2012);('SGC', 2016);('SGC', 2017);('SGO', 2016);('SGP', 2016);('SGP', 2017);('SGP', 2018);('SGP', 2019);('SGR', 2017);('SGR', 2018);('SGR', 2019);('SGS', 2011);('SGS', 2014);('SGS', 2015);('SGS', 2016);('SGS', 2017);('SGT', 2008);('SGT', 2009);('SGT', 2010);('SGT', 2011);('SGT', 2012);('SGT', 2013);('SGT', 2014);('SGT', 2015);('SGT', 2016);('SGT', 2017);('SGT', 2018);('SGT', 2019);('SHA', 2013);('SHA', 2014);('SHA', 2015);('SHA', 2016);('SHA', 2017);('SHA', 2018);('SHA', 2019);('SHC', 2019);('SHE', 2019);('SHG', 2016);('SHI', 2010);('SHI', 2011);('SHI', 2012);('SHI', 2013);('SHI', 2014);('SHI', 2015);('SHI', 2016);('SHI', 2017);('SHI', 2018);('SHI', 2019);('SHP', 2011);('SHP', 2012);('SHP', 2013);('SHP', 2014);('SHP', 2015);('SHP', 2016);('SHP', 2017);('SHP', 2018);('SHP', 2019);('SIC', 2007);('SIC', 2008);('SIC', 2009);('SIC', 2010);('SIC', 2011);('SIC', 2012);('SIC', 2013);('SIC', 2014);('SIC', 2015);('SIC', 2016);('SIC', 2017);('SIC', 2018);('SIC', 2019);('SII', 2013);('SII', 2014);('SII', 2015);('SII', 2016);('SII', 2017);('SII', 2018);('SII', 2019);('SIP', 2019);('SIV', 2017);('SIV', 2018);('SIV', 2019);('SJ1', 2007);('SJ1', 2008);('SJ1', 2009);('SJ1', 2010);('SJ1', 2011);('SJ1', 2012);('SJ1', 2013);('SJ1', 2014);('SJ1', 2015);('SJ1', 2016);('SJ1', 2017);('SJ1', 2018);('SJ1', 2019);('SJC', 2008);('SJC', 2009);('SJC', 2010);('SJC', 2011);('SJC', 2012);('SJC', 2013)"
     ]
    },
    {
     "name": "stdout",
     "output_type": "stream",
     "text": [
      ";('SJC', 2014);('SJC', 2015);('SJC', 2016);('SJC', 2017);('SJC', 2018);('SJC', 2019);('SJD', 2007);('SJD', 2008);('SJD', 2009);('SJD', 2010);('SJD', 2011);('SJD', 2012);('SJD', 2013);('SJD', 2014);('SJD', 2015);('SJD', 2016);('SJD', 2017);('SJD', 2018);('SJD', 2019);('SJE', 2007);('SJE', 2008);('SJE', 2009);('SJE', 2010);('SJE', 2011);('SJE', 2012);('SJE', 2013);('SJE', 2014);('SJE', 2015);('SJE', 2016);('SJE', 2017);('SJE', 2018);('SJE', 2019);('SJF', 2017);('SJF', 2018);('SJF', 2019);('SJM', 2008);('SJM', 2009);('SJM', 2010);('SJM', 2011);('SJM', 2012);('SJM', 2013);('SJM', 2014);('SJM', 2015);('SJM', 2017);('SJM', 2018);('SJM', 2019);('SJS', 2006);('SJS', 2007);('SJS', 2008);('SJS', 2009);('SJS', 2010);('SJS', 2011);('SJS', 2012);('SJS', 2013);('SJS', 2014);('SJS', 2015);('SJS', 2016);('SJS', 2017);('SJS', 2018);('SJS', 2019);('SKG', 2014);('SKG', 2015);('SKG', 2016);('SKG', 2017);('SKG', 2018);('SKG', 2019);('SKH', 2018);('SKH', 2019);('SKV', 2018);('SKV', 2019);('SLS', 2013);('SLS', 2014);('SLS', 2015);('SLS', 2016);('SLS', 2017);('SLS', 2018);('SLS', 2019);('SMB', 2011);('SMB', 2012);('SMB', 2013);('SMB', 2014);('SMB', 2015);('SMB', 2016);('SMB', 2017);('SMB', 2018);('SMB', 2019);('SMC', 2007);('SMC', 2008);('SMC', 2009);('SMC', 2010);('SMC', 2011);('SMC', 2012);('SMC', 2013);('SMC', 2014);('SMC', 2015);('SMC', 2016);('SMC', 2017);('SMC', 2018);('SMC', 2019);('SMT', 2010);('SMT', 2011);('SMT', 2012);('SMT', 2013);('SMT', 2014);('SMT', 2015);('SMT', 2016);('SMT', 2017);('SMT', 2018);('SNC', 2015);('SNC', 2016);('SNC', 2017);('SNC', 2018);('SNZ', 2018);('SNZ', 2019);('SPC', 2012);('SPI', 2013);('SPI', 2014);('SPI', 2015);('SPI', 2016);('SPI', 2017);('SPI', 2018);('SPI', 2019);('SPM', 2010);('SPM', 2011);('SPM', 2012);('SPM', 2013);('SPM', 2014);('SPM', 2015);('SPM', 2016);('SPM', 2017);('SPM', 2018);('SPM', 2019);('SPP', 2009);('SPP', 2010);('SPP', 2012);('SPP', 2013);('SPP', 2014);('SPP', 2015);('SPP', 2016);('SPP', 2017);('SPP', 2018);('SPP', 2019);('SPV', 2019);('SQC', 2010);('SQC', 2011);('SQC', 2012);('SRA', 2008);('SRA', 2009);('SRA', 2010);('SRA', 2011);('SRA', 2012);('SRA', 2013);('SRA', 2014);('SRA', 2017);('SRA', 2018);('SRA', 2019);('SRB', 2008);('SRB', 2009);('SRB', 2010);('SRB', 2011);('SRB', 2012);('SRB', 2013);('SRB', 2014);('SRB', 2015);('SRB', 2017);('SRB', 2018);('SRB', 2019);('SRC', 2010);('SRC', 2011);('SRC', 2012);('SRC', 2013);('SRC', 2014);('SRC', 2015);('SRC', 2016);('SRC', 2017);('SRC', 2018);('SRC', 2019);('SRF', 2010);('SRF', 2011);('SRF', 2012);('SRF', 2013);('SRF', 2014);('SRF', 2015);('SRF', 2016);('SRF', 2017);('SRF', 2018);('SRF', 2019);('SRT', 2017);('SRT', 2018);('SSC', 2005);('SSC', 2006);('SSC', 2007);('SSC', 2008);('SSC', 2009);('SSC', 2010);('SSC', 2011);('SSC', 2012);('SSC', 2013);('SSC', 2014);('SSC', 2015);('SSC', 2016);('SSC', 2017);('SSC', 2018);('SSC', 2019);('SSF', 2015);('SSM', 2009);('SSM', 2010);('SSM', 2011);('SSM', 2012);('SSM', 2013);('SSM', 2014);('SSM', 2015);('SSM', 2016);('SSM', 2017);('SSN', 2015);('SSN', 2016);('SSN', 2017);('SSN', 2018);('SSN', 2019);('STG', 2010);('STG', 2011);('STG', 2012);('STG', 2014);('STG', 2015);('STG', 2016);('STG', 2017);('STG', 2018);('STG', 2019);('STK', 2016);('STK', 2017);('STK', 2018);('STK', 2019);('STL', 2009);('STL', 2010);('STL', 2011);('STL', 2012);('STL', 2013);('STL', 2014);('STL', 2015);('STL', 2016);('STP', 2007);('STP', 2008);('STP', 2009);('STP', 2010);('STP', 2011);('STP', 2012);('STP', 2013);('STP', 2014);('STP', 2015);('STP', 2016);('STP', 2017);('STP', 2018);('STP', 2019);('STT', 2011);('STT', 2012);('STT', 2013);('STT', 2014);('STT', 2015);('STT', 2016);('STT', 2017);('STV', 2014);('STV', 2015);('STV', 2016);('STV', 2017);('STV', 2018);('SVI', 2009);('SVI', 2010);('SVI', 2011);('SVI', 2012);('SVI', 2013);('SVI', 2014);('SVI', 2015);('SVI', 2016);('SVI', 2017);('SVI', 2018);('SVI', 2019);('SVN', 2011);('SVN', 2015);('SVN', 2016);('SVN', 2017);('SVN', 2018);('SWC', 2016);('SWC', 2017);('SWC', 2018);('SWC', 2019);('SZC', 2019);('SZL', 2009);('SZL', 2010);('SZL', 2011);('SZL', 2012);('SZL', 2013);('SZL', 2014);('SZL', 2015);('SZL', 2016);('SZL', 2017);('SZL', 2018);('SZL', 2019);('TA9', 2016);('TA9', 2017);('TA9', 2018);('TA9', 2019);('TAC', 2007);('TAC', 2008);('TAC', 2009);('TAC', 2010);('TAC', 2011);('TAC', 2012);('TAC', 2013);('TAC', 2014);('TAC', 2015);('TAC', 2016);('TAC', 2017);('TAC', 2018);('TAC', 2019);('TAR', 2019);('TBC', 2007);('TBC', 2008);('TBC', 2009);('TBC', 2010);('TBC', 2011);('TBC', 2012);('TBC', 2013);('TBC', 2014);('TBC', 2015);('TBC', 2016);('TBC', 2017);('TBC', 2018);('TBC', 2019);('TBD', 2015);('TBD', 2016);('TBD', 2017);('TBD', 2018);('TBX', 2009);('TBX', 2010);('TBX', 2011);('TBX', 2014);('TC6', 2008);('TC6', 2009);('TC6', 2010);('TC6', 2011);('TC6', 2012);('TC6', 2013);('TC6', 2014);('TC6', 2015);('TC6', 2016);('TC6', 2017);('TC6', 2018);('TC6', 2019);('TCD', 2017);('TCD', 2018);('TCD', 2019);('TCL', 2010);('TCL', 2011);('TCL', 2012);('TCL', 2013);('TCL', 2014);('TCL', 2015);('TCL', 2016);('TCL', 2017);('TCL', 2018);('TCL', 2019);('TCM', 2008);('TCM', 2009);('TCM', 2010);('TCM', 2011);('TCM', 2012);('TCM', 2013);('TCM', 2014);('TCM', 2015);('TCM', 2016);('TCM', 2017);('TCM', 2018);('TCM', 2019);('TCO', 2012);('TCO', 2013);('TCO', 2014);('TCO', 2015);('TCO', 2016);('TCO', 2017);('TCO', 2018);('TCO', 2019);('TCR', 2007);('TCR', 2008);('TCR', 2009);('TCR', 2010);('TCR', 2011);('TCR', 2012);('TCR', 2013);('TCR', 2014);('TCR', 2015);('TCR', 2016);('TCR', 2017);('TCR', 2018);('TCR', 2019);('TCS', 2009);('TCS', 2010);('TCS', 2011);('TCS', 2012);('TCS', 2013);('TCS', 2014);('TCS', 2015);('TCS', 2016);('TCS', 2017);('TCS', 2018);('TCS', 2019);('TCW', 2017);('TCW', 2018);('TCW', 2019);('TDB', 2018);('TDC', 2010);('TDC', 2011);('TDC', 2012);('TDC', 2013);('TDC', 2014);('TDC', 2015);('TDC', 2016);('TDC', 2017);('TDC', 2018);('TDC', 2019);('TDG', 2017);('TDG', 2018);('TDG', 2019);('TDH', 2007);('TDH', 2008);('TDH', 2009);('TDH', 2010);('TDH', 2011);('TDH', 2012);('TDH', 2013);('TDH', 2014);('TDH', 2015);('TDH', 2016);('TDH', 2017);('TDH', 2018);('TDH', 2019);('TDN', 2009);('TDN', 2010);('TDN', 2011);('TDN', 2012);('TDN', 2013);('TDN', 2014);('TDN', 2015);('TDN', 2016);('TDN', 2017);('TDN', 2018);('TDN', 2019);('TDP', 2019);('TDS', 2016);('TDS', 2017);('TDS', 2018);('TDS', 2019);('TDT', 2018);('TDT', 2019);('TEG', 2018);('TEG', 2019);('TEL', 2018);('TET', 2010);('TET', 2011);('TFC', 2016);('TFC', 2017);('TFC', 2018);('TFC', 2019);('TGG', 2018);('TGG', 2019);('TGP', 2009);('TGP', 2010);('TGP', 2011);('TGP', 2012);('TGP', 2014);('TGP', 2017);('TGP', 2018);('TGP', 2019);('THB', 2009);('THB', 2010);('THB', 2011);('THB', 2012);('THB', 2013);('THB', 2014);('THB', 2015);('THB', 2016);('THB', 2017);('THB', 2018);('THB', 2019);('THG', 2011);('THG', 2012);('THG', 2013);('THG', 2014);('THG', 2015);('THG', 2016);('THG', 2017);('THG', 2018);('THG', 2019);('THI', 2017);('THI', 2018);('THI', 2019);('THS', 2014);('THT', 2009);('THT', 2010);('THT', 2011);('THT', 2012);('THT', 2013);('THT', 2014);('THT', 2015);('THT', 2016);('THT', 2017);('THT', 2018);('THT', 2019);('THV', 2011);('THV', 2012);('THV', 2013);('TIC', 2010);('TIC', 2011);('TIC', 2012);('TIC', 2013);('TIC', 2014);('TIC', 2015);('TIC', 2016);('TIC', 2017);('TID', 2019);('TIP', 2016);('TIP', 2017);('TIP', 2018);('TIP', 2019);('TIS', 2012);('TIS', 2014);('TIS', 2015);('TIS', 2016);('TIS', 2017);('TIS', 2018);('TIS', 2019);('TIX', 2010);('TIX', 2011);('TIX', 2012);('TIX', 2013);('TIX', 2014);('TIX', 2015);('TIX', 2016);('TIX', 2017);('TIX', 2018);('TIX', 2019);('TJC', 2008);('TJC', 2009);('TJC', 2010);('TJC', 2011);('TJC', 2012);('TJC', 2013);('TJC', 2014);('TJC', 2015);('TJC', 2016);('TJC', 2017);('TJC', 2018);('TJC', 2019);('TKC', 2010);('TKC', 2011);('TKC', 2012);('TKC', 2013);('TKC', 2014);('TKC', 2015);('TKC', 2016);('TKC', 2017);('TKC', 2018);('TKC', 2019);('TKU', 2006);('TKU', 2007);('TKU', 2008);('TKU', 2009);('TKU', 2010);('TKU', 2011);('TKU', 2012);('TKU', 2013);('TKU', 2014);('TKU', 2016);('TKU', 2017);('TKU', 2019);('TL4', 2015);('TL4', 2016);('TL4', 2017);('TL4', 2018);('TL4', 2019);('TLC', 2007);('TLC', 2008);('TLC', 2009);('TLC', 2010);('TLC', 2011);('TLC', 2012);('TLD', 2018);('TLD', 2019);('TLG', 2010);('TLG', 2011);('TLG', 2012);('TLG', 2013);('TLG', 2014);('TLG', 2015);('TLG', 2016);('TLG', 2017);('TLG', 2018);('TLG', 2019);('TLH', 2010);('TLH', 2011);('TLH', 2012);('TLH', 2013);('TLH', 2014);('TLH', 2015);('TLH', 2016);('TLH', 2017);('TLH', 2018);('TLH', 2019);('TLP', 2018);('TLP', 2019);('TLT', 2007);('TLT', 2008);('TLT', 2009);('TLT', 2010);('TLT', 2011);('TLT', 2012);('TLT', 2013);('TLT', 2014);('TLT', 2015);('TLT', 2016);('TLT', 2017);('TLT', 2018);('TLT', 2019);('TMP', 2009);('TMP', 2010);('TMP', 2011);('TMP', 2012);('TMP', 2013);('TMP', 2014);('TMP', 2015);('TMP', 2016);('TMP', 2017);('TMP', 2018)"
     ]
    },
    {
     "name": "stdout",
     "output_type": "stream",
     "text": [
      ";('TMP', 2019);('TMS', 2002);('TMS', 2003);('TMS', 2004);('TMS', 2005);('TMS', 2006);('TMS', 2007);('TMS', 2008);('TMS', 2009);('TMS', 2010);('TMS', 2011);('TMS', 2012);('TMS', 2013);('TMS', 2014);('TMS', 2015);('TMS', 2016);('TMS', 2017);('TMS', 2018);('TMS', 2019);('TMT', 2010);('TMT', 2011);('TMT', 2012);('TMT', 2013);('TMT', 2014);('TMT', 2015);('TMT', 2016);('TMT', 2017);('TMT', 2018);('TMT', 2019);('TN1', 2019);('TNB', 2010);('TNB', 2011);('TNB', 2012);('TNB', 2013);('TNB', 2014);('TNB', 2015);('TNB', 2016);('TNB', 2017);('TNB', 2018);('TNB', 2019);('TNC', 2008);('TNC', 2009);('TNC', 2010);('TNC', 2011);('TNC', 2012);('TNC', 2013);('TNC', 2014);('TNC', 2015);('TNC', 2016);('TNC', 2017);('TNC', 2018);('TNC', 2019);('TND', 2017);('TND', 2018);('TND', 2019);('TNG', 2008);('TNG', 2009);('TNG', 2010);('TNG', 2011);('TNG', 2012);('TNG', 2013);('TNG', 2014);('TNG', 2015);('TNG', 2016);('TNG', 2017);('TNG', 2018);('TNG', 2019);('TNI', 2017);('TNI', 2018);('TNI', 2019);('TNM', 2010);('TNM', 2011);('TNM', 2012);('TNM', 2013);('TNM', 2014);('TNM', 2016);('TNS', 2017);('TNS', 2018);('TNS', 2019);('TNT', 2010);('TNT', 2011);('TNT', 2012);('TNT', 2013);('TNT', 2014);('TNT', 2015);('TNT', 2016);('TNT', 2017);('TNT', 2018);('TNT', 2019);('TOP', 2015);('TOP', 2016);('TOP', 2017);('TOP', 2018);('TOP', 2019);('TPC', 2008);('TPC', 2009);('TPC', 2010);('TPC', 2011);('TPC', 2012);('TPC', 2013);('TPC', 2014);('TPC', 2015);('TPC', 2016);('TPC', 2017);('TPC', 2018);('TPC', 2019);('TPP', 2009);('TPP', 2010);('TPP', 2011);('TPP', 2012);('TPP', 2013);('TPP', 2014);('TPP', 2015);('TPP', 2016);('TPP', 2017);('TPP', 2018);('TPP', 2019);('TRA', 2009);('TRA', 2010);('TRA', 2011);('TRA', 2012);('TRA', 2013);('TRA', 2014);('TRA', 2015);('TRA', 2016);('TRA', 2017);('TRA', 2018);('TRA', 2019);('TRC', 2007);('TRC', 2008);('TRC', 2009);('TRC', 2010);('TRC', 2011);('TRC', 2012);('TRC', 2013);('TRC', 2014);('TRC', 2015);('TRC', 2016);('TRC', 2017);('TRC', 2018);('TRC', 2019);('TRS', 2016);('TS4', 2003);('TS4', 2004);('TS4', 2005);('TS4', 2006);('TS4', 2007);('TS4', 2008);('TS4', 2009);('TS4', 2010);('TS4', 2011);('TS4', 2012);('TS4', 2013);('TS4', 2014);('TS4', 2015);('TS4', 2016);('TS4', 2017);('TS4', 2018);('TS4', 2019);('TSB', 2011);('TSB', 2017);('TSC', 2008);('TSC', 2009);('TSC', 2010);('TSC', 2011);('TSC', 2012);('TSC', 2013);('TSC', 2014);('TSC', 2015);('TSC', 2016);('TSC', 2017);('TSC', 2018);('TSC', 2019);('TST', 2008);('TST', 2009);('TST', 2010);('TST', 2011);('TST', 2012);('TST', 2013);('TST', 2014);('TST', 2015);('TST', 2016);('TST', 2017);('TST', 2018);('TST', 2019);('TTB', 2015);('TTB', 2016);('TTB', 2017);('TTB', 2018);('TTB', 2019);('TTC', 2006);('TTC', 2007);('TTC', 2008);('TTC', 2009);('TTC', 2010);('TTC', 2011);('TTC', 2012);('TTC', 2013);('TTC', 2014);('TTC', 2015);('TTC', 2016);('TTC', 2017);('TTC', 2018);('TTC', 2019);('TTD', 2017);('TTD', 2018);('TTE', 2019);('TTF', 2008);('TTF', 2009);('TTF', 2010);('TTF', 2011);('TTF', 2012);('TTF', 2013);('TTF', 2014);('TTF', 2015);('TTF', 2016);('TTF', 2017);('TTF', 2018);('TTF', 2019);('TTG', 2011);('TTG', 2012);('TTH', 2017);('TTH', 2018);('TTH', 2019);('TTN', 2017);('TTN', 2018);('TTN', 2019);('TTP', 2007);('TTP', 2008);('TTP', 2009);('TTP', 2010);('TTP', 2011);('TTP', 2012);('TTP', 2013);('TTP', 2014);('TTP', 2015);('TTZ', 2013);('TTZ', 2014);('TTZ', 2015);('TTZ', 2016);('TTZ', 2017);('TTZ', 2018);('TTZ', 2019);('TV1', 2011);('TV1', 2012);('TV1', 2013);('TV1', 2014);('TV1', 2015);('TV1', 2016);('TV1', 2017);('TV1', 2018);('TV2', 2019);('TV3', 2010);('TV3', 2011);('TV3', 2015);('TV3', 2016);('TV3', 2017);('TV3', 2018);('TV3', 2019);('TV4', 2008);('TV4', 2009);('TV4', 2010);('TV4', 2011);('TV4', 2012);('TV4', 2013);('TV4', 2014);('TV4', 2015);('TV4', 2016);('TV4', 2017);('TV4', 2018);('TV4', 2019);('TVA', 2017);('TVA', 2019);('TVD', 2011);('TVD', 2012);('TVD', 2013);('TVD', 2014);('TVD', 2015);('TVD', 2016);('TVD', 2017);('TVD', 2018);('TVD', 2019);('TVN', 2016);('TVN', 2017);('TVN', 2018);('TVN', 2019);('TVP', 2018);('TVP', 2019);('TVT', 2017);('TVT', 2018);('TVT', 2019);('TXM', 2007);('TXM', 2008);('TXM', 2009);('TXM', 2010);('TXM', 2011);('TXM', 2012);('TXM', 2013);('TXM', 2014);('TXM', 2015);('TXM', 2016);('TXM', 2017);('TXM', 2018);('TXM', 2019);('TYA', 2006);('TYA', 2007);('TYA', 2008);('TYA', 2009);('TYA', 2010);('TYA', 2011);('TYA', 2012);('TYA', 2013);('TYA', 2014);('TYA', 2015);('TYA', 2016);('TYA', 2017);('TYA', 2018);('TYA', 2019);('UDC', 2010);('UDC', 2011);('UDC', 2012);('UDC', 2013);('UDC', 2014);('UDC', 2015);('UDC', 2016);('UDC', 2017);('UDC', 2018);('UDC', 2019);('UDJ', 2010);('UDJ', 2011);('UDJ', 2012);('UDJ', 2013);('UDJ', 2014);('UDJ', 2015);('UDJ', 2016);('UDJ', 2017);('UDJ', 2018);('UDJ', 2019);('UIC', 2008);('UIC', 2009);('UIC', 2010);('UIC', 2011);('UIC', 2012);('UIC', 2013);('UIC', 2014);('UIC', 2015);('UIC', 2016);('UIC', 2017);('UIC', 2018);('UIC', 2019);('UNI', 2006);('UNI', 2007);('UNI', 2008);('UNI', 2009);('UNI', 2010);('UNI', 2011);('UNI', 2012);('UNI', 2013);('UNI', 2014);('UNI', 2015);('UNI', 2016);('UNI', 2017);('UNI', 2018);('UNI', 2019);('V11', 2009);('V11', 2010);('V11', 2011);('V11', 2012);('V11', 2013);('V11', 2014);('V11', 2015);('V12', 2010);('V12', 2011);('V12', 2012);('V12', 2013);('V12', 2014);('V12', 2015);('V12', 2016);('V12', 2017);('V12', 2018);('V15', 2010);('V15', 2011);('V15', 2012);('V15', 2013);('V15', 2014);('V15', 2015);('V15', 2016);('V15', 2017);('V21', 2010);('V21', 2011);('V21', 2012);('V21', 2016);('V21', 2017);('VAF', 2015);('VAF', 2016);('VAF', 2017);('VAF', 2018);('VAF', 2019);('VAT', 2011);('VAT', 2012);('VAT', 2014);('VAT', 2015);('VAT', 2016);('VAT', 2017);('VAT', 2018);('VAT', 2019);('VBC', 2010);('VBC', 2012);('VBC', 2017);('VBC', 2018);('VBC', 2019);('VBH', 2007);('VBH', 2008);('VBH', 2009);('VBH', 2010);('VBH', 2011);('VBH', 2012);('VBH', 2013);('VBH', 2014);('VBH', 2015);('VC1', 2009);('VC1', 2010);('VC1', 2011);('VC1', 2012);('VC1', 2013);('VC1', 2014);('VC1', 2015);('VC1', 2016);('VC1', 2017);('VC1', 2018);('VC1', 2019);('VC2', 2007);('VC2', 2008);('VC2', 2009);('VC2', 2010);('VC2', 2011);('VC2', 2012);('VC2', 2013);('VC2', 2014);('VC2', 2015);('VC2', 2016);('VC2', 2017);('VC2', 2018);('VC2', 2019);('VC3', 2008);('VC3', 2009);('VC3', 2010);('VC3', 2011);('VC3', 2014);('VC3', 2015);('VC3', 2016);('VC3', 2017);('VC3', 2018);('VC3', 2019);('VC5', 2008);('VC5', 2009);('VC5', 2010);('VC5', 2011);('VC5', 2012);('VC5', 2013);('VC5', 2014);('VC5', 2015);('VC5', 2016);('VC6', 2008);('VC6', 2009);('VC6', 2010);('VC6', 2011);('VC6', 2012);('VC6', 2013);('VC6', 2014);('VC6', 2015);('VC6', 2016);('VC6', 2017);('VC6', 2019);('VC7', 2008);('VC7', 2009);('VC7', 2010);('VC7', 2011);('VC7', 2012);('VC7', 2013);('VC7', 2014);('VC7', 2015);('VC7', 2016);('VC7', 2017);('VC7', 2018);('VC7', 2019);('VC9', 2010);('VC9', 2011);('VC9', 2012);('VC9', 2013);('VC9', 2014);('VC9', 2015);('VC9', 2016);('VC9', 2017);('VC9', 2018);('VCA', 2015);('VCA', 2016);('VCA', 2017);('VCA', 2018);('VCA', 2019);('VCC', 2009);('VCC', 2010);('VCC', 2011);('VCC', 2012);('VCC', 2013);('VCC', 2014);('VCC', 2015);('VCC', 2016);('VCC', 2017);('VCC', 2018);('VCC', 2019);('VCF', 2011);('VCF', 2012);('VCF', 2013);('VCF', 2014);('VCF', 2015);('VCF', 2016);('VCF', 2017);('VCF', 2018);('VCF', 2019);('VCG', 2009);('VCG', 2010);('VCG', 2011);('VCG', 2012);('VCG', 2013);('VCG', 2014);('VCG', 2015);('VCG', 2016);('VCG', 2017);('VCG', 2018);('VCG', 2019);('VCP', 2017);('VCP', 2018);('VCP', 2019);('VCS', 2008);('VCS', 2009);('VCS', 2010);('VCS', 2011);('VCS', 2012);('VCS', 2013);('VCS', 2014);('VCS', 2015);('VCS', 2016);('VCS', 2017);('VCS', 2018);('VCS', 2019);('VCX', 2017);('VCX', 2018);('VCX', 2019);('VDL', 2008);('VDL', 2009);('VDL', 2010);('VDL', 2012);('VDL', 2013);('VDL', 2014);('VDL', 2015);('VDL', 2016);('VDP', 2018);('VDP', 2019);('VDT', 2013);('VDT', 2017);('VE1', 2009);('VE1', 2010);('VE1', 2011);('VE1', 2012);('VE1', 2013);('VE1', 2014);('VE1', 2015);('VE1', 2016);('VE1', 2017);('VE1', 2018);('VE1', 2019);('VE2', 2010);('VE2', 2011);('VE2', 2014);('VE2', 2015);('VE2', 2016);('VE2', 2017);('VE3', 2010);('VE3', 2011);('VE3', 2012);('VE3', 2013);('VE3', 2014);('VE3', 2015);('VE3', 2016);('VE3', 2017);('VE3', 2018);('VE3', 2019);('VE4', 2015);('VE4', 2016);('VE8', 2013);('VE8', 2014);('VE8', 2015);('VE8', 2016);('VE8', 2017);('VE9', 2008);('VE9', 2009);('VE9', 2010);('VE9', 2011);('VE9', 2012);('VE9', 2013);('VE9', 2014);('VE9', 2015);('VE9', 2016);('VE9', 2017);('VE9', 2018);('VE9', 2019);('VEA', 2018);('VEA', 2019);('VEC', 2018);('VEC', 2019);('VES', 2010);('VES', 2011);('VES', 2012);('VES', 2015);('VES', 2016);('VES', 2017);('VET', 2018);('VFC', 2006)"
     ]
    },
    {
     "name": "stdout",
     "output_type": "stream",
     "text": [
      ";('VFC', 2007);('VFC', 2008);('VFC', 2009);('VFC', 2010);('VFC', 2011);('VFC', 2012);('VFC', 2014);('VFC', 2015);('VFG', 2010);('VFG', 2011);('VFG', 2012);('VFG', 2013);('VFG', 2014);('VFG', 2015);('VFG', 2016);('VFG', 2017);('VFG', 2018);('VFG', 2019);('VFR', 2007);('VFR', 2008);('VFR', 2009);('VFR', 2010);('VFR', 2011);('VFR', 2012);('VFR', 2013);('VFR', 2014);('VFR', 2015);('VFR', 2016);('VGC', 2016);('VGC', 2017);('VGC', 2018);('VGC', 2019);('VGG', 2016);('VGG', 2017);('VGG', 2018);('VGG', 2019);('VGI', 2019);('VGP', 2007);('VGP', 2008);('VGP', 2009);('VGP', 2010);('VGP', 2011);('VGP', 2012);('VGP', 2013);('VGP', 2014);('VGP', 2015);('VGP', 2016);('VGP', 2018);('VGS', 2009);('VGS', 2010);('VGS', 2011);('VGS', 2012);('VGS', 2013);('VGS', 2014);('VGS', 2015);('VGS', 2016);('VGS', 2017);('VGS', 2018);('VGS', 2019);('VGT', 2017);('VGT', 2018);('VGT', 2019);('VGV', 2018);('VHC', 2008);('VHC', 2009);('VHC', 2010);('VHC', 2011);('VHC', 2012);('VHC', 2013);('VHC', 2014);('VHC', 2015);('VHC', 2016);('VHC', 2017);('VHC', 2018);('VHC', 2019);('VHD', 2019);('VHE', 2019);('VHG', 2019);('VHH', 2010);('VHH', 2011);('VHH', 2012);('VHH', 2013);('VHH', 2014);('VHL', 2009);('VHL', 2010);('VHL', 2011);('VHL', 2012);('VHL', 2013);('VHL', 2014);('VHL', 2015);('VHL', 2016);('VHL', 2017);('VHL', 2018);('VHL', 2019);('VHM', 2018);('VHM', 2019);('VIC', 2008);('VIC', 2009);('VIC', 2010);('VIC', 2011);('VIC', 2012);('VIC', 2013);('VIC', 2014);('VIC', 2015);('VIC', 2016);('VIC', 2017);('VIC', 2018);('VIC', 2019);('VID', 2007);('VID', 2008);('VID', 2009);('VID', 2010);('VID', 2011);('VID', 2012);('VID', 2013);('VID', 2014);('VID', 2015);('VID', 2016);('VID', 2017);('VID', 2018);('VID', 2019);('VIF', 2017);('VIF', 2018);('VIF', 2019);('VIH', 2017);('VIH', 2018);('VIM', 2019);('VIN', 2016);('VIN', 2019);('VIP', 2007);('VIP', 2008);('VIP', 2009);('VIP', 2010);('VIP', 2011);('VIP', 2012);('VIP', 2013);('VIP', 2014);('VIP', 2015);('VIP', 2016);('VIP', 2017);('VIP', 2018);('VIP', 2019);('VIS', 2007);('VIS', 2008);('VIS', 2009);('VIS', 2010);('VIS', 2011);('VIS', 2012);('VIS', 2013);('VIS', 2014);('VIS', 2015);('VIS', 2016);('VIS', 2017);('VIS', 2018);('VIS', 2019);('VIT', 2010);('VIT', 2011);('VIT', 2012);('VIT', 2014);('VIT', 2015);('VIT', 2016);('VIT', 2017);('VIT', 2018);('VIT', 2019);('VJC', 2017);('VJC', 2018);('VJC', 2019);('VKC', 2011);('VKC', 2012);('VKC', 2013);('VKC', 2014);('VKC', 2015);('VKC', 2016);('VKC', 2017);('VKC', 2018);('VKC', 2019);('VKD', 2017);('VKD', 2018);('VKD', 2019);('VKP', 2008);('VKP', 2009);('VKP', 2010);('VKP', 2011);('VKP', 2012);('VKP', 2014);('VKP', 2015);('VKP', 2016);('VLB', 2017);('VLB', 2018);('VLB', 2019);('VLC', 2016);('VLC', 2017);('VLC', 2018);('VLC', 2019);('VLF', 2011);('VLF', 2012);('VLF', 2013);('VLF', 2014);('VLF', 2015);('VLF', 2016);('VLG', 2016);('VLG', 2017);('VLG', 2018);('VLG', 2019);('VMC', 2007);('VMC', 2008);('VMC', 2009);('VMC', 2010);('VMC', 2012);('VMC', 2013);('VMC', 2017);('VMC', 2018);('VMC', 2019);('VMD', 2011);('VMD', 2012);('VMD', 2013);('VMD', 2014);('VMD', 2015);('VMD', 2016);('VMD', 2017);('VMD', 2018);('VMD', 2019);('VMG', 2018);('VMG', 2019);('VMI', 2015);('VMI', 2016);('VMI', 2017);('VMI', 2018);('VMS', 2016);('VMS', 2017);('VMS', 2018);('VNA', 2009);('VNA', 2010);('VNA', 2011);('VNA', 2012);('VNA', 2013);('VNA', 2014);('VNA', 2015);('VNA', 2016);('VNA', 2017);('VNA', 2018);('VNA', 2019);('VNB', 2016);('VNB', 2017);('VNB', 2018);('VNE', 2007);('VNE', 2008);('VNE', 2009);('VNE', 2010);('VNE', 2011);('VNE', 2012);('VNE', 2013);('VNE', 2014);('VNE', 2015);('VNE', 2016);('VNE', 2017);('VNE', 2018);('VNE', 2019);('VNF', 2011);('VNF', 2012);('VNF', 2013);('VNF', 2014);('VNF', 2015);('VNF', 2016);('VNF', 2017);('VNH', 2010);('VNH', 2011);('VNH', 2012);('VNH', 2013);('VNH', 2014);('VNH', 2015);('VNH', 2016);('VNH', 2017);('VNI', 2010);('VNI', 2011);('VNI', 2012);('VNI', 2013);('VNI', 2014);('VNI', 2015);('VNI', 2016);('VNI', 2017);('VNI', 2018);('VNL', 2010);('VNL', 2011);('VNL', 2012);('VNL', 2013);('VNL', 2014);('VNL', 2015);('VNL', 2016);('VNL', 2017);('VNL', 2018);('VNL', 2019);('VNM', 2006);('VNM', 2007);('VNM', 2008);('VNM', 2009);('VNM', 2010);('VNM', 2011);('VNM', 2012);('VNM', 2013);('VNM', 2014);('VNM', 2015);('VNM', 2016);('VNM', 2017);('VNM', 2018);('VNM', 2019);('VNP', 2016);('VNP', 2017);('VNP', 2018);('VNP', 2019);('VNS', 2008);('VNS', 2009);('VNS', 2010);('VNS', 2011);('VNS', 2012);('VNS', 2013);('VNS', 2014);('VNS', 2015);('VNS', 2016);('VNS', 2017);('VNS', 2018);('VNS', 2019);('VNT', 2010);('VNT', 2011);('VNT', 2012);('VNT', 2013);('VNT', 2014);('VNT', 2015);('VNT', 2016);('VNT', 2017);('VNT', 2019);('VOC', 2017);('VOC', 2018);('VOC', 2019);('VOS', 2011);('VOS', 2012);('VOS', 2013);('VOS', 2014);('VOS', 2015);('VOS', 2016);('VOS', 2017);('VOS', 2018);('VOS', 2019);('VPD', 2018);('VPD', 2019);('VPH', 2010);('VPH', 2011);('VPH', 2012);('VPH', 2013);('VPH', 2014);('VPH', 2015);('VPH', 2016);('VPH', 2017);('VPH', 2018);('VPH', 2019);('VPI', 2018);('VPI', 2019);('VPL', 2008);('VPL', 2009);('VPL', 2010);('VPL', 2011);('VPS', 2016);('VPS', 2017);('VPS', 2018);('VPS', 2019);('VRC', 2010);('VRC', 2011);('VRC', 2012);('VRC', 2013);('VRC', 2014);('VRC', 2015);('VRC', 2016);('VRC', 2017);('VRC', 2018);('VRC', 2019);('VRE', 2018);('VRE', 2019);('VRG', 2017);('VRG', 2018);('VRG', 2019);('VSA', 2016);('VSA', 2017);('VSA', 2018);('VSA', 2019);('VSC', 2008);('VSC', 2009);('VSC', 2010);('VSC', 2011);('VSC', 2012);('VSC', 2013);('VSC', 2014);('VSC', 2015);('VSC', 2016);('VSC', 2017);('VSC', 2018);('VSC', 2019);('VSG', 2009);('VSG', 2010);('VSG', 2011);('VSG', 2012);('VSG', 2013);('VSG', 2014);('VSG', 2015);('VSH', 2006);('VSH', 2007);('VSH', 2008);('VSH', 2009);('VSH', 2010);('VSH', 2011);('VSH', 2012);('VSH', 2013);('VSH', 2014);('VSH', 2015);('VSH', 2016);('VSH', 2017);('VSH', 2018);('VSH', 2019);('VSM', 2018);('VSN', 2017);('VSN', 2018);('VSN', 2019);('VSP', 2007);('VSP', 2008);('VSP', 2009);('VSP', 2010);('VSP', 2011);('VSP', 2012);('VSP', 2013);('VSP', 2014);('VSP', 2015);('VST', 2009);('VST', 2010);('VST', 2011);('VST', 2012);('VST', 2013);('VST', 2014);('VST', 2015);('VST', 2016);('VTA', 2007);('VTA', 2008);('VTA', 2009);('VTA', 2010);('VTA', 2011);('VTA', 2012);('VTA', 2013);('VTA', 2014);('VTA', 2015);('VTA', 2016);('VTA', 2017);('VTA', 2018);('VTB', 2007);('VTB', 2008);('VTB', 2009);('VTB', 2010);('VTB', 2011);('VTB', 2012);('VTB', 2013);('VTB', 2014);('VTB', 2015);('VTB', 2016);('VTB', 2017);('VTB', 2018);('VTB', 2019);('VTC', 2003);('VTC', 2004);('VTC', 2005);('VTC', 2006);('VTC', 2007);('VTC', 2008);('VTC', 2009);('VTC', 2010);('VTC', 2011);('VTC', 2012);('VTC', 2013);('VTC', 2014);('VTC', 2015);('VTC', 2016);('VTC', 2017);('VTC', 2018);('VTC', 2019);('VTF', 2011);('VTF', 2012);('VTF', 2013);('VTF', 2014);('VTF', 2015);('VTJ', 2017);('VTK', 2019);('VTL', 2006);('VTL', 2007);('VTL', 2008);('VTL', 2009);('VTL', 2010);('VTO', 2008);('VTO', 2009);('VTO', 2010);('VTO', 2011);('VTO', 2012);('VTO', 2013);('VTO', 2014);('VTO', 2015);('VTO', 2016);('VTO', 2017);('VTO', 2018);('VTO', 2019);('VTS', 2007);('VTS', 2008);('VTS', 2009);('VTS', 2010);('VTS', 2011);('VTS', 2012);('VTS', 2013);('VTS', 2014);('VTS', 2017);('VTV', 2007);('VTV', 2008);('VTV', 2009);('VTV', 2010);('VTV', 2011);('VTV', 2012);('VTV', 2013);('VTV', 2014);('VTV', 2015);('VTV', 2016);('VTV', 2017);('VTV', 2018);('VTV', 2019);('VTX', 2014);('VTX', 2015);('VTX', 2016);('VTX', 2017);('VXB', 2012);('WCS', 2011);('WCS', 2012);('WCS', 2013);('WCS', 2014);('WCS', 2015);('WCS', 2016);('WCS', 2017);('WCS', 2018);('WCS', 2019);('WSB', 2011);('WSB', 2012);('WSB', 2014);('WSB', 2015);('WSB', 2016);('WSB', 2017);('WSB', 2018);('WSB', 2019);('X18', 2017);('X26', 2019);('XHC', 2017);('XPH', 2015);('XPH', 2016);('XPH', 2017);('XPH', 2018);('XPH', 2019);('YBC', 2008);('YBC', 2009);('YBC', 2010);('YBC', 2011);('YBC', 2012);('YBM', 2019);('YTC', 2018);"
     ]
    }
   ],
   "source": [
    "lstgr = []\n",
    "for name,gr in filtered_stocks.groupby(['TICKER','YEAR']):\n",
    "    print(name,end=';')\n",
    "    gr['PREV_CLOSE'] = gr['CLOSE'].shift(1,fill_value=gr['CLOSE'].iloc[0])\n",
    "    gr['RET'] = np.log(gr['CLOSE']/gr['PREV_CLOSE'])\n",
    "    gr['RET_ON_VOL'] = gr['RET']/gr[\"VND_VOLUME\"]\n",
    "    lstgr.append(gr)\n",
    "liquid_measure = pd.concat(lstgr)"
   ]
  },
  {
   "cell_type": "code",
   "execution_count": 13,
   "metadata": {},
   "outputs": [
    {
     "data": {
      "text/html": [
       "<div>\n",
       "<style scoped>\n",
       "    .dataframe tbody tr th:only-of-type {\n",
       "        vertical-align: middle;\n",
       "    }\n",
       "\n",
       "    .dataframe tbody tr th {\n",
       "        vertical-align: top;\n",
       "    }\n",
       "\n",
       "    .dataframe thead th {\n",
       "        text-align: right;\n",
       "    }\n",
       "</style>\n",
       "<table border=\"1\" class=\"dataframe\">\n",
       "  <thead>\n",
       "    <tr style=\"text-align: right;\">\n",
       "      <th></th>\n",
       "      <th>TICKER</th>\n",
       "      <th>DATE</th>\n",
       "      <th>CLOSE</th>\n",
       "      <th>VOLUME</th>\n",
       "      <th>YEAR</th>\n",
       "      <th>counts</th>\n",
       "      <th>VND_VOLUME</th>\n",
       "      <th>PREV_CLOSE</th>\n",
       "      <th>RET</th>\n",
       "      <th>RET_ON_VOL</th>\n",
       "    </tr>\n",
       "  </thead>\n",
       "  <tbody>\n",
       "    <tr>\n",
       "      <th>747</th>\n",
       "      <td>AAA</td>\n",
       "      <td>20170103</td>\n",
       "      <td>16.0114</td>\n",
       "      <td>694080</td>\n",
       "      <td>2017</td>\n",
       "      <td>250</td>\n",
       "      <td>1.111319e+10</td>\n",
       "      <td>16.0114</td>\n",
       "      <td>0.000000</td>\n",
       "      <td>0.000000e+00</td>\n",
       "    </tr>\n",
       "    <tr>\n",
       "      <th>746</th>\n",
       "      <td>AAA</td>\n",
       "      <td>20170104</td>\n",
       "      <td>16.2067</td>\n",
       "      <td>740770</td>\n",
       "      <td>2017</td>\n",
       "      <td>250</td>\n",
       "      <td>1.200544e+10</td>\n",
       "      <td>16.0114</td>\n",
       "      <td>0.012124</td>\n",
       "      <td>1.009856e-12</td>\n",
       "    </tr>\n",
       "    <tr>\n",
       "      <th>745</th>\n",
       "      <td>AAA</td>\n",
       "      <td>20170105</td>\n",
       "      <td>16.5321</td>\n",
       "      <td>1057020</td>\n",
       "      <td>2017</td>\n",
       "      <td>250</td>\n",
       "      <td>1.747476e+10</td>\n",
       "      <td>16.2067</td>\n",
       "      <td>0.019879</td>\n",
       "      <td>1.137595e-12</td>\n",
       "    </tr>\n",
       "    <tr>\n",
       "      <th>744</th>\n",
       "      <td>AAA</td>\n",
       "      <td>20170106</td>\n",
       "      <td>15.9464</td>\n",
       "      <td>823010</td>\n",
       "      <td>2017</td>\n",
       "      <td>250</td>\n",
       "      <td>1.312405e+10</td>\n",
       "      <td>16.5321</td>\n",
       "      <td>-0.036071</td>\n",
       "      <td>-2.748455e-12</td>\n",
       "    </tr>\n",
       "    <tr>\n",
       "      <th>743</th>\n",
       "      <td>AAA</td>\n",
       "      <td>20170109</td>\n",
       "      <td>16.9227</td>\n",
       "      <td>777440</td>\n",
       "      <td>2017</td>\n",
       "      <td>250</td>\n",
       "      <td>1.315638e+10</td>\n",
       "      <td>15.9464</td>\n",
       "      <td>0.059423</td>\n",
       "      <td>4.516653e-12</td>\n",
       "    </tr>\n",
       "  </tbody>\n",
       "</table>\n",
       "</div>"
      ],
      "text/plain": [
       "    TICKER      DATE    CLOSE   VOLUME  YEAR  counts    VND_VOLUME  \\\n",
       "747    AAA  20170103  16.0114   694080  2017     250  1.111319e+10   \n",
       "746    AAA  20170104  16.2067   740770  2017     250  1.200544e+10   \n",
       "745    AAA  20170105  16.5321  1057020  2017     250  1.747476e+10   \n",
       "744    AAA  20170106  15.9464   823010  2017     250  1.312405e+10   \n",
       "743    AAA  20170109  16.9227   777440  2017     250  1.315638e+10   \n",
       "\n",
       "     PREV_CLOSE       RET    RET_ON_VOL  \n",
       "747     16.0114  0.000000  0.000000e+00  \n",
       "746     16.0114  0.012124  1.009856e-12  \n",
       "745     16.2067  0.019879  1.137595e-12  \n",
       "744     16.5321 -0.036071 -2.748455e-12  \n",
       "743     15.9464  0.059423  4.516653e-12  "
      ]
     },
     "execution_count": 13,
     "metadata": {},
     "output_type": "execute_result"
    }
   ],
   "source": [
    "liquid_measure.head()"
   ]
  },
  {
   "cell_type": "code",
   "execution_count": 14,
   "metadata": {},
   "outputs": [],
   "source": [
    "Amihud_Illiquidity = liquid_measure[['TICKER','YEAR','RET_ON_VOL']].groupby(['TICKER','YEAR']).agg(['sum','count'])"
   ]
  },
  {
   "cell_type": "code",
   "execution_count": 16,
   "metadata": {},
   "outputs": [
    {
     "data": {
      "text/html": [
       "<div>\n",
       "<style scoped>\n",
       "    .dataframe tbody tr th:only-of-type {\n",
       "        vertical-align: middle;\n",
       "    }\n",
       "\n",
       "    .dataframe tbody tr th {\n",
       "        vertical-align: top;\n",
       "    }\n",
       "\n",
       "    .dataframe thead tr th {\n",
       "        text-align: left;\n",
       "    }\n",
       "\n",
       "    .dataframe thead tr:last-of-type th {\n",
       "        text-align: right;\n",
       "    }\n",
       "</style>\n",
       "<table border=\"1\" class=\"dataframe\">\n",
       "  <thead>\n",
       "    <tr>\n",
       "      <th></th>\n",
       "      <th></th>\n",
       "      <th colspan=\"2\" halign=\"left\">RET_ON_VOL</th>\n",
       "    </tr>\n",
       "    <tr>\n",
       "      <th></th>\n",
       "      <th></th>\n",
       "      <th>sum</th>\n",
       "      <th>count</th>\n",
       "    </tr>\n",
       "    <tr>\n",
       "      <th>TICKER</th>\n",
       "      <th>YEAR</th>\n",
       "      <th></th>\n",
       "      <th></th>\n",
       "    </tr>\n",
       "  </thead>\n",
       "  <tbody>\n",
       "    <tr>\n",
       "      <th rowspan=\"3\" valign=\"top\">AAA</th>\n",
       "      <th>2017</th>\n",
       "      <td>1.055925e-11</td>\n",
       "      <td>250</td>\n",
       "    </tr>\n",
       "    <tr>\n",
       "      <th>2018</th>\n",
       "      <td>-5.831967e-11</td>\n",
       "      <td>248</td>\n",
       "    </tr>\n",
       "    <tr>\n",
       "      <th>2019</th>\n",
       "      <td>-1.047013e-11</td>\n",
       "      <td>250</td>\n",
       "    </tr>\n",
       "    <tr>\n",
       "      <th rowspan=\"2\" valign=\"top\">AAM</th>\n",
       "      <th>2010</th>\n",
       "      <td>-2.251712e-09</td>\n",
       "      <td>250</td>\n",
       "    </tr>\n",
       "    <tr>\n",
       "      <th>2011</th>\n",
       "      <td>4.322852e-07</td>\n",
       "      <td>246</td>\n",
       "    </tr>\n",
       "  </tbody>\n",
       "</table>\n",
       "</div>"
      ],
      "text/plain": [
       "               RET_ON_VOL      \n",
       "                      sum count\n",
       "TICKER YEAR                    \n",
       "AAA    2017  1.055925e-11   250\n",
       "       2018 -5.831967e-11   248\n",
       "       2019 -1.047013e-11   250\n",
       "AAM    2010 -2.251712e-09   250\n",
       "       2011  4.322852e-07   246"
      ]
     },
     "execution_count": 16,
     "metadata": {},
     "output_type": "execute_result"
    }
   ],
   "source": [
    "Amihud_Illiquidity.head()"
   ]
  },
  {
   "cell_type": "code",
   "execution_count": null,
   "metadata": {},
   "outputs": [],
   "source": []
  }
 ],
 "metadata": {
  "kernelspec": {
   "display_name": "Python 3",
   "language": "python",
   "name": "python3"
  },
  "language_info": {
   "codemirror_mode": {
    "name": "ipython",
    "version": 3
   },
   "file_extension": ".py",
   "mimetype": "text/x-python",
   "name": "python",
   "nbconvert_exporter": "python",
   "pygments_lexer": "ipython3",
   "version": "3.8.5"
  }
 },
 "nbformat": 4,
 "nbformat_minor": 4
}
