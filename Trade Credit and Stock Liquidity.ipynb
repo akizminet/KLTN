{
 "cells": [
  {
   "cell_type": "code",
   "execution_count": 28,
   "metadata": {},
   "outputs": [],
   "source": [
    "import pandas as pd\n",
    "import numpy as np"
   ]
  },
  {
   "cell_type": "markdown",
   "metadata": {},
   "source": [
    "The sample used in this study contains firms on Vietnam stock exchange from 2002 to 2019. I exclude the following observations from the sample: **utility and financial firms** , **firms with non-positive total assets or sales**, **firms that are not traded on HNX, UPCOM, or HSX**, _firms with share codes other than 10 and 11_, firms with fewer than 100 daily stock price records during a fiscal year, and firms without sufficient data to calculate the control variables described below. In addition, I follow Love et al. (2007) and remove observations that imply trade credit of longer than 1 year. The final sample consists of 129,177 firm-year observations with 13,712 unique firms."
   ]
  },
  {
   "cell_type": "code",
   "execution_count": 2,
   "metadata": {},
   "outputs": [],
   "source": [
    "stockprices = pd.read_csv(\"StockPrices/CafeF.UPCOM.Upto02.10.2020.csv\")\\\n",
    "                .append(pd.read_csv(\"StockPrices/CafeF.HNX.Upto02.10.2020.csv\"))\\\n",
    "                .append(pd.read_csv(\"StockPrices/CafeF.HNX.Upto02.10.2020.csv\"))"
   ]
  },
  {
   "cell_type": "code",
   "execution_count": 3,
   "metadata": {},
   "outputs": [
    {
     "data": {
      "text/html": [
       "<div>\n",
       "<style scoped>\n",
       "    .dataframe tbody tr th:only-of-type {\n",
       "        vertical-align: middle;\n",
       "    }\n",
       "\n",
       "    .dataframe tbody tr th {\n",
       "        vertical-align: top;\n",
       "    }\n",
       "\n",
       "    .dataframe thead th {\n",
       "        text-align: right;\n",
       "    }\n",
       "</style>\n",
       "<table border=\"1\" class=\"dataframe\">\n",
       "  <thead>\n",
       "    <tr style=\"text-align: right;\">\n",
       "      <th></th>\n",
       "      <th>TICKER</th>\n",
       "      <th>DATE</th>\n",
       "      <th>CLOSE</th>\n",
       "      <th>VOLUME</th>\n",
       "    </tr>\n",
       "  </thead>\n",
       "  <tbody>\n",
       "    <tr>\n",
       "      <th>0</th>\n",
       "      <td>ABC</td>\n",
       "      <td>20191231</td>\n",
       "      <td>9.8000</td>\n",
       "      <td>300</td>\n",
       "    </tr>\n",
       "    <tr>\n",
       "      <th>1</th>\n",
       "      <td>ABI</td>\n",
       "      <td>20191231</td>\n",
       "      <td>30.6968</td>\n",
       "      <td>10300</td>\n",
       "    </tr>\n",
       "    <tr>\n",
       "      <th>2</th>\n",
       "      <td>ABR</td>\n",
       "      <td>20191231</td>\n",
       "      <td>11.7000</td>\n",
       "      <td>1501</td>\n",
       "    </tr>\n",
       "    <tr>\n",
       "      <th>3</th>\n",
       "      <td>ACV</td>\n",
       "      <td>20191231</td>\n",
       "      <td>75.0000</td>\n",
       "      <td>81718</td>\n",
       "    </tr>\n",
       "    <tr>\n",
       "      <th>4</th>\n",
       "      <td>ADG</td>\n",
       "      <td>20191231</td>\n",
       "      <td>42.2776</td>\n",
       "      <td>18900</td>\n",
       "    </tr>\n",
       "  </tbody>\n",
       "</table>\n",
       "</div>"
      ],
      "text/plain": [
       "  TICKER      DATE    CLOSE  VOLUME\n",
       "0    ABC  20191231   9.8000     300\n",
       "1    ABI  20191231  30.6968   10300\n",
       "2    ABR  20191231  11.7000    1501\n",
       "3    ACV  20191231  75.0000   81718\n",
       "4    ADG  20191231  42.2776   18900"
      ]
     },
     "execution_count": 3,
     "metadata": {},
     "output_type": "execute_result"
    }
   ],
   "source": [
    "stockprices.columns=[\"TICKER\",\"DATE\",\"OPEN\",\"HIGH\",\"LOW\",\"CLOSE\",\"VOLUME\"]\n",
    "stockprices = stockprices[(stockprices.DATE < 20200101) & (stockprices.DATE > 20011231)]\n",
    "stockprices.drop(columns=[\"OPEN\",\"HIGH\",\"LOW\"],inplace=True)\n",
    "stockprices.drop_duplicates(inplace=True)\n",
    "stockprices.reset_index(inplace=True,drop=True)\n",
    "stockprices.head()"
   ]
  },
  {
   "cell_type": "code",
   "execution_count": 4,
   "metadata": {},
   "outputs": [
    {
     "name": "stderr",
     "output_type": "stream",
     "text": [
      "/usr/local/lib/python3.8/dist-packages/IPython/core/interactiveshell.py:3145: DtypeWarning: Columns (0,1,3,4) have mixed types.Specify dtype option on import or set low_memory=False.\n",
      "  has_raised = await self.run_ast_nodes(code_ast.body, cell_name,\n"
     ]
    },
    {
     "data": {
      "text/html": [
       "<div>\n",
       "<style scoped>\n",
       "    .dataframe tbody tr th:only-of-type {\n",
       "        vertical-align: middle;\n",
       "    }\n",
       "\n",
       "    .dataframe tbody tr th {\n",
       "        vertical-align: top;\n",
       "    }\n",
       "\n",
       "    .dataframe thead th {\n",
       "        text-align: right;\n",
       "    }\n",
       "</style>\n",
       "<table border=\"1\" class=\"dataframe\">\n",
       "  <thead>\n",
       "    <tr style=\"text-align: right;\">\n",
       "      <th></th>\n",
       "      <th>TICKER</th>\n",
       "      <th>NAME</th>\n",
       "      <th>PRICE</th>\n",
       "      <th>EXCHANGE</th>\n",
       "      <th>URL</th>\n",
       "    </tr>\n",
       "  </thead>\n",
       "  <tbody>\n",
       "    <tr>\n",
       "      <th>0</th>\n",
       "      <td>A32</td>\n",
       "      <td>Công ty cổ phần 32</td>\n",
       "      <td>39.00</td>\n",
       "      <td>Upcom</td>\n",
       "      <td>/upcom/A32-cong-ty-co-phan-32.chn</td>\n",
       "    </tr>\n",
       "    <tr>\n",
       "      <th>1</th>\n",
       "      <td>AAA</td>\n",
       "      <td>Công ty Cổ phần Nhựa An Phát Xanh</td>\n",
       "      <td>12.45</td>\n",
       "      <td>HSX</td>\n",
       "      <td>/hose/AAA-cong-ty-co-phan-nhua-an-phat-xanh.chn</td>\n",
       "    </tr>\n",
       "    <tr>\n",
       "      <th>2</th>\n",
       "      <td>AAM</td>\n",
       "      <td>Công ty Cổ phần Thủy sản Mekong</td>\n",
       "      <td>11.70</td>\n",
       "      <td>HSX</td>\n",
       "      <td>/hose/AAM-cong-ty-co-phan-thuy-san-mekong.chn</td>\n",
       "    </tr>\n",
       "    <tr>\n",
       "      <th>3</th>\n",
       "      <td>AAV</td>\n",
       "      <td>Công ty Cổ phần Việt Tiên Sơn Địa ốc</td>\n",
       "      <td>8.70</td>\n",
       "      <td>HNX</td>\n",
       "      <td>/hastc/AAV-cong-ty-co-phan-viet-tien-son-dia-o...</td>\n",
       "    </tr>\n",
       "    <tr>\n",
       "      <th>4</th>\n",
       "      <td>ABC</td>\n",
       "      <td>Công ty cổ phần Truyền thông VMG</td>\n",
       "      <td>13.90</td>\n",
       "      <td>Upcom</td>\n",
       "      <td>/upcom/ABC-cong-ty-co-phan-truyen-thong-vmg.chn</td>\n",
       "    </tr>\n",
       "  </tbody>\n",
       "</table>\n",
       "</div>"
      ],
      "text/plain": [
       "  TICKER                                  NAME  PRICE EXCHANGE  \\\n",
       "0    A32                    Công ty cổ phần 32  39.00    Upcom   \n",
       "1    AAA     Công ty Cổ phần Nhựa An Phát Xanh  12.45      HSX   \n",
       "2    AAM       Công ty Cổ phần Thủy sản Mekong  11.70      HSX   \n",
       "3    AAV  Công ty Cổ phần Việt Tiên Sơn Địa ốc   8.70      HNX   \n",
       "4    ABC      Công ty cổ phần Truyền thông VMG  13.90    Upcom   \n",
       "\n",
       "                                                 URL  \n",
       "0                  /upcom/A32-cong-ty-co-phan-32.chn  \n",
       "1    /hose/AAA-cong-ty-co-phan-nhua-an-phat-xanh.chn  \n",
       "2      /hose/AAM-cong-ty-co-phan-thuy-san-mekong.chn  \n",
       "3  /hastc/AAV-cong-ty-co-phan-viet-tien-son-dia-o...  \n",
       "4    /upcom/ABC-cong-ty-co-phan-truyen-thong-vmg.chn  "
      ]
     },
     "execution_count": 4,
     "metadata": {},
     "output_type": "execute_result"
    }
   ],
   "source": [
    "companies = pd.read_csv(\"Companies.csv\")\n",
    "companies.head()"
   ]
  },
  {
   "cell_type": "markdown",
   "metadata": {},
   "source": [
    "# Liquidity measures\n",
    "**The illiquidity measure proposed by Amihud (2002) is used as the primary measure of stock liquidity in this study.** This measure is widely employed in the literature and has been demonstrated to be an appropriate proxy for stock illiquidity. For example, Goyenko et al. (2009) document that among 12 proxies that use daily data, the Amihud illiquidity measure most accurately captures price impact. Hasbrouck (2009) shows that, compared to other daily proxies, the Amihud illiquidity measure is the one most strongly correlated with a TAQ-based price impact coefficient. In addition, Fong et al. (2017) find that the Amihud illiquidity measure is the best daily cost-per-dollar-volume proxy. The Amihud illiquidity measure is calculated as the daily ratio of the absolute value of stock returns to dollar volume, averaged over firm i's fiscal year t:\n",
    "\n",
    "$$\\text{Amihud Illiquidity}_{i,t}=\\dfrac{1}{D_{i,t}}\\sum_{d=1}^{D}\\dfrac{\\left |\\text{Ret}_{t,d}  \\right |}{\\text{Dollar Volume}_{i,d}}$$\n",
    "\n",
    "Where $Ret$ and $\\text{Dollar Volume}$ are the return and dollar volume of firm i on day d, respectively, and D is the total number of trading days during firm i's fiscal year t.\n",
    "\n",
    "Since the distribution of the Amihud illiquidity measure is highly skewed, I follow Edmans et al.'s (2013) approach to modify the Amihud illiquidity measure by taking the natural logarithm of (Amihud illiquidity plus one). In addition, for the convenience of interpreting the empirical results, I multiply the modified Amihud illiquidity measure by −1 and name this measure “LiqAM”. Specifically, $LiqAM$ is defined as $–ln(\\text{Amihud illiquidity} + 1)$. A higher value of $LiqAM$ is associated with a higher level of stock liquidity.\n"
   ]
  },
  {
   "cell_type": "code",
   "execution_count": 5,
   "metadata": {},
   "outputs": [],
   "source": [
    "filtered_stocks = companies[\"TICKER\"].to_frame().merge(stockprices, on='TICKER',how='inner')"
   ]
  },
  {
   "cell_type": "code",
   "execution_count": 6,
   "metadata": {},
   "outputs": [
    {
     "data": {
      "text/html": [
       "<div>\n",
       "<style scoped>\n",
       "    .dataframe tbody tr th:only-of-type {\n",
       "        vertical-align: middle;\n",
       "    }\n",
       "\n",
       "    .dataframe tbody tr th {\n",
       "        vertical-align: top;\n",
       "    }\n",
       "\n",
       "    .dataframe thead th {\n",
       "        text-align: right;\n",
       "    }\n",
       "</style>\n",
       "<table border=\"1\" class=\"dataframe\">\n",
       "  <thead>\n",
       "    <tr style=\"text-align: right;\">\n",
       "      <th></th>\n",
       "      <th>TICKER</th>\n",
       "      <th>DATE</th>\n",
       "      <th>CLOSE</th>\n",
       "      <th>VOLUME</th>\n",
       "      <th>YEAR</th>\n",
       "    </tr>\n",
       "  </thead>\n",
       "  <tbody>\n",
       "    <tr>\n",
       "      <th>0</th>\n",
       "      <td>A32</td>\n",
       "      <td>20191224</td>\n",
       "      <td>27.2860</td>\n",
       "      <td>400</td>\n",
       "      <td>2019</td>\n",
       "    </tr>\n",
       "    <tr>\n",
       "      <th>1</th>\n",
       "      <td>A32</td>\n",
       "      <td>20191223</td>\n",
       "      <td>26.7994</td>\n",
       "      <td>200</td>\n",
       "      <td>2019</td>\n",
       "    </tr>\n",
       "    <tr>\n",
       "      <th>2</th>\n",
       "      <td>A32</td>\n",
       "      <td>20191220</td>\n",
       "      <td>26.7994</td>\n",
       "      <td>500</td>\n",
       "      <td>2019</td>\n",
       "    </tr>\n",
       "    <tr>\n",
       "      <th>3</th>\n",
       "      <td>A32</td>\n",
       "      <td>20191217</td>\n",
       "      <td>27.7236</td>\n",
       "      <td>100</td>\n",
       "      <td>2019</td>\n",
       "    </tr>\n",
       "    <tr>\n",
       "      <th>4</th>\n",
       "      <td>A32</td>\n",
       "      <td>20191126</td>\n",
       "      <td>25.8753</td>\n",
       "      <td>100</td>\n",
       "      <td>2019</td>\n",
       "    </tr>\n",
       "  </tbody>\n",
       "</table>\n",
       "</div>"
      ],
      "text/plain": [
       "  TICKER      DATE    CLOSE  VOLUME  YEAR\n",
       "0    A32  20191224  27.2860     400  2019\n",
       "1    A32  20191223  26.7994     200  2019\n",
       "2    A32  20191220  26.7994     500  2019\n",
       "3    A32  20191217  27.7236     100  2019\n",
       "4    A32  20191126  25.8753     100  2019"
      ]
     },
     "execution_count": 6,
     "metadata": {},
     "output_type": "execute_result"
    }
   ],
   "source": [
    "filtered_stocks['YEAR'] = filtered_stocks['DATE']//10000\n",
    "filtered_stocks.head()"
   ]
  },
  {
   "cell_type": "code",
   "execution_count": 9,
   "metadata": {},
   "outputs": [
    {
     "name": "stdout",
     "output_type": "stream",
     "text": [
      "<class 'pandas.core.frame.DataFrame'>\n",
      "RangeIndex: 6227 entries, 0 to 6226\n",
      "Data columns (total 3 columns):\n",
      " #   Column  Non-Null Count  Dtype \n",
      "---  ------  --------------  ----- \n",
      " 0   TICKER  6227 non-null   object\n",
      " 1   YEAR    6227 non-null   int64 \n",
      " 2   counts  6227 non-null   int64 \n",
      "dtypes: int64(2), object(1)\n",
      "memory usage: 146.1+ KB\n"
     ]
    }
   ],
   "source": [
    "lmstat = filtered_stocks[['TICKER','YEAR']].groupby(by=['TICKER','YEAR'])\\\n",
    "                                .size().reset_index(name='counts')\n",
    "lmstat.info()"
   ]
  },
  {
   "cell_type": "code",
   "execution_count": 10,
   "metadata": {},
   "outputs": [],
   "source": [
    "# remove firms with fewer than 100 daily stock price records during a fiscal year\n",
    "filtered_tickers = lmstat[lmstat.counts >= 100]"
   ]
  },
  {
   "cell_type": "code",
   "execution_count": 11,
   "metadata": {},
   "outputs": [],
   "source": [
    "filtered_stocks= filtered_stocks.merge(filtered_tickers, on=['TICKER','YEAR'],how='inner')"
   ]
  },
  {
   "cell_type": "code",
   "execution_count": 12,
   "metadata": {},
   "outputs": [],
   "source": [
    "filtered_stocks['VND_VOLUME'] = filtered_stocks['CLOSE']*filtered_stocks['VOLUME']*1000"
   ]
  },
  {
   "cell_type": "code",
   "execution_count": 13,
   "metadata": {},
   "outputs": [],
   "source": [
    "filtered_stocks.sort_values(by=['TICKER','DATE'],inplace=True)"
   ]
  },
  {
   "cell_type": "code",
   "execution_count": 33,
   "metadata": {},
   "outputs": [
    {
     "name": "stdout",
     "output_type": "stream",
     "text": [
      "('AAV', 2018);('AAV', 2019);('ABC', 2017);('ABC', 2018);('ABC', 2019);('ABR', 2019);('ACE', 2010);('ACE', 2016);('ACE', 2017);('ACE', 2018);('ACM', 2015);('ACM', 2016);('ACM', 2017);('ACM', 2018);('ACM', 2019);('ACV', 2017);('ACV', 2018);('ACV', 2019);('ADP', 2012);('ADP', 2016);('ADP', 2017);('ADP', 2018);('AFX', 2017);('AFX', 2018);('AFX', 2019);('AMC', 2016);('AMC', 2017);('AMC', 2018);('AME', 2010);('AME', 2011);('AME', 2012);('AME', 2013);('AME', 2014);('AME', 2015);('AME', 2019);('AMS', 2017);('AMS', 2018);('AMS', 2019);('AMV', 2010);('AMV', 2011);('AMV', 2012);('AMV', 2013);('AMV', 2014);('AMV', 2015);('AMV', 2016);('AMV', 2017);('AMV', 2018);('AMV', 2019);('ANT', 2017);('APF', 2018);('APF', 2019);('APP', 2011);('APP', 2012);('APP', 2013);('APP', 2014);('APP', 2015);('ASA', 2012);('ASA', 2013);('ASA', 2014);('ASA', 2015);('ASA', 2016);('ASA', 2017);('ASA', 2018);('ATB', 2018);('ATB', 2019);('ATS', 2016);('ATS', 2017);('ATS', 2018);('ATS', 2019);('AVC', 2018);('AVF', 2011);('AVF', 2012);('AVF', 2013);('AVF', 2014);('AVF', 2015);('AVF', 2016);('BAM', 2015);('BAX', 2019);('BBS', 2006);('BBS', 2007);('BBS', 2008);('BBS', 2009);('BBS', 2010);('BBS', 2011);('BBS', 2012);('BBS', 2013);('BBS', 2014);('BBS', 2015);('BBS', 2016);('BBS', 2017);('BBT', 2018);('BBT', 2019);('BCC', 2007);('BCC', 2008);('BCC', 2009);('BCC', 2010);('BCC', 2011);('BCC', 2012);('BCC', 2013);('BCC', 2014);('BCC', 2015);('BCC', 2016);('BCC', 2017);('BCC', 2018);('BCC', 2019);('BCM', 2018);('BCM', 2019);('BCP', 2018);('BCP', 2019);('BDG', 2019);('BDT', 2019);('BEL', 2019);('BHC', 2009);('BHC', 2010);('BHC', 2011);('BHC', 2012);('BHC', 2013);('BHP', 2017);('BHT', 2011);('BHT', 2015);('BHT', 2016);('BII', 2015);('BII', 2016);('BII', 2017);('BII', 2018);('BII', 2019);('BKC', 2010);('BKC', 2011);('BKC', 2012);('BKC', 2013);('BKC', 2014);('BKC', 2015);('BKC', 2017);('BLF', 2008);('BLF', 2009);('BLF', 2010);('BLF', 2011);('BLF', 2012);('BLF', 2013);('BLF', 2014);('BLF', 2015);('BLF', 2016);('BLF', 2017);('BLF', 2018);('BMJ', 2010);('BMJ', 2011);('BMJ', 2012);('BMJ', 2014);('BOT', 2019);('BPC', 2002);('BPC', 2003);('BPC', 2004);('BPC', 2005);('BPC', 2006);('BPC', 2007);('BPC', 2008);('BPC', 2009);('BPC', 2010);('BPC', 2011);('BPC', 2012);('BPC', 2013);('BPC', 2014);('BPC', 2015);('BPC', 2016);('BPC', 2017);('BSA', 2019);('BSG', 2017);('BSL', 2018);('BSL', 2019);('BSP', 2017);('BSP', 2018);('BSP', 2019);('BSQ', 2017);('BSQ', 2018);('BSQ', 2019);('BSR', 2018);('BSR', 2019);('BT6', 2017);('BTC', 2002);('BTC', 2003);('BTC', 2004);('BTC', 2005);('BTC', 2006);('BTC', 2007);('BTC', 2008);('BTC', 2009);('BTD', 2017);('BTD', 2018);('BTD', 2019);('BTS', 2007);('BTS', 2008);('BTS', 2009);('BTS', 2010);('BTS', 2011);('BTS', 2012);('BTS', 2013);('BTS', 2014);('BTS', 2015);('BTS', 2016);('BTS', 2017);('BTS', 2018);('BTS', 2019);('BUD', 2019);('BVG', 2010);('BVG', 2011);('BVG', 2012);('BVG', 2013);('BVG', 2014);('BVG', 2015);('BVG', 2017);('BVG', 2018);('BVG', 2019);('BVN', 2013);('BVN', 2014);('BVN', 2016);('BXH', 2010);('BXH', 2014);('BXH', 2015);('C21', 2017);('C21', 2018);('C21', 2019);('C4G', 2019);('C69', 2017);('C69', 2018);('C69', 2019);('C92', 2008);('C92', 2009);('C92', 2010);('C92', 2011);('C92', 2012);('C92', 2013);('C92', 2014);('C92', 2015);('C92', 2017);('CAD', 2009);('CAD', 2010);('CAD', 2011);('CAD', 2012);('CAD', 2013);('CAD', 2014);('CAD', 2015);('CAD', 2016);('CAN', 2002);('CAN', 2003);('CAN', 2004);('CAN', 2005);('CAN', 2006);('CAN', 2007);('CAN', 2008);('CAN', 2009);('CAN', 2010);('CAN', 2011);('CAN', 2012);('CAN', 2013);('CAN', 2014);('CAN', 2017);('CAP', 2008);('CAP', 2009);('CAP', 2010);('CAP', 2011);('CAP', 2012);('CAP', 2013);('CAP', 2014);('CAP', 2015);('CAP', 2016);('CAP', 2017);('CAP', 2018);('CAP', 2019);('CAT', 2019);('CCM', 2009);('CCM', 2010);('CCM', 2011);('CCM', 2012);('CCM', 2013);('CCM', 2014);('CCM', 2017);('CCM', 2018);('CDN', 2016);('CDN', 2017);('CDN', 2018);('CDN', 2019);('CDO', 2019);('CDP', 2019);('CEC', 2016);('CEN', 2018);('CEN', 2019);('CEO', 2015);('CEO', 2016);('CEO', 2017);('CEO', 2018);('CEO', 2019);('CET', 2017);('CET', 2018);('CET', 2019);('CFC', 2010);('CGP', 2016);('CGP', 2017);('CGV', 2017);('CGV', 2018);('CHS', 2017);('CHS', 2018);('CHS', 2019);('CIA', 2018);('CIA', 2019);('CID', 2007);('CID', 2008);('CID', 2009);('CID', 2010);('CJC', 2007);('CJC', 2008);('CJC', 2009);('CJC', 2010);('CJC', 2011);('CJC', 2014);('CKA', 2019);('CKD', 2017);('CLH', 2016);('CLH', 2017);('CLH', 2019);('CLS', 2009);('CLS', 2010);('CLS', 2011);('CLS', 2012);('CMC', 2007);('CMC', 2008);('CMC', 2009);('CMC', 2010);('CMC', 2011);('CMC', 2012);('CMC', 2013);('CMC', 2014);('CMN', 2018);('CMT', 2019);('CNC', 2014);('CNC', 2016);('CNC', 2017);('CNC', 2018);('CNC', 2019);('CNT', 2008);('CNT', 2009);('CNT', 2010);('CNT', 2011);('CNT', 2012);('CNT', 2013);('CNT', 2016);('CPC', 2010);('CPC', 2011);('CPC', 2012);('CPC', 2013);('CPC', 2014);('CPC', 2015);('CPC', 2016);('CPC', 2017);('CPC', 2018);('CPC', 2019);('CSC', 2010);('CSC', 2011);('CSC', 2012);('CSC', 2013);('CSC', 2014);('CSC', 2015);('CSC', 2016);('CSC', 2017);('CSC', 2018);('CSC', 2019);('CT3', 2019);('CTA', 2011);('CTA', 2012);('CTA', 2013);('CTA', 2014);('CTA', 2015);('CTA', 2016);('CTA', 2017);('CTB', 2007);('CTB', 2008);('CTB', 2009);('CTB', 2010);('CTB', 2012);('CTB', 2017);('CTB', 2018);('CTN', 2007);('CTN', 2008);('CTN', 2009);('CTN', 2010);('CTN', 2011);('CTN', 2012);('CTN', 2013);('CTN', 2014);('CTP', 2016);('CTP', 2017);('CTP', 2018);('CTP', 2019);('CTR', 2018);('CTR', 2019);('CTX', 2012);('CTX', 2014);('CTX', 2015);('CTX', 2016);('CTX', 2017);('CTX', 2018);('CTX', 2019);('CVN', 2010);('CVN', 2011);('CVN', 2012);('CVN', 2013);('CVN', 2014);('CVN', 2015);('CVN', 2016);('CVN', 2017);('CVN', 2018);('CVN', 2019);('CX8', 2010);('CX8', 2011);('CX8', 2012);('CX8', 2013);('CX8', 2014);('CX8', 2015);('CX8', 2016);('CYC', 2017);('CYC', 2018);('D11', 2011);('D11', 2012);('D11', 2013);('D11', 2017);('D11', 2018);('D11', 2019);('DAC', 2007);('DAC', 2008);('DAC', 2009);('DAC', 2010);('DAS', 2019);('DBD', 2017);('DBD', 2018);('DBM', 2010);('DBM', 2011);('DBM', 2012);('DBM', 2017);('DBT', 2010);('DBT', 2011);('DBT', 2012);('DBT', 2013);('DBT', 2014);('DBT', 2015);('DBT', 2016);('DBT', 2017);('DBT', 2018);('DBT', 2019);('DC1', 2017);('DC1', 2018);('DC2', 2010);('DC2', 2011);('DC2', 2012);('DC2', 2014);('DC2', 2015);('DC2', 2016);('DC2', 2017);('DC4', 2009);('DC4', 2010);('DC4', 2011);('DC4', 2012);('DC4', 2013);('DC4', 2014);('DC4', 2015);('DC4', 2016);('DC4', 2017);('DC4', 2018);('DC4', 2019);('DCF', 2017);('DCT', 2007);('DCT', 2008);('DCT', 2009);('DCT', 2010);('DCT', 2011);('DCT', 2012);('DCT', 2013);('DCT', 2014);('DCT', 2016);('DDG', 2019);('DDM', 2008);('DDM', 2009);('DDM', 2010);('DDM', 2011);('DDM', 2012);('DDM', 2015);('DDN', 2016);('DDN', 2017);('DDN', 2018);('DDV', 2015);('DDV', 2016);('DDV', 2017);('DDV', 2018);('DDV', 2019);('DGC', 2015);('DGC', 2016);('DGC', 2017);('DGC', 2018);('DGC', 2019);('DGL', 2016);('DGL', 2017);('DGL', 2018);('DGT', 2010);('DGT', 2011);('DGT', 2017);('DHD', 2017);('DHD', 2018);('DHD', 2019);('DHP', 2013);('DHP', 2014);('DHP', 2015);('DHP', 2016);('DHP', 2017);('DHP', 2018);('DHT', 2009);('DHT', 2010);('DHT', 2011);('DHT', 2012);('DHT', 2013);('DHT', 2014);('DHT', 2015);('DHT', 2016);('DHT', 2017);('DHT', 2018);('DHT', 2019);('DID', 2010);('DID', 2011);('DID', 2012);('DID', 2013);('DID', 2014);('DIH', 2012);('DIH', 2013);('DIH', 2014);('DIH', 2015);('DIH', 2016);('DIH', 2017);('DIH', 2018);('DIH', 2019);('DL1', 2010);('DL1', 2011);('DL1', 2012);('DL1', 2013);('DL1', 2014);('DL1', 2015);('DL1', 2016);('DL1', 2017);('DL1', 2018);('DNA', 2018);('DNC', 2010);('DNC', 2011);('DND', 2017);('DND', 2018);('DNL', 2015);('DNL', 2016);('DNL', 2017);('DNM', 2011);('DNM', 2012);('DNM', 2013);('DNM', 2014);('DNM', 2015);('DNM', 2016);('DNM', 2017);('DNM', 2018);('DNM', 2019);('DNP', 2016);('DNP', 2017);('DNP', 2018);('DNP', 2019);('DNS', 2010);('DNS', 2011);('DNS', 2014);('DNS', 2016);('DNS', 2017);('DNY', 2010);('DNY', 2011);('DNY', 2012);('DNY', 2013);('DNY', 2014);('DNY', 2015);('DNY', 2016);('DNY', 2017);('DNY', 2018);('DP3', 2016);('DP3', 2017);('DP3', 2018);('DP3', 2019);('DPC', 2002);('DPC', 2003);('DPC', 2004);('DPC', 2005);('DPC', 2006);('DPC', 2007);('DPC', 2008);('DPC', 2009);('DPC', 2010);('DPC', 2011);('DPC', 2012);('DPC', 2013);('DPC', 2014);('DPC', 2016);('DPC', 2017);('DPS', 2015);('DPS', 2016);('DPS', 2017);('DPS', 2018);('DPS', 2019);('DRI', 2017);('DRI', 2018);('DRI', 2019);('DSC', 2018);('DSC', 2019);('DSP', 2019);('DTC', 2007);('DTC', 2008);('DTC', 2009);('DTC', 2010);('DTC', 2011);('DTC', 2012);('DTC', 2014);('DTC', 2015);('DTC', 2018);('DTD', 2018);('DTD', 2019);('DTI', 2018);('DVN', 2017);('DVN', 2018);('DVN', 2019);('DXP', 2006);('DXP', 2007);('DXP', 2008);('DXP', 2009);('DXP', 2010);('DXP', 2011);('DXP', 2012);('DXP', 2013);('DXP', 2014);('DXP', 2015);('DXP', 2016);('DXP', 2017);('DXP', 2018);('DXP', 2019);('DZM', 2009);('DZM', 2010);('DZM', 2011);('DZM', 2012);('DZM', 2013);('DZM', 2014);('DZM', 2015);('DZM', 2016);('DZM', 2017);('DZM', 2018);('EIC', 2017);('EIN', 2017);('EIN', 2018);('EIN', 2019);('EME', 2018);('FBA', 2011);('FBA', 2012);('FBA', 2013);('FDG', 2011);('FDG', 2012);('FDG', 2013);('FOC', 2019);('FOX', 2017);('FOX', 2018);('FOX', 2019);('G20', 2018);('G20', 2019);('G36', 2017);('G36', 2018);('G36', 2019);('GEG', 2017);('GEG', 2018);('GEG', 2019);('GGG', 2010);('GGG', 2011);('GGG', 2012);('GGG', 2013);('GGG', 2014);('GGG', 2015);('GGG', 2016);('GHC', 2012);('GHC', 2013);('GHC', 2014);('GHC', 2015);('GHC', 2016);('GHC', 2017);('GHC', 2018);('GHC', 2019);('GKM', 2017);('GKM', 2018);('GKM', 2019);('GLT', 2010);('GLT', 2011);('GLT', 2012);('GLT', 2013);('GLT', 2014);('GLT', 2015);('GLT', 2016);('GLT', 2017);('GLT', 2018);('GLT', 2019);('GMX', 2012);('GMX', 2015);('GMX', 2016);('GMX', 2017);('GND', 2017);('GND', 2018);('GND', 2019);('GSM', 2015);('GSM', 2016);('GSM', 2017);('GSM', 2018);('GTH', 2010);('GTH', 2011);('GTH', 2012);('GTH', 2015);('GTS', 2019);('GTT', 2010);('GTT', 2011);('GTT', 2012);('GTT', 2013);('GTT', 2014);('GTT', 2015);('GTT', 2016);('GVT', 2019);('HAD', 2010);('HAD', 2012);('HAD', 2013);('HAD', 2014);('HAD', 2015);('HAD', 2016);('HAD', 2017);('HAD', 2018);('HAD', 2019);('HAF', 2019);('HAT', 2011);('HAT', 2012);('HAT', 2013);('HAT', 2014);('HAT', 2015);('HAT', 2016);('HAT', 2017);('HAT', 2018);('HAT', 2019);('HBD', 2014);('HBD', 2018);('HC3', 2017);('HC3', 2018);('HCC', 2008);('HCC', 2009);('HCC', 2010);('HCC', 2011);('HCC', 2012);('HCC', 2013);('HCC', 2014);('HCC', 2015);('HCC', 2016);('HCC', 2017);('HCC', 2018);('HCC', 2019);('HCT', 2008);('HCT', 2009);('HCT', 2010);('HCT', 2011);('HCT', 2012);('HCT', 2013);('HCT', 2014);('HCT', 2015);('HCT', 2016);('HCT', 2017);('HD2', 2016);('HD2', 2017);('HD2', 2018);('HD2', 2019);('HDA', 2011);('HDA', 2012);('HDA', 2013);('HDA', 2014);('HDA', 2015);('HDA', 2016);('HDA', 2017);('HDA', 2018);('HDA', 2019);('HDM', 2013);('HDM', 2014);('HDM', 2016);('HDM', 2017);('HDM', 2018);('HDM', 2019);('HDO', 2010);('HDO', 2011);('HDO', 2012);('HDO', 2013);('HDO', 2014);('HDO', 2015);('HDO', 2016);('HDO', 2017);('HDO', 2018);('HDO', 2019);('HDP', 2017);('HEM', 2017);('HEM', 2018);('HEM', 2019);('HGM', 2010);('HGM', 2011);('HGM', 2012);('HGM', 2013);('HGM', 2014);('HGM', 2015);('HGM', 2016);('HGM', 2018);('HHA', 2016);('HHC', 2008);('HHC', 2009);('HHC', 2010);('HHC', 2011);('HHC', 2012);('HHC', 2013);('HHC', 2014);('HHC', 2015);('HHC', 2016);('HHC', 2017);('HHC', 2018);('HHG', 2010);('HHG', 2011);('HHG', 2012);('HHG', 2013);('HHG', 2014);('HHG', 2015);('HHG', 2016);('HHG', 2017);('HHG', 2018);('HHG', 2019);('HHP', 2018);('HHP', 2019);('HIG', 2009);('HIG', 2010);('HIG', 2011);('HIG', 2012);('HIG', 2013);('HIG', 2014);('HIG', 2015);('HIG', 2016);('HIG', 2017);('HIG', 2018);('HIG', 2019);('HJS', 2007);('HJS', 2008);('HJS', 2009);('HJS', 2010);('HJS', 2011);('HJS', 2012);('HJS', 2013);('HJS', 2014);('HJS', 2015);('HJS', 2016);('HJS', 2017);('HJS', 2018);('HKB', 2015);('HKB', 2016);('HKB', 2017);('HKB', 2018);('HKB', 2019);('HKT', 2017);('HKT', 2018);('HLA', 2009);('HLA', 2010);('HLA', 2011);('HLA', 2012);('HLA', 2013);('HLA', 2014);('HLA', 2015);('HLA', 2016);('HLC', 2009);('HLC', 2010);('HLC', 2011);('HLC', 2012);('HLC', 2013);('HLC', 2014);('HLC', 2015);('HLC', 2016);('HLC', 2017);('HLC', 2018);('HLD', 2013);('HLD', 2014);('HLD', 2015);('HLD', 2016);('HLD', 2017);('HLD', 2018);('HLD', 2019);('HLY', 2007);('HLY', 2008);('HLY', 2009);('HLY', 2010);('HLY', 2017);('HMH', 2010);('HMH', 2011);('HMH', 2012);('HMH', 2013);('HMH', 2014);('HMH', 2015);('HMH', 2016);('HMH', 2017);('HMH', 2018);('HMH', 2019);('HMS', 2017);('HMS', 2018);('HMS', 2019);('HNA', 2018);('HNA', 2019);('HND', 2017);('HND', 2018);('HND', 2019);('HNF', 2016);('HNF', 2017);('HNI', 2018);('HNM', 2007);('HNM', 2008);('HNM', 2009);('HNM', 2010);('HNM', 2011);('HNM', 2012);('HNM', 2013);('HNM', 2014);('HNM', 2015);('HNM', 2016);('HNM', 2017);('HNM', 2018);('HNP', 2017);('HOM', 2009);('HOM', 2010);('HOM', 2011);('HOM', 2012);('HOM', 2013);('HOM', 2014);('HOM', 2015);('HOM', 2016);('HOM', 2017);('HOM', 2018);('HOM', 2019);('HPB', 2010);('HPB', 2011);('HPB', 2012);('HPB', 2013);('HPB', 2014);('HPD', 2016);('HPM', 2016);('HPM', 2017);('HPM', 2018);('HPP', 2017);('HPP', 2018);('HPP', 2019);('HPS', 2007);('HPS', 2008);('HPS', 2009);('HPS', 2010);('HPS', 2011);('HPT', 2010);('HPT', 2019);('HRT', 2017);('HRT', 2018);('HRT', 2019);('HSI', 2008);('HSI', 2009);('HSI', 2010);('HSI', 2011);('HSI', 2012);('HSI', 2013);('HSI', 2014);('HSI', 2015);('HSI', 2018);('HTE', 2018);('HTE', 2019);('HTG', 2017);('HTG', 2018);('HTG', 2019);('HU4', 2016);('HU4', 2017);('HU4', 2018);('HU4', 2019);('HU6', 2018);('HU6', 2019);('HUG', 2019);('HUT', 2008);('HUT', 2009);('HUT', 2010);('HUT', 2011);('HUT', 2012);('HUT', 2013);('HUT', 2014);('HUT', 2015);('HUT', 2016);('HUT', 2017);('HUT', 2018);('HUT', 2019);('HVA', 2015);('HVA', 2016);('HVA', 2017);('HVA', 2018);('HVT', 2009);('HVT', 2010);('HVT', 2011);('HVT', 2012);('HVT', 2013);('HVT', 2014);('HVT', 2015);('HVT', 2016);('HVT', 2017);('HVT', 2018);('HVT', 2019);('ICC', 2017);('ICC', 2018);('ICC', 2019);('ICG', 2009);('ICG', 2010);('ICG', 2011);('ICG', 2012);('ICG', 2013);('ICG', 2014);('ICG', 2015);('ICG', 2016);('ICG', 2017);('ICG', 2018);('ICG', 2019);('ICI', 2011);('ICI', 2012);('ICI', 2014);('ICI', 2015);('ICN', 2016);('ICN', 2017);('ICN', 2018);('IDJ', 2011);('IDJ', 2012);('IDJ', 2013);('IDJ', 2014);('IDJ', 2015);('IDJ', 2016);('IDJ', 2017);('IDJ', 2018);('IDJ', 2019);('IDV', 2010);('IDV', 2011);('IDV', 2014);('IDV', 2015);('IDV', 2016);('IDV', 2017);('IDV', 2018);('IDV', 2019);('IFC', 2016);('IFC', 2018);('IFC', 2019);('IFS', 2007);('IFS', 2008);('IFS', 2009);('IFS', 2010);('IFS', 2011);('IFS', 2012);('IFS', 2017);('IFS', 2018);('IFS', 2019);('ILA', 2018);('ILA', 2019);('ILS', 2018);('ILS', 2019);('IMT', 2010);('IMT', 2011);('INC', 2012);('INC', 2014);('INC', 2015);('INN', 2010);('INN', 2011);('INN', 2012);('INN', 2013);('INN', 2014);('INN', 2015);('INN', 2016);('INN', 2017);('INN', 2018);('INN', 2019);('ISH', 2017);('ITQ', 2013);('ITQ', 2014);('ITQ', 2015);('ITQ', 2016);('ITQ', 2017);('ITQ', 2018);('ITQ', 2019);('ITS', 2016);('ITS', 2017);('ITS', 2018);('ITS', 2019);('KCB', 2017);('KDF', 2018);('KDF', 2019);('KDM', 2016);('KDM', 2017);('KDM', 2018);('KDM', 2019);('KHA', 2018);('KHA', 2019);('KHD', 2019);('KHL', 2012);('KHL', 2013);('KHL', 2014);('KHL', 2015);('KHL', 2016);('KHS', 2018);('KHS', 2019);('KKC', 2009);('KKC', 2010);('KKC', 2011);('KKC', 2012);('KKC', 2013);('KKC', 2014);('KKC', 2015);('KKC', 2016);('KKC', 2017);('KKC', 2018);('KKC', 2019);('KMT', 2011);('KMT', 2012);('KSD', 2010);('KSD', 2011);('KSD', 2012);('KSD', 2013);('KSD', 2014);('KSD', 2015);('KSD', 2016);('KSD', 2017);('KSD', 2018);('KSK', 2014);('KSK', 2015);('KSK', 2016);('KSK', 2017);('KSK', 2018);('KSQ', 2013);('KSQ', 2014);('KSQ', 2015);('KSQ', 2016);('KSQ', 2017);('KSQ', 2018);('KSQ', 2019);('KSS', 2010);('KSS', 2011);('KSS', 2012);('KSS', 2013);('KSS', 2014);('KSS', 2015);('KSS', 2016);('KST', 2011);('KTL', 2015);('KTL', 2016);('KTL', 2017);('KTL', 2018);('KTL', 2019);('KTS', 2012);('KTS', 2013);('KTS', 2014);('KTS', 2016);('KTS', 2017);('KTS', 2018);('KTS', 2019);('KTT', 2011);('KTT', 2012);('KTT', 2013);('KTT', 2014);('KTT', 2016);('KTT', 2017);('KVC', 2015);('KVC', 2016);('KVC', 2017);('KVC', 2018);('KVC', 2019);('L14', 2013);('L14', 2014);('L14', 2015);('L14', 2016);('L14', 2017);('L14', 2018);('L14', 2019);('L18', 2008);('L18', 2009);('L18', 2010);('L18', 2011);('L18', 2012);('L18', 2013);('L18', 2014);('L18', 2015);('L35', 2010);('L35', 2011);('L35', 2012);('L35', 2013);('L35', 2014);('L35', 2015);('L35', 2016);('L35', 2019);('L43', 2008);('L43', 2009);('L43', 2010);('L43', 2011);('L43', 2012);('L43', 2014);('L44', 2010);('L44', 2011);('L44', 2012);('L44', 2013);('L44', 2014);('L44', 2015);('L44', 2016);('L44', 2017);('L61', 2009);('L61', 2010);('L61', 2011);('L61', 2012);('L61', 2013);('L61', 2014);('L61', 2015);('L61', 2016);('L61', 2017);('L61', 2018);('L62', 2008);('L62', 2009);('L62', 2010);('L62', 2011);('LAS', 2012);('LAS', 2013);('LAS', 2014);('LAS', 2015);('LAS', 2016);('LAS', 2017);('LAS', 2018);('LAS', 2019);('LCC', 2010);('LCC', 2011);('LCC', 2012);('LCS', 2010);('LCS', 2011);('LCS', 2012);('LCS', 2013);('LCS', 2014);('LCS', 2017);('LCS', 2018);('LDP', 2012);('LDP', 2013);('LDP', 2014);('LDP', 2015);('LDP', 2016);('LDP', 2017);('LDP', 2018);('LDP', 2019);('LHC', 2010);('LHC', 2011);('LHC', 2012);('LHC', 2013);('LHC', 2014);('LHC', 2015);('LHC', 2016);('LHC', 2017);('LHC', 2018);('LHC', 2019);('LIG', 2010);('LIG', 2011);('LIG', 2012);('LIG', 2013);('LIG', 2014);('LIG', 2015);('LIG', 2016);('LIG', 2017);('LIG', 2018);('LIG', 2019);('LLM', 2018);('LLM', 2019);('LM3', 2010);('LM3', 2011);('LM3', 2012);('LM3', 2013);('LM3', 2014);('LM7', 2011);('LM7', 2012);('LM7', 2013);('LM7', 2014);('LM7', 2018);('LO5', 2010);('LO5', 2011);('LO5', 2012);('LO5', 2013);('LO5', 2014);('LO5', 2015);('LTG', 2017);('LTG', 2018);('LTG', 2019);('LUT', 2008);('LUT', 2009);('LUT', 2010);('LUT', 2011);('LUT', 2012);('LUT', 2013);('LUT', 2014);('LUT', 2015);('LUT', 2016);('LUT', 2017);('LUT', 2018);('LUT', 2019);('M10', 2018);('M10', 2019);('MAC', 2010);('MAC', 2011);('MAC', 2012);('MAC', 2013);('MAC', 2014);('MAC', 2015);('MAC', 2016);('MAC', 2017);('MAC', 2018);('MAC', 2019);('MAS', 2010);('MAS', 2011);('MAS', 2014);('MAS', 2015);('MAS', 2016);('MAS', 2017);('MAS', 2018);('MAS', 2019);('MBG', 2016);('MBG', 2017);('MBG', 2018);('MBG', 2019);('MCC', 2010);('MCC', 2014);('MCC', 2015);('MCC', 2016);('MCC', 2017);('MCF', 2012);('MCF', 2013);('MCF', 2014);('MCF', 2015);('MCF', 2016);('MCF', 2017);('MCF', 2018);('MCH', 2017);('MCH', 2018);('MCH', 2019);('MCO', 2007);('MCO', 2008);('MCO', 2009);('MCO', 2010);('MCO', 2011);('MCO', 2012);('MCO', 2013);('MCO', 2014);('MCO', 2015);('MCO', 2016);('MCO', 2017);('MCO', 2018);('MCO', 2019);('MDC', 2009);('MDC', 2010);('MDC', 2011);('MDC', 2012);('MDC', 2013);('MDC', 2014);('MDC', 2015);('MDC', 2018);('MDC', 2019);('MDF', 2013);('MEC', 2007);('MEC', 2008);('MEC', 2009);('MEC', 2010);('MEC', 2011);('MEC', 2012);('MEC', 2013);('MEC', 2014);('MEC', 2015);('MEC', 2016);('MEC', 2017);('MEC', 2018);('MEC', 2019);('MFS', 2019);('MH3', 2018);('MH3', 2019);('MHL', 2010);('MHL', 2011);('MHL', 2017);('MHL', 2018);('MIC', 2008);('MIC', 2009);('MIC', 2010);('MIC', 2011);('MIC', 2012);('MIC', 2013);('MIC', 2014);('MIC', 2015);('MIM', 2011);('MKP', 2018);('MKP', 2019);('MKV', 2009);('MKV', 2010);('MKV', 2011);('MKV', 2012);('MKV', 2013);('MLN', 2018);('MLS', 2017);('MMC', 2008);('MMC', 2009);('MMC', 2010);('MMC', 2011);('MNC', 2011);('MNC', 2012);('MNC', 2013);('MNC', 2014);('MNC', 2015);('MNC', 2016);('MNC', 2017);('MPC', 2018);('MPC', 2019);('MPT', 2016);('MPT', 2017);('MPT', 2018);('MPT', 2019);('MSR', 2016);('MSR', 2017);('MSR', 2018);('MSR', 2019);('MST', 2016);('MST', 2017);('MST', 2018);('MST', 2019);('MTA', 2016);('MTA', 2017);('MTA', 2018);('MTA', 2019);('MTG', 2009);('MTG', 2010);('MTG', 2011);('MTG', 2012);('MTG', 2013);('MTG', 2014);('MTG', 2015);('MTG', 2016);('MTG', 2017);('MTG', 2018);('MTP', 2014);('MVB', 2017);('MVC', 2017);('MVC', 2018);('NAG', 2010);('NAG', 2011);('NAG', 2012);('NAG', 2013);('NAG', 2014);('NAG', 2015);('NAG', 2016);('NAG', 2017);('NAG', 2018);('NAG', 2019);('NAS', 2017);('NAS', 2018);('NAS', 2019);('NBC', 2007);('NBC', 2008);('NBC', 2009);('NBC', 2010);('NBC', 2011);('NBC', 2012);('NBC', 2013);('NBC', 2014);('NBC', 2015);('NBC', 2016);('NBC', 2017);('NBC', 2018);('NBC', 2019);('NBE', 2019);('NBP', 2009);('NBP', 2010);('NBP', 2011);('NBP', 2012);('NBP', 2013);('NBP', 2014);('NBP', 2015);('NBP', 2016);('NBP', 2018);('NCP', 2019);('NCS', 2016);('NCS', 2017);('NCS', 2018);('NCS', 2019);('ND2', 2011);('ND2', 2012);('ND2', 2014);('ND2', 2015);('ND2', 2016);('ND2', 2017);('ND2', 2018);('ND2', 2019);('NDC', 2014);('NDC', 2015);('NDF', 2015);('NDF', 2016);('NDF', 2017);('NDN', 2011);('NDN', 2012);('NDN', 2013);('NDN', 2014);('NDN', 2015);('NDN', 2016);('NDN', 2017);('NDN', 2018);('NDN', 2019);('NDP', 2017);('NDX', 2014);('NDX', 2015);('NDX', 2016);('NDX', 2017);('NDX', 2018);('NDX', 2019);('NED', 2018);('NET', 2011);('NET', 2012);('NET', 2013);('NET', 2014);('NET', 2015);('NET', 2016);('NET', 2017);('NET', 2018);('NET', 2019);('NGC', 2008);('NGC', 2009);('NGC', 2010);('NGC', 2011);('NGC', 2012);('NGC', 2014);('NGC', 2015);('NGC', 2016);('NHA', 2010);('NHA', 2011);('NHA', 2012);('NHA', 2013);('NHA', 2014);('NHA', 2015);('NHA', 2016);('NHA', 2017);('NHA', 2018);('NHA', 2019);('NHC', 2006);('NHC', 2007);('NHC', 2008);('NHC', 2009);('NHC', 2010);('NHC', 2011);('NHC', 2012);('NHC', 2014);('NHC', 2015);('NHC', 2016);('NHC', 2017);('NHP', 2015);('NHP', 2016);('NHP', 2017);('NHP', 2018);('NHP', 2019);('NHT', 2018);('NHT', 2019);('NHV', 2017);('NMK', 2016);('NNG', 2018);('NNG', 2019);('NOS', 2012);('NOS', 2014);('NOS', 2015);('NPS', 2008);('NPS', 2009);('NPS', 2010);('NPS', 2011);('NPS', 2013);('NPS', 2014);('NRC', 2018);('NRC', 2019);('NSG', 2016);('NSG', 2017);('NSH', 2017);('NSH', 2018);('NSH', 2019);('NSP', 2011);('NST', 2007);('NST', 2008);('NST', 2009);('NST', 2010);('NST', 2011);('NST', 2012);('NST', 2013);('NST', 2014);('NST', 2015);('NST', 2016);('NST', 2017);('NST', 2018);('NST', 2019);('NTB', 2010);('NTB', 2011);('NTB', 2012);('NTB', 2014);('NTB', 2015);('NTB', 2016);('NTC', 2017);('NTC', 2018);('NTC', 2019);('NTH', 2019);('NTP', 2007);('NTP', 2008);('NTP', 2009);('NTP', 2010);('NTP', 2011);('NTP', 2012);('NTP', 2013);('NTP', 2014);('NTP', 2015);('NTP', 2016);('NTP', 2017);('NTP', 2018);('NTP', 2019);('OCH', 2011);('OCH', 2012);('OCH', 2013);('OCH', 2014);('OCH', 2016);('OCH', 2017);('OCH', 2018);('OIL', 2018);('OIL', 2019);('ONE', 2008);('ONE', 2009);('ONE', 2010);('ONE', 2011);('ONE', 2012);('ONE', 2013);('ONE', 2014);('ONE', 2015);('ONE', 2016);('ONE', 2017);('ONE', 2018);('ONE', 2019);('PBP', 2015);('PBP', 2016);('PBP', 2017);('PCE', 2016);('PCE', 2017);('PCE', 2019);('PCG', 2011);('PCG', 2012);('PCG', 2013);('PCG', 2014);('PCG', 2015);('PCG', 2016);('PCG', 2017);('PCG', 2018);('PCT', 2010);('PCT', 2011);('PCT', 2012);('PCT', 2013);('PCT', 2014);('PCT', 2015);('PCT', 2016);('PCT', 2017);('PDB', 2015);('PDB', 2016);('PDB', 2017);('PDB', 2018);('PDB', 2019);('PEN', 2015);('PFL', 2011);('PFL', 2012);('PFL', 2013);('PFL', 2014);('PFL', 2015);('PFL', 2016);('PFL', 2017);('PFL', 2018);('PFL', 2019);('PGN', 2019);('PGS', 2008);('PGS', 2009);('PGS', 2010);('PGS', 2011);('PGS', 2012);('PGS', 2013);('PGS', 2014);('PGS', 2015);('PGS', 2016);('PGS', 2017);('PGS', 2018);('PGS', 2019);('PGT', 2010);('PGT', 2011);('PGT', 2012);('PGT', 2013);('PGT', 2014);('PGT', 2015);('PGT', 2016);('PGT', 2017);('PGT', 2018);('PGT', 2019);('PGV', 2018);('PGV', 2019);('PHC', 2010);('PHC', 2011);('PHC', 2012);('PHC', 2013);('PHC', 2014);('PHC', 2015);('PHC', 2016);('PHC', 2017);('PHC', 2018);('PHH', 2010);('PHH', 2011);('PHH', 2012);('PHH', 2013);('PHH', 2014);('PHH', 2015);('PHH', 2016);('PHH', 2017);('PHN', 2019);('PHP', 2015);('PHP', 2016);('PHP', 2017);('PHP', 2018);('PHP', 2019);('PIA', 2017);('PIA', 2018);('PIA', 2019);('PIC', 2017);('PIC', 2018);('PIC', 2019);('PJC', 2007);('PJC', 2008);('PJC', 2009);('PJC', 2010);('PJC', 2017);('PLC', 2007);('PLC', 2008);('PLC', 2009);('PLC', 2010);('PLC', 2011);('PLC', 2012);('PLC', 2013);('PLC', 2014);('PLC', 2015);('PLC', 2016);('PLC', 2017);('PLC', 2018);('PLC', 2019);('PMB', 2016);('PMC', 2010);('PMC', 2011);('PMC', 2012);('PMC', 2013);('PMC', 2014);('PMC', 2015);('PMC', 2016);('PMC', 2017);('PMC', 2018);('PMC', 2019);('PMS', 2004);('PMS', 2005);('PMS', 2006);('PMS', 2007);('PMS', 2008);('PMS', 2009);('PMS', 2010);('PMS', 2011);('PMS', 2014);('PMS', 2015);('PMS', 2016);('PMS', 2017);('PMS', 2018);('PMS', 2019);('PMT', 2012);('PMT', 2017);('PMT', 2018);('PNG', 2019);('PNT', 2017);('POS', 2017);('POS', 2018);('POS', 2019);('POT', 2007);('POT', 2008);('POT', 2009);('POT', 2010);('POT', 2011);('POT', 2012);('POT', 2013);('POT', 2014);('POT', 2015);('POT', 2016);('POT', 2017);('POT', 2018);('POT', 2019);('POV', 2014);('POV', 2015);('PPE', 2013);('PPE', 2014);('PPE', 2015);('PPE', 2016);('PPE', 2017);('PPE', 2018);('PPG', 2007);('PPG', 2008);('PPG', 2009);('PPG', 2010);('PPG', 2011);('PPG', 2012);('PPG', 2013);('PPG', 2014);('PPG', 2015);('PPG', 2016);('PPH', 2018);('PPH', 2019);('PPI', 2019);('PPP', 2009);('PPP', 2010);('PPP', 2011);('PPP', 2012);('PPP', 2013);('PPP', 2019);('PPS', 2011);('PPS', 2012);('PPS', 2013);('PPS', 2014);('PPS', 2015);('PPS', 2016);('PPS', 2017);('PPS', 2018);('PPS', 2019);('PRC', 2011);('PRT', 2018);('PRT', 2019);('PSB', 2010);('PSB', 2011);('PSB', 2012);('PSB', 2013);('PSB', 2014);('PSB', 2015);('PSB', 2016);('PSB', 2017);('PSB', 2018);('PSB', 2019);('PSC', 2007);('PSC', 2008);('PSC', 2009);('PSC', 2010);('PSC', 2014);('PSC', 2015);('PSC', 2016);('PSC', 2017);('PSE', 2015);('PSE', 2017);('PSE', 2018);('PSE', 2019);('PSG', 2011);('PSG', 2012);('PSG', 2013);('PSG', 2016);('PSL', 2016);('PSL', 2017);('PSL', 2018);('PSL', 2019);('PSP', 2010);('PSP', 2011);('PSP', 2012);('PSP', 2013);('PSP', 2014);('PSP', 2015);('PSP', 2016);('PSP', 2017);('PSP', 2018);('PSP', 2019);('PSW', 2018);('PTD', 2016);('PTM', 2009);('PTM', 2010);('PTM', 2016);('PTP', 2010);('PTP', 2012);('PTS', 2007);('PTS', 2008);('PTS', 2009);('PTS', 2010);('PTS', 2011);('PTS', 2012);('PTS', 2013);('PTS', 2014);('PTS', 2015);('PTS', 2016);('PTS', 2017);('PTS', 2018);('PTS', 2019);('PTT', 2016);('PV2', 2011);('PV2', 2012);('PV2', 2013);('PV2', 2014);('PV2', 2015);('PV2', 2016);('PV2', 2017);('PV2', 2018);('PV2', 2019);('PVA', 2009);('PVA', 2010);('PVA', 2011);('PVA', 2012);('PVA', 2013);('PVA', 2014);('PVA', 2015);('PVA', 2016);('PVB', 2014);('PVB', 2015);('PVB', 2016);('PVB', 2017);('PVB', 2018);('PVB', 2019);('PVC', 2008);('PVC', 2009);('PVC', 2010);('PVC', 2011);('PVC', 2012);('PVC', 2013);('PVC', 2014);('PVC', 2015);('PVC', 2016);('PVC', 2017);('PVC', 2018);('PVC', 2019);('PVE', 2008);('PVE', 2009);('PVE', 2010);('PVE', 2011);('PVE', 2012);('PVE', 2013);('PVE', 2014);('PVE', 2015);('PVE', 2016);('PVE', 2017);('PVE', 2018);('PVG', 2009);('PVG', 2010);('PVG', 2011);('PVG', 2012);('PVG', 2013);('PVG', 2014);('PVG', 2015);('PVG', 2016);('PVG', 2017);('PVG', 2018);('PVG', 2019);('PVH', 2017);('PVL', 2010);('PVL', 2011);('PVL', 2012);('PVL', 2013);('PVL', 2014);('PVL', 2015);('PVL', 2016);('PVL', 2017);('PVL', 2018);('PVL', 2019);('PVM', 2017);('PVM', 2018);('PVM', 2019);('PVO', 2016);('PVO', 2017);('PVO', 2018);('PVO', 2019);('PVP', 2018);('PVP', 2019);('PVR', 2010);('PVR', 2011);('PVR', 2012);('PVR', 2013);('PVR', 2014);('PVR', 2015);('PVR', 2016);('PVS', 2008);('PVS', 2009);('PVS', 2010);('PVS', 2011);('PVS', 2012);('PVS', 2013);('PVS', 2014);('PVS', 2015);('PVS', 2016);('PVS', 2017);('PVS', 2018);('PVS', 2019);('PVV', 2019);('PVX', 2010);('PVX', 2011);('PVX', 2012);('PVX', 2013);('PVX', 2014);('PVX', 2015);('PVX', 2016);('PVX', 2017);('PVX', 2018);('PVX', 2019);('PWA', 2019);('PXA', 2011);('PXA', 2012);('PXA', 2013);('PXA', 2014);('PXA', 2015);('PXA', 2016);('PXA', 2017);('PXA', 2018);('PXL', 2011);('PXL', 2012);('PXL', 2013);('PXL', 2014);('PXL', 2015);('PXL', 2016);('PXL', 2017);('PXL', 2018);('PXL', 2019);('PXM', 2010);('PXM', 2011);('PXM', 2012);('PXM', 2013);('PXM', 2014);('PXM', 2015);('PXM', 2016);('QCC', 2011);('QCC', 2012);('QCC', 2014);('QCC', 2015);('QCC', 2016);('QHD', 2010);('QHD', 2011);('QHD', 2012);('QHD', 2014);('QHD', 2015);('QHD', 2016);('QHD', 2017);('QHD', 2018);('QHW', 2018);('QNC', 2008);('QNC', 2009);('QNC', 2010);('QNC', 2011);('QNC', 2012);('QNC', 2013);('QNC', 2014);('QNC', 2015);('QNC', 2016);('QNC', 2017);('QNC', 2018);('QNS', 2017);('QNS', 2018);('QNS', 2019);('QTC', 2009);('QTC', 2010);('QTC', 2011);('QTC', 2012);('QTC', 2013);('QTC', 2014);('QTC', 2015);('QTC', 2016);('QTC', 2017);('QTP', 2017);('QTP', 2018);('QTP', 2019);('RCC', 2017);('RCC', 2018);('RCC', 2019);('RCD', 2016);('RCD', 2017);('RCD', 2018);('RCL', 2007);('RCL', 2008);('RCL', 2009);('RCL', 2010);('RCL', 2011);('RCL', 2012);('RCL', 2013);('RCL', 2014);('RCL', 2015);('RCL', 2016);('RCL', 2017);('RCL', 2018);('RCL', 2019);('S12', 2008);('S12', 2009);('S12', 2010);('S12', 2011);('S12', 2012);('S12', 2013);('S12', 2014);('S12', 2017);('S27', 2011);('S55', 2007);('S55', 2008);('S55', 2009);('S55', 2010);('S55', 2011);('S55', 2012);('S55', 2013);('S55', 2014);('S55', 2015);('S55', 2016);('S55', 2017);('S55', 2018);('S55', 2019);('S74', 2009);('S74', 2010);('S74', 2011);('S74', 2012);('S74', 2013);('S74', 2014);('S74', 2015);('S74', 2016);('S74', 2017);('S74', 2018);('S96', 2008);('S96', 2009);('S96', 2010);('S96', 2011);('S96', 2012);('S96', 2013);('S96', 2014);('S96', 2015);('S96', 2016);('S99', 2007);('S99', 2008);('S99', 2009);('S99', 2010);('S99', 2011);('S99', 2012);('S99', 2013);('S99', 2014);('S99', 2015);('S99', 2016);('S99', 2017);('S99', 2018);('S99', 2019);('SAC', 2017);('SAC', 2018);('SAC', 2019);('SAF', 2007);('SAF', 2008);('SAF', 2009);('SAF', 2010);('SAF', 2014);('SAF', 2016);('SAF', 2017);('SAS', 2015);('SAS', 2016);('SAS', 2017);('SAS', 2018);('SAS', 2019);('SB1', 2017);('SB1', 2018);('SBD', 2018);('SBD', 2019);('SBL', 2019);('SCC', 2007);('SCC', 2008);('SCC', 2009);('SCC', 2010);('SCC', 2011);('SCC', 2012);('SCC', 2019);('SCI', 2015);('SCI', 2017);('SCI', 2018);('SCI', 2019);('SCJ', 2008);('SCJ', 2009);('SCJ', 2010);('SCJ', 2011);('SCJ', 2012);('SCJ', 2013);('SCJ', 2014);('SCJ', 2015);('SCJ', 2016);('SCJ', 2017);('SCJ', 2018);('SCO', 2011);('SCO', 2012);('SCR', 2011);('SCR', 2012);('SCR', 2013);('SCR', 2014);('SCR', 2015);('SCR', 2016);('SD1', 2010);('SD1', 2011);('SD1', 2012);('SD1', 2013);('SD1', 2014);('SD1', 2015);('SD2', 2008);('SD2', 2009);('SD2', 2010);('SD2', 2011);('SD2', 2012);('SD2', 2013);('SD2', 2014);('SD2', 2015);('SD2', 2016);('SD2', 2017);('SD2', 2018);('SD2', 2019);('SD3', 2007);('SD3', 2008);('SD3', 2009);('SD3', 2010);('SD3', 2011);('SD3', 2012);('SD3', 2014);('SD3', 2015);('SD3', 2016);('SD3', 2017);('SD3', 2019);('SD4', 2008);('SD4', 2009);('SD4', 2010);('SD4', 2011);('SD4', 2012);('SD4', 2013);('SD4', 2014);('SD4', 2015);('SD4', 2016);('SD4', 2017);('SD4', 2018);('SD4', 2019);('SD5', 2007);('SD5', 2008);('SD5', 2009);('SD5', 2010);('SD5', 2011);('SD5', 2012);('SD5', 2013);('SD5', 2014);('SD5', 2015);('SD5', 2016);('SD5', 2017);('SD5', 2018);('SD5', 2019);('SD6', 2007);('SD6', 2008);('SD6', 2009);('SD6', 2010);('SD6', 2011);('SD6', 2012);('SD6', 2013);('SD6', 2014);('SD6', 2015);('SD6', 2016);('SD6', 2017);('SD6', 2018);('SD6', 2019);('SD7', 2007);('SD7', 2008);('SD7', 2009);('SD7', 2010);('SD7', 2011);('SD7', 2012);('SD7', 2013);('SD7', 2014);('SD7', 2015);('SD7', 2016);('SD7', 2017);('SD7', 2018);('SD8', 2016);('SD9', 2007);('SD9', 2008);('SD9', 2009);('SD9', 2010);('SD9', 2011);('SD9', 2012);('SD9', 2013);('SD9', 2014);('SD9', 2015);('SD9', 2016);('SD9', 2017);('SD9', 2018);('SD9', 2019);('SDB', 2010);('SDB', 2011);('SDB', 2012);('SDB', 2013);('SDB', 2014);('SDC', 2007);('SDC', 2008);('SDC', 2009);('SDC', 2010);('SDC', 2011);('SDC', 2014);('SDG', 2010);('SDG', 2011);('SDG', 2012);('SDG', 2013);('SDG', 2014);('SDG', 2019);('SDH', 2010);('SDH', 2011);('SDH', 2012);('SDH', 2013);('SDH', 2014);('SDH', 2015);('SDH', 2016);('SDH', 2017);('SDH', 2018);('SDI', 2014);('SDI', 2015);('SDI', 2016);('SDI', 2017);('SDI', 2018);('SDI', 2019);('SDJ', 2008);('SDJ', 2009);('SDJ', 2010);('SDJ', 2011);('SDJ', 2012);('SDJ', 2015);('SDJ', 2017);('SDK', 2014);('SDK', 2016);('SDK', 2017);('SDK', 2019);('SDN', 2007);('SDN', 2008);('SDN', 2009);('SDN', 2010);('SDN', 2015);('SDP', 2019);('SDT', 2007);('SDT', 2008);('SDT', 2009);('SDT', 2010);('SDT', 2011);('SDT', 2012);('SDT', 2013);('SDT', 2014);('SDT', 2015);('SDT', 2016);('SDT', 2017);('SDT', 2018);('SDT', 2019);('SDU', 2010);('SDU', 2011);('SDU', 2012);('SDU', 2013);('SDU', 2014);('SDU', 2015);('SDU', 2018);('SDY', 2007);('SDY', 2008);('SDY', 2009);('SDY', 2010);('SDY', 2011);('SDY', 2012);('SDY', 2013);('SDY', 2014);('SDY', 2015);('SEA', 2017);('SEA', 2018);('SEA', 2019);('SEB', 2009);('SEB', 2010);('SEB', 2011);('SEB', 2012);('SEB', 2013);('SEB', 2014);('SEB', 2017);('SEB', 2018);('SEB', 2019);('SFN', 2007);('SFN', 2008);('SFN', 2009);('SFN', 2010);('SFN', 2011);('SFN', 2012);('SFN', 2013);('SFN', 2014);('SFN', 2015);('SFN', 2016);('SFN', 2017);('SFN', 2018);('SFN', 2019);('SGC', 2007);('SGC', 2008);('SGC', 2009);('SGC', 2010);('SGC', 2012);('SGC', 2016);('SGC', 2017);('SGO', 2016);('SGP', 2016);('SGP', 2017);('SGP', 2018);('SGP', 2019);('SGR', 2017);('SGS', 2011);('SGS', 2014);('SGS', 2015);('SGS', 2016);('SGS', 2017);('SHA', 2013);('SHA', 2014);('SHA', 2015);('SHA', 2016);('SHC', 2019);('SHE', 2019);('SHG', 2016);('SIC', 2007);('SIC', 2008);('SIC', 2009);('SIC', 2010);('SIC', 2011);('SIC', 2012);('SIC', 2013);('SIC', 2014);('SIC', 2015);('SIC', 2016);('SIC', 2017);('SIC', 2018);('SIC', 2019);('SIP', 2019);('SIV', 2017);('SIV', 2018);('SIV', 2019);('SJ1', 2007);('SJ1', 2008);('SJ1', 2009);('SJ1', 2010);('SJ1', 2011);('SJ1', 2012);('SJ1', 2013);('SJ1', 2014);('SJ1', 2015);('SJ1', 2016);('SJ1', 2017);('SJ1', 2018);('SJ1', 2019);('SJC', 2008);('SJC', 2009);('SJC', 2010);('SJC', 2011);('SJC', 2012);('SJC', 2013);('SJC', 2014);('SJC', 2015);('SJC', 2016);('SJC', 2017);('SJC', 2018);('SJC', 2019);('SJE', 2007);('SJE', 2008);('SJE', 2009);('SJE', 2010);('SJE', 2011);('SJE', 2012);('SJE', 2013);('SJE', 2014);('SJE', 2015);('SJE', 2016);('SJE', 2017);('SJE', 2018);('SJE', 2019);('SJM', 2008);('SJM', 2009);('SJM', 2010);('SJM', 2011);('SJM', 2012);('SJM', 2013);('SJM', 2014);('SJM', 2015);('SJM', 2017);('SJM', 2018);('SJM', 2019);('SKH', 2018);('SKH', 2019);('SKV', 2018);('SKV', 2019);('SLS', 2013);('SLS', 2014);('SLS', 2015);('SLS', 2016);('SLS', 2017);('SLS', 2018);('SLS', 2019);('SMB', 2011);('SMB', 2012);('SMB', 2013);('SMB', 2014);('SMB', 2015);('SMB', 2016);('SMB', 2017);('SMB', 2018);('SMT', 2010);('SMT', 2011);('SMT', 2012);('SMT', 2013);('SMT', 2014);('SMT', 2015);('SMT', 2016);('SMT', 2017);('SMT', 2018);('SNC', 2015);('SNC', 2016);('SNC', 2017);('SNC', 2018);('SNZ', 2018);('SNZ', 2019);('SPC', 2012);('SPI', 2013);('SPI', 2014);('SPI', 2015);('SPI', 2016);('SPI', 2017);('SPI', 2018);('SPI', 2019);('SPP', 2009);('SPP', 2010);('SPP', 2012);('SPP', 2013);('SPP', 2014);('SPP', 2015);('SPP', 2016);('SPP', 2017);('SPP', 2018);('SPP', 2019);('SPV', 2019);('SQC', 2010);('SQC', 2011);('SQC', 2012);('SRA', 2008);('SRA', 2009);('SRA', 2010);('SRA', 2011);('SRA', 2012);('SRA', 2013);('SRA', 2014);('SRA', 2017);('SRA', 2018);('SRA', 2019);('SRB', 2008);('SRB', 2009);('SRB', 2010);('SRB', 2011);('SRB', 2012);('SRB', 2013);('SRB', 2014);('SRB', 2015);('SRB', 2017);('SRB', 2018);('SRB', 2019);('SRT', 2017);('SRT', 2018);('SSF', 2015);('SSM', 2009);('SSM', 2010);('SSM', 2011);('SSM', 2012);('SSM', 2013);('SSM', 2014);('SSM', 2015);('SSM', 2016);('SSM', 2017);('SSN', 2015);('SSN', 2016);('SSN', 2017);('SSN', 2018);('SSN', 2019);('STL', 2009);('STL', 2010);('STL', 2011);('STL', 2012);('STL', 2013);('STL', 2014);('STL', 2015);('STL', 2016);('STP', 2007);('STP', 2008);('STP', 2009);('STP', 2010);('STP', 2011);('STP', 2012);('STP', 2013);('STP', 2014);('STP', 2015);('STP', 2016);('STP', 2017);('STP', 2018);('STP', 2019);('STV', 2014);('STV', 2015);('STV', 2016);('STV', 2017);('STV', 2018);('SVN', 2011);('SVN', 2015);('SVN', 2016);('SVN', 2017);('SVN', 2018);('SWC', 2016);('SWC', 2017);('SWC', 2018);('SWC', 2019);('TA9', 2016);('TA9', 2017);('TA9', 2018);('TA9', 2019);('TAR', 2019);('TBD', 2015);('TBD', 2016);('TBD', 2017);('TBD', 2018);('TBX', 2009);('TBX', 2010);('TBX', 2011);('TBX', 2014);('TC6', 2008);('TC6', 2009);('TC6', 2010);('TC6', 2011);('TC6', 2012);('TC6', 2013);('TC6', 2014);('TC6', 2015);('TC6', 2016);('TC6', 2017);('TC6', 2018);('TC6', 2019);('TCS', 2009);('TCS', 2010);('TCS', 2011);('TCS', 2012);('TCS', 2013);('TCS', 2014);('TCS', 2015);('TCS', 2016);('TCS', 2017);('TCS', 2018);('TCS', 2019);('TCW', 2017);('TCW', 2018);('TCW', 2019);('TDB', 2018);('TDN', 2009);('TDN', 2010);('TDN', 2011);('TDN', 2012);('TDN', 2013);('TDN', 2014);('TDN', 2015);('TDN', 2016);('TDN', 2017);('TDN', 2018);('TDN', 2019);('TDP', 2019);('TDS', 2016);('TDS', 2017);('TDS', 2018);('TDS', 2019);('TDT', 2018);('TDT', 2019);('TEL', 2018);('TET', 2010);('TET', 2011);('TFC', 2016);('TFC', 2017);('TFC', 2018);('TFC', 2019);('TGP', 2009);('TGP', 2010);('TGP', 2011);('TGP', 2012);('TGP', 2014);('TGP', 2017);('TGP', 2018);('TGP', 2019);('THB', 2009);('THB', 2010);('THB', 2011);('THB', 2012);('THB', 2013);('THB', 2014);('THB', 2015);('THB', 2016);('THB', 2017);('THB', 2018);('THB', 2019);('THS', 2014);('THT', 2009);('THT', 2010);('THT', 2011);('THT', 2012);('THT', 2013);('THT', 2014);('THT', 2015);('THT', 2016);('THT', 2017);('THT', 2018);('THT', 2019);('THV', 2011);('THV', 2012);('THV', 2013);('TID', 2019);('TIS', 2012);('TIS', 2014);('TIS', 2015);('TIS', 2016);('TIS', 2017);('TIS', 2018);('TIS', 2019);('TJC', 2008);('TJC', 2009);('TJC', 2010);('TJC', 2011);('TJC', 2012);('TJC', 2013);('TJC', 2014);('TJC', 2015);('TJC', 2016);('TJC', 2017);('TJC', 2018);('TJC', 2019);('TKC', 2010);('TKC', 2011);('TKC', 2012);('TKC', 2013);('TKC', 2014);('TKC', 2015);('TKC', 2016);('TKC', 2017);('TKC', 2018);('TKC', 2019);('TKU', 2006);('TKU', 2007);('TKU', 2008);('TKU', 2009);('TKU', 2010);('TKU', 2011);('TKU', 2012);('TKU', 2013);('TKU', 2014);('TKU', 2016);('TKU', 2017);('TKU', 2019);('TL4', 2015);('TL4', 2016);('TL4', 2017);('TL4', 2018);('TL4', 2019);('TLC', 2007);('TLC', 2008);('TLC', 2009);('TLC', 2010);('TLC', 2011);('TLC', 2012);('TLP', 2018);('TLP', 2019);('TLT', 2007);('TLT', 2008);('TLT', 2009);('TLT', 2010);('TLT', 2011);('TLT', 2012);('TLT', 2013);('TLT', 2014);('TLT', 2015);('TLT', 2016);('TLT', 2017);('TLT', 2018);('TLT', 2019);('TNB', 2010);('TNB', 2011);('TNB', 2012);('TNB', 2013);('TNB', 2014);('TNB', 2015);('TNB', 2016);('TNB', 2017);('TNB', 2018);('TNB', 2019);('TND', 2017);('TND', 2018);('TND', 2019);('TNG', 2008);('TNG', 2009);('TNG', 2010);('TNG', 2011);('TNG', 2012);('TNG', 2013);('TNG', 2014);('TNG', 2015);('TNG', 2016);('TNG', 2017);('TNG', 2018);('TNG', 2019);('TNM', 2010);('TNM', 2011);('TNM', 2012);('TNM', 2013);('TNM', 2014);('TNM', 2016);('TNS', 2017);('TNS', 2018);('TNS', 2019);('TOP', 2015);('TOP', 2016);('TOP', 2017);('TOP', 2018);('TOP', 2019);('TPP', 2009);('TPP', 2010);('TPP', 2011);('TPP', 2012);('TPP', 2013);('TPP', 2014);('TPP', 2015);('TPP', 2016);('TPP', 2017);('TPP', 2018);('TPP', 2019);('TRS', 2016);('TSB', 2011);('TSB', 2017);('TST', 2008);('TST', 2009);('TST', 2010);('TST', 2011);('TST', 2012);('TST', 2013);('TST', 2014);('TST', 2015);('TST', 2016);('TST', 2017);('TST', 2018);('TST', 2019);('TTB', 2015);('TTB', 2016);('TTB', 2017);('TTB', 2018);('TTC', 2006);('TTC', 2007);('TTC', 2008);('TTC', 2009);('TTC', 2010);('TTC', 2011);('TTC', 2012);('TTC', 2013);('TTC', 2014);('TTC', 2015);('TTC', 2016);('TTC', 2017);('TTC', 2018);('TTC', 2019);('TTD', 2017);('TTD', 2018);('TTG', 2011);('TTG', 2012);('TTH', 2017);('TTH', 2018);('TTH', 2019);('TTN', 2017);('TTN', 2018);('TTN', 2019);('TTZ', 2013);('TTZ', 2014);('TTZ', 2015);('TTZ', 2016);('TTZ', 2017);('TTZ', 2018);('TTZ', 2019);('TV3', 2010);('TV3', 2011);('TV3', 2015);('TV3', 2016);('TV3', 2017);('TV3', 2018);('TV3', 2019);('TV4', 2008);('TV4', 2009);('TV4', 2010);('TV4', 2011);('TV4', 2012);('TV4', 2013);('TV4', 2014);('TV4', 2015);('TV4', 2016);('TV4', 2017);('TV4', 2018);('TV4', 2019);('TVA', 2017);('TVA', 2019);('TVD', 2011);('TVD', 2012);('TVD', 2013);('TVD', 2014);('TVD', 2015);('TVD', 2016);('TVD', 2017);('TVD', 2018);('TVD', 2019);('TVN', 2016);('TVN', 2017);('TVN', 2018);('TVN', 2019);('TVP', 2018);('TVP', 2019);('TXM', 2007);('TXM', 2008);('TXM', 2009);('TXM', 2010);('TXM', 2011);('TXM', 2012);('TXM', 2013);('TXM', 2014);('TXM', 2015);('TXM', 2016);('TXM', 2017);('TXM', 2018);('TXM', 2019);('UDJ', 2010);('UDJ', 2011);('UDJ', 2012);('UDJ', 2013);('UDJ', 2014);('UDJ', 2015);('UDJ', 2016);('UDJ', 2017);('UDJ', 2018);('UDJ', 2019);('UNI', 2006);('UNI', 2007);('UNI', 2008);('UNI', 2009);('UNI', 2010);('UNI', 2011);('UNI', 2012);('UNI', 2013);('UNI', 2014);('UNI', 2015);('UNI', 2016);('UNI', 2017);('UNI', 2018);('UNI', 2019);('V11', 2009);('V11', 2010);('V11', 2011);('V11', 2012);('V11', 2013);('V11', 2014);('V11', 2015);('V12', 2010);('V12', 2011);('V12', 2012);('V12', 2013);('V12', 2014);('V12', 2015);('V12', 2016);('V12', 2017);('V12', 2018);('V15', 2010);('V15', 2011);('V15', 2012);('V15', 2013);('V15', 2014);('V15', 2015);('V15', 2016);('V15', 2017);('V21', 2010);('V21', 2011);('V21', 2012);('V21', 2016);('V21', 2017);('VAT', 2011);('VAT', 2012);('VAT', 2014);('VAT', 2015);('VAT', 2016);('VAT', 2017);('VAT', 2018);('VAT', 2019);('VBC', 2010);('VBC', 2012);('VBC', 2017);('VBC', 2018);('VBC', 2019);('VBH', 2007);('VBH', 2008);('VBH', 2009);('VBH', 2010);('VBH', 2011);('VBH', 2012);('VBH', 2013);('VBH', 2014);('VBH', 2015);('VC1', 2009);('VC1', 2010);('VC1', 2011);('VC1', 2012);('VC1', 2013);('VC1', 2014);('VC1', 2015);('VC1', 2016);('VC1', 2017);('VC1', 2018);('VC1', 2019);('VC2', 2007);('VC2', 2008);('VC2', 2009);('VC2', 2010);('VC2', 2011);('VC2', 2012);('VC2', 2013);('VC2', 2014);('VC2', 2015);('VC2', 2016);('VC2', 2017);('VC2', 2018);('VC2', 2019);('VC3', 2008);('VC3', 2009);('VC3', 2010);('VC3', 2011);('VC3', 2014);('VC3', 2015);('VC3', 2016);('VC3', 2017);('VC3', 2018);('VC3', 2019);('VC5', 2008);('VC5', 2009);('VC5', 2010);('VC5', 2011);('VC5', 2012);('VC5', 2013);('VC5', 2014);('VC5', 2015);('VC5', 2016);('VC6', 2008);('VC6', 2009);('VC6', 2010);('VC6', 2011);('VC6', 2012);('VC6', 2013);('VC6', 2014);('VC6', 2015);('VC6', 2016);('VC6', 2017);('VC6', 2019);('VC7', 2008);('VC7', 2009);('VC7', 2010);('VC7', 2011);('VC7', 2012);('VC7', 2013);('VC7', 2014);('VC7', 2015);('VC7', 2016);('VC7', 2017);('VC7', 2018);('VC7', 2019);('VC9', 2010);('VC9', 2011);('VC9', 2012);('VC9', 2013);('VC9', 2014);('VC9', 2015);('VC9', 2016);('VC9', 2017);('VC9', 2018);('VCA', 2015);('VCA', 2016);('VCA', 2017);('VCA', 2018);('VCA', 2019);('VCC', 2009);('VCC', 2010);('VCC', 2011);('VCC', 2012);('VCC', 2013);('VCC', 2014);('VCC', 2015);('VCC', 2016);('VCC', 2017);('VCC', 2018);('VCC', 2019);('VCG', 2009);('VCG', 2010);('VCG', 2011);('VCG', 2012);('VCG', 2013);('VCG', 2014);('VCG', 2015);('VCG', 2016);('VCG', 2017);('VCG', 2018);('VCG', 2019);('VCP', 2017);('VCP', 2018);('VCP', 2019);('VCS', 2008);('VCS', 2009);('VCS', 2010);('VCS', 2011);('VCS', 2012);('VCS', 2013);('VCS', 2014);('VCS', 2015);('VCS', 2016);('VCS', 2017);('VCS', 2018);('VCS', 2019);('VCX', 2017);('VCX', 2018);('VCX', 2019);('VDL', 2008);('VDL', 2009);('VDL', 2010);('VDL', 2012);('VDL', 2013);('VDL', 2014);('VDL', 2015);('VDL', 2016);('VDT', 2013);('VDT', 2017);('VE1', 2009);('VE1', 2010);('VE1', 2011);('VE1', 2012);('VE1', 2013);('VE1', 2014);('VE1', 2015);('VE1', 2016);('VE1', 2017);('VE1', 2018);('VE1', 2019);('VE2', 2010);('VE2', 2011);('VE2', 2014);('VE2', 2015);('VE2', 2016);('VE2', 2017);('VE3', 2010);('VE3', 2011);('VE3', 2012);('VE3', 2013);('VE3', 2014);('VE3', 2015);('VE3', 2016);('VE3', 2017);('VE3', 2018);('VE3', 2019);('VE4', 2015);('VE4', 2016);('VE8', 2013);('VE8', 2014);('VE8', 2015);('VE8', 2016);('VE8', 2017);('VE9', 2008);('VE9', 2009);('VE9', 2010);('VE9', 2011);('VE9', 2012);('VE9', 2013);('VE9', 2014);('VE9', 2015);('VE9', 2016);('VE9', 2017);('VE9', 2018);('VE9', 2019);('VEA', 2018);('VEA', 2019);('VEC', 2018);('VEC', 2019);('VES', 2010);('VES', 2011);('VES', 2012);('VES', 2015);('VES', 2016);('VES', 2017);('VET', 2018);('VFC', 2006);('VFC', 2007);('VFC', 2008);('VFC', 2009);('VFC', 2010);('VFC', 2011);('VFC', 2012);('VFC', 2014);('VFC', 2015);('VFR', 2007);('VFR', 2008);('VFR', 2009);('VFR', 2010);('VFR', 2011);('VFR', 2012);('VFR', 2013);('VFR', 2014);('VFR', 2015);('VFR', 2016);('VGC', 2016);('VGC', 2017);('VGC', 2018);('VGG', 2016);('VGG', 2017);('VGG', 2018);('VGG', 2019);('VGI', 2019);('VGP', 2007);('VGP', 2008);('VGP', 2009);('VGP', 2010);('VGP', 2011);('VGP', 2012);('VGP', 2013);('VGP', 2014);('VGP', 2015);('VGP', 2016);('VGP', 2018);('VGS', 2009);('VGS', 2010);('VGS', 2011);('VGS', 2012);('VGS', 2013);('VGS', 2014);('VGS', 2015);('VGS', 2016);('VGS', 2017);('VGS', 2018);('VGS', 2019);('VGT', 2017);('VGT', 2018);('VGT', 2019);('VGV', 2018);('VHD', 2019);('VHE', 2019);('VHG', 2019);('VHH', 2010);('VHH', 2011);('VHH', 2012);('VHH', 2013);('VHH', 2014);('VHL', 2009);('VHL', 2010);('VHL', 2011);('VHL', 2012);('VHL', 2013);('VHL', 2014);('VHL', 2015);('VHL', 2016);('VHL', 2017);('VHL', 2018);('VHL', 2019);('VIF', 2017);('VIF', 2018);('VIF', 2019);('VIH', 2017);('VIH', 2018);('VIM', 2019);('VIN', 2016);('VIN', 2019);('VIT', 2010);('VIT', 2011);('VIT', 2012);('VIT', 2014);('VIT', 2015);('VIT', 2016);('VIT', 2017);('VIT', 2018);('VIT', 2019);('VKC', 2011);('VKC', 2012);('VKC', 2013);('VKC', 2014);('VKC', 2015);('VKC', 2016);('VKC', 2017);('VKC', 2018);('VKC', 2019);('VKD', 2017);('VKD', 2018);('VKD', 2019);('VKP', 2008);('VKP', 2009);('VKP', 2010);('VKP', 2011);('VKP', 2012);('VKP', 2014);('VKP', 2015);('VKP', 2016);('VLB', 2017);('VLB', 2018);('VLB', 2019);('VLC', 2016);('VLC', 2017);('VLC', 2018);('VLC', 2019);('VLF', 2011);('VLF', 2012);('VLF', 2013);('VLF', 2014);('VLF', 2015);('VLF', 2016);('VLG', 2016);('VLG', 2017);('VLG', 2018);('VLG', 2019);('VMC', 2007);('VMC', 2008);('VMC', 2009);('VMC', 2010);('VMC', 2012);('VMC', 2013);('VMC', 2017);('VMC', 2018);('VMC', 2019);('VMG', 2018);('VMG', 2019);('VMI', 2015);('VMI', 2016);('VMI', 2017);('VMI', 2018);('VMS', 2016);('VMS', 2017);('VMS', 2018);('VNA', 2017);('VNA', 2018);('VNA', 2019);('VNB', 2016);('VNB', 2017);('VNB', 2018);('VNF', 2011);('VNF', 2012);('VNF', 2013);('VNF', 2014);('VNF', 2015);('VNF', 2016);('VNF', 2017);('VNH', 2017);('VNI', 2010);('VNI', 2011);('VNI', 2012);('VNI', 2013);('VNI', 2014);('VNI', 2015);('VNI', 2016);('VNI', 2017);('VNI', 2018);('VNP', 2016);('VNP', 2017);('VNP', 2018);('VNP', 2019);('VNT', 2010);('VNT', 2011);('VNT', 2012);('VNT', 2013);('VNT', 2014);('VNT', 2015);('VNT', 2016);('VNT', 2017);('VNT', 2019);('VOC', 2017);('VOC', 2018);('VOC', 2019);('VRG', 2017);('VRG', 2018);('VRG', 2019);('VSA', 2016);('VSA', 2017);('VSA', 2018);('VSA', 2019);('VSG', 2009);('VSG', 2010);('VSG', 2011);('VSG', 2012);('VSG', 2013);('VSG', 2014);('VSG', 2015);('VSM', 2018);('VSN', 2017);('VSN', 2018);('VSN', 2019);('VSP', 2007);('VSP', 2008);('VSP', 2009);('VSP', 2010);('VSP', 2011);('VSP', 2012);('VSP', 2013);('VSP', 2014);('VSP', 2015);('VST', 2009);('VST', 2010);('VST', 2011);('VST', 2012);('VST', 2013);('VST', 2014);('VST', 2015);('VST', 2016);('VTA', 2007);('VTA', 2008);('VTA', 2009);('VTA', 2010);('VTA', 2011);('VTA', 2012);('VTA', 2013);('VTA', 2014);('VTA', 2015);('VTA', 2016);('VTA', 2017);('VTA', 2018);('VTC', 2003);('VTC', 2004);('VTC', 2005);('VTC', 2006);('VTC', 2007);('VTC', 2008);('VTC', 2009);('VTC', 2010);('VTC', 2011);('VTC', 2012);('VTC', 2013);('VTC', 2014);('VTC', 2015);('VTC', 2016);('VTC', 2017);('VTC', 2018);('VTC', 2019);('VTJ', 2017);('VTK', 2019);('VTL', 2006);('VTL', 2007);('VTL', 2008);('VTL', 2009);('VTL', 2010);('VTS', 2007);('VTS', 2008);('VTS', 2009);('VTS', 2010);('VTS', 2011);('VTS', 2012);('VTS', 2013);('VTS', 2014);('VTS', 2017);('VTV', 2007);('VTV', 2008);('VTV', 2009);('VTV', 2010);('VTV', 2011);('VTV', 2012);('VTV', 2013);('VTV', 2014);('VTV', 2015);('VTV', 2016);('VTV', 2017);('VTV', 2018);('VTV', 2019);('VTX', 2014);('VTX', 2015);('VTX', 2016);('VTX', 2017);('VXB', 2012);('WCS', 2011);('WCS', 2012);('WCS', 2013);('WCS', 2014);('WCS', 2015);('WCS', 2016);('WCS', 2017);('WCS', 2018);('WCS', 2019);('WSB', 2011);('WSB', 2012);('WSB', 2014);('WSB', 2015);('WSB', 2016);('WSB', 2017);('WSB', 2018);('WSB', 2019);('X18', 2017);('X26', 2019);('XHC', 2017);('XPH', 2015);('XPH', 2016);('XPH', 2017);('XPH', 2018);('XPH', 2019);('YBC', 2008);('YBC', 2009);('YBC', 2010);('YBC', 2011);('YBC', 2012);('YTC', 2018);"
     ]
    }
   ],
   "source": [
    "lstgr = []\n",
    "for name,gr in filtered_stocks.groupby(['TICKER','YEAR']):\n",
    "    print(name,end=';')\n",
    "    gr['PREV_CLOSE'] = gr['CLOSE'].shift(1,fill_value=gr['CLOSE'].iloc[0])\n",
    "    gr['RET'] = np.log(gr['CLOSE']/gr['PREV_CLOSE'])\n",
    "    gr['RET_ON_VOL'] = gr['RET']/gr[\"VND_VOLUME\"]\n",
    "    lstgr.append(gr)\n",
    "liquid_measure = pd.concat(lstgr)"
   ]
  },
  {
   "cell_type": "code",
   "execution_count": 36,
   "metadata": {},
   "outputs": [
    {
     "data": {
      "text/html": [
       "<div>\n",
       "<style scoped>\n",
       "    .dataframe tbody tr th:only-of-type {\n",
       "        vertical-align: middle;\n",
       "    }\n",
       "\n",
       "    .dataframe tbody tr th {\n",
       "        vertical-align: top;\n",
       "    }\n",
       "\n",
       "    .dataframe thead th {\n",
       "        text-align: right;\n",
       "    }\n",
       "</style>\n",
       "<table border=\"1\" class=\"dataframe\">\n",
       "  <thead>\n",
       "    <tr style=\"text-align: right;\">\n",
       "      <th></th>\n",
       "      <th>TICKER</th>\n",
       "      <th>DATE</th>\n",
       "      <th>CLOSE</th>\n",
       "      <th>VOLUME</th>\n",
       "      <th>YEAR</th>\n",
       "      <th>counts</th>\n",
       "      <th>VND_VOLUME</th>\n",
       "      <th>PREV_CLOSE</th>\n",
       "      <th>RET_ON_VOL</th>\n",
       "    </tr>\n",
       "  </thead>\n",
       "  <tbody>\n",
       "    <tr>\n",
       "      <th>383</th>\n",
       "      <td>AAV</td>\n",
       "      <td>20180625</td>\n",
       "      <td>12.3657</td>\n",
       "      <td>362000</td>\n",
       "      <td>2018</td>\n",
       "      <td>134</td>\n",
       "      <td>4.476383e+09</td>\n",
       "      <td>12.3657</td>\n",
       "      <td>0.000000e+00</td>\n",
       "    </tr>\n",
       "    <tr>\n",
       "      <th>382</th>\n",
       "      <td>AAV</td>\n",
       "      <td>20180626</td>\n",
       "      <td>13.5397</td>\n",
       "      <td>800200</td>\n",
       "      <td>2018</td>\n",
       "      <td>134</td>\n",
       "      <td>1.083447e+10</td>\n",
       "      <td>12.3657</td>\n",
       "      <td>8.371394e-12</td>\n",
       "    </tr>\n",
       "    <tr>\n",
       "      <th>381</th>\n",
       "      <td>AAV</td>\n",
       "      <td>20180627</td>\n",
       "      <td>12.9136</td>\n",
       "      <td>532700</td>\n",
       "      <td>2018</td>\n",
       "      <td>134</td>\n",
       "      <td>6.879075e+09</td>\n",
       "      <td>13.5397</td>\n",
       "      <td>-6.882480e-12</td>\n",
       "    </tr>\n",
       "    <tr>\n",
       "      <th>380</th>\n",
       "      <td>AAV</td>\n",
       "      <td>20180628</td>\n",
       "      <td>12.9918</td>\n",
       "      <td>210300</td>\n",
       "      <td>2018</td>\n",
       "      <td>134</td>\n",
       "      <td>2.732176e+09</td>\n",
       "      <td>12.9136</td>\n",
       "      <td>2.209730e-12</td>\n",
       "    </tr>\n",
       "    <tr>\n",
       "      <th>379</th>\n",
       "      <td>AAV</td>\n",
       "      <td>20180629</td>\n",
       "      <td>13.0701</td>\n",
       "      <td>108100</td>\n",
       "      <td>2018</td>\n",
       "      <td>134</td>\n",
       "      <td>1.412878e+09</td>\n",
       "      <td>12.9918</td>\n",
       "      <td>4.252873e-12</td>\n",
       "    </tr>\n",
       "  </tbody>\n",
       "</table>\n",
       "</div>"
      ],
      "text/plain": [
       "    TICKER      DATE    CLOSE  VOLUME  YEAR  counts    VND_VOLUME  PREV_CLOSE  \\\n",
       "383    AAV  20180625  12.3657  362000  2018     134  4.476383e+09     12.3657   \n",
       "382    AAV  20180626  13.5397  800200  2018     134  1.083447e+10     12.3657   \n",
       "381    AAV  20180627  12.9136  532700  2018     134  6.879075e+09     13.5397   \n",
       "380    AAV  20180628  12.9918  210300  2018     134  2.732176e+09     12.9136   \n",
       "379    AAV  20180629  13.0701  108100  2018     134  1.412878e+09     12.9918   \n",
       "\n",
       "       RET_ON_VOL  \n",
       "383  0.000000e+00  \n",
       "382  8.371394e-12  \n",
       "381 -6.882480e-12  \n",
       "380  2.209730e-12  \n",
       "379  4.252873e-12  "
      ]
     },
     "execution_count": 36,
     "metadata": {},
     "output_type": "execute_result"
    }
   ],
   "source": [
    "liquid_measure.head()"
   ]
  },
  {
   "cell_type": "code",
   "execution_count": 42,
   "metadata": {},
   "outputs": [],
   "source": [
    "Amihud_Illiquidity = liquid_measure[['TICKER','YEAR','RET_ON_VOL']].groupby(['TICKER','YEAR']).agg(['sum','count'])"
   ]
  },
  {
   "cell_type": "code",
   "execution_count": 46,
   "metadata": {},
   "outputs": [
    {
     "data": {
      "text/plain": [
       "TICKER  YEAR\n",
       "AAV     2018   -1.180289e-09\n",
       "        2019   -1.018378e-09\n",
       "ABC     2017    1.540031e-07\n",
       "        2018   -6.842783e-09\n",
       "        2019    9.612627e-08\n",
       "                    ...     \n",
       "YBC     2009    7.563304e-08\n",
       "        2010    3.114849e-08\n",
       "        2011   -6.937307e-08\n",
       "        2012    1.066443e-07\n",
       "YTC     2018    4.281450e-08\n",
       "Name: sum, Length: 3495, dtype: float64"
      ]
     },
     "execution_count": 46,
     "metadata": {},
     "output_type": "execute_result"
    }
   ],
   "source": [
    "Amihud_Illiquidity[-np.log()]"
   ]
  },
  {
   "cell_type": "code",
   "execution_count": null,
   "metadata": {},
   "outputs": [],
   "source": []
  }
 ],
 "metadata": {
  "kernelspec": {
   "display_name": "Python 3",
   "language": "python",
   "name": "python3"
  },
  "language_info": {
   "codemirror_mode": {
    "name": "ipython",
    "version": 3
   },
   "file_extension": ".py",
   "mimetype": "text/x-python",
   "name": "python",
   "nbconvert_exporter": "python",
   "pygments_lexer": "ipython3",
   "version": "3.8.2"
  }
 },
 "nbformat": 4,
 "nbformat_minor": 4
}
