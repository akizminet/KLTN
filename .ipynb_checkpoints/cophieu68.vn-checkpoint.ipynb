{
 "cells": [
  {
   "cell_type": "code",
   "execution_count": 4,
   "metadata": {},
   "outputs": [],
   "source": [
    "# Download from cophieu68.vn\n",
    "\n",
    "import requests\n",
    "import json\n",
    "import time\n",
    "import os"
   ]
  },
  {
   "cell_type": "code",
   "execution_count": 5,
   "metadata": {},
   "outputs": [],
   "source": [
    "os.environ[\"http_proxy\"]=\"10.56.224.118:3128\"\n",
    "os.environ[\"https_proxy\"]=\"10.56.224.118:3128\""
   ]
  },
  {
   "cell_type": "code",
   "execution_count": 6,
   "metadata": {},
   "outputs": [
    {
     "name": "stderr",
     "output_type": "stream",
     "text": [
      "/usr/lib/python3/dist-packages/urllib3/connectionpool.py:999: InsecureRequestWarning: Unverified HTTPS request is being made to host '10.56.224.118'. Adding certificate verification is strongly advised. See: https://urllib3.readthedocs.io/en/latest/advanced-usage.html#ssl-warnings\n",
      "  warnings.warn(\n"
     ]
    },
    {
     "data": {
      "text/plain": [
       "<Response [200]>"
      ]
     },
     "execution_count": 6,
     "metadata": {},
     "output_type": "execute_result"
    }
   ],
   "source": [
    "s = requests.Session()\n",
    "s.get(\"https://www.cophieu68.vn\",verify=False)"
   ]
  },
  {
   "cell_type": "code",
   "execution_count": 7,
   "metadata": {},
   "outputs": [
    {
     "name": "stderr",
     "output_type": "stream",
     "text": [
      "/usr/lib/python3/dist-packages/urllib3/connectionpool.py:999: InsecureRequestWarning: Unverified HTTPS request is being made to host '10.56.224.118'. Adding certificate verification is strongly advised. See: https://urllib3.readthedocs.io/en/latest/advanced-usage.html#ssl-warnings\n",
      "  warnings.warn(\n"
     ]
    },
    {
     "data": {
      "text/plain": [
       "<RequestsCookieJar[Cookie(version=0, name='PHPSESSID', value='13rfmd07mttk33ojlqf8isg9u0', port=None, port_specified=False, domain='.cophieu68.vn', domain_specified=True, domain_initial_dot=True, path='/', path_specified=True, secure=False, expires=None, discard=True, comment=None, comment_url=None, rest={}, rfc2109=False), Cookie(version=0, name='cophieu68password', value='NmZiNDJkYTBlMzJlMDdiNjFjOWYwMjUxZmU2MjdhOWM%3D', port=None, port_specified=False, domain='www.cophieu68.vn', domain_specified=False, domain_initial_dot=False, path='/', path_specified=True, secure=False, expires=1603016626, discard=False, comment=None, comment_url=None, rest={}, rfc2109=False), Cookie(version=0, name='cophieu68username', value='cGhhbWF2Z0B5b3BtYWlsLmNvbQ%3D%3D', port=None, port_specified=False, domain='www.cophieu68.vn', domain_specified=False, domain_initial_dot=False, path='/', path_specified=True, secure=False, expires=1603016626, discard=False, comment=None, comment_url=None, rest={}, rfc2109=False)]>"
      ]
     },
     "execution_count": 7,
     "metadata": {},
     "output_type": "execute_result"
    }
   ],
   "source": [
    "data = \"username=phamavg%40yopmail.com&tpassword=0987654321&ajax=1&login=1\"\n",
    "headers={\n",
    "    \"User-Agent\": \"Mozilla/5.0 (X11; Fedora; Linux x86_64; rv:81.0) Gecko/20100101 Firefox/81.0\",\n",
    "    \"Content-Type\": \"application/x-www-form-urlencoded; charset=UTF-8\",\n",
    "    \"X-Requested-With\": \"XMLHttpRequest\"\n",
    "}\n",
    "r = s.post('https://www.cophieu68.vn/account/login.php',data=data,headers=headers,verify=False)\n",
    "s.cookies"
   ]
  },
  {
   "cell_type": "code",
   "execution_count": 8,
   "metadata": {},
   "outputs": [
    {
     "name": "stdout",
     "output_type": "stream",
     "text": [
      "ADC...ALT...ARM...BDB...BED...BSC...BST...BTT...BTV...CKV...CLX...CMS...CTC...DAD...DAE...DAH...DCD...DHM...DS3...DSN...DST...EBS...ECI...EID...EMS...FDC...FDT...FID...HAX...HBE...HEV...HOT...HPI...HST...HTL...HTM...HTP...HVH...IBC...ILC...KGU...KLF...LBE...MQN...MSC...MTH...PDC...PET...PIT...PNC...PNJ...PSD...PTB...PVI...QST...RIC...SAP...SCS...SDA...SDV...SED...SGD...SGH...SGN...SID...SLC...SMA...SMN...ST8...STC...SVC...SVT...SZE...TCH...TCT...TH1...TMX...TNA...TPH...TTT...VCM...VCT...VEF...VLA...VNC...VNG...VNX...VPC...VPG...VQC...VSI...VTH...VTP...YEG..."
     ]
    }
   ],
   "source": [
    "list_cophieu=['AAA', 'AAM', 'AAV', 'ABC', 'ABR', 'ABT', 'ACC', 'ACE', 'ACL',\n",
    "       'ACM', 'ACV', 'ADC', 'ADP', 'ADS', 'AFX', 'AGM', 'ALT', 'AMC',\n",
    "       'AMD', 'AME', 'AMS', 'AMV', 'ANT', 'ANV', 'APC', 'APF', 'APP',\n",
    "       'ARM', 'ASA', 'ASM', 'AST', 'ATA', 'ATB', 'ATG', 'ATS', 'AVF',\n",
    "       'BAM', 'BAX', 'BBC', 'BBS', 'BBT', 'BCC', 'BCE', 'BCI', 'BCM',\n",
    "       'BCP', 'BDB', 'BDG', 'BDT', 'BED', 'BEL', 'BFC', 'BGM', 'BHC',\n",
    "       'BHN', 'BHP', 'BHS', 'BHT', 'BII', 'BKC', 'BLF', 'BMC', 'BMJ',\n",
    "       'BMP', 'BOT', 'BPC', 'BRC', 'BSA', 'BSC', 'BSG', 'BSL', 'BSP',\n",
    "       'BSQ', 'BSR', 'BST', 'BT6', 'BTC', 'BTD', 'BTS', 'BTT', 'BTV',\n",
    "       'BUD', 'BVG', 'BVN', 'BXH', 'C21', 'C32', 'C47', 'C4G', 'C69',\n",
    "       'C92', 'CAD', 'CAN', 'CAP', 'CAT', 'CAV', 'CCI', 'CCL', 'CCM',\n",
    "       'CDC', 'CDN', 'CDO', 'CDP', 'CEC', 'CEE', 'CEN', 'CEO', 'CET',\n",
    "       'CFC', 'CGP', 'CGV', 'CIA', 'CID', 'CIG', 'CII', 'CJC', 'CKA',\n",
    "       'CKD', 'CKV', 'CLC', 'CLG', 'CLH', 'CLL', 'CLS', 'CLX', 'CMC',\n",
    "       'CMG', 'CMN', 'CMS', 'CMT', 'CMV', 'CMX', 'CNC', 'CNT', 'COM',\n",
    "       'CPC', 'CRC', 'CRE', 'CSC', 'CSM', 'CSV', 'CT3', 'CTA', 'CTB',\n",
    "       'CTC', 'CTD', 'CTF', 'CTI', 'CTN', 'CTP', 'CTR', 'CTX', 'CVN',\n",
    "       'CVT', 'CX8', 'CYC', 'D11', 'D2D', 'DAC', 'DAD', 'DAE', 'DAG',\n",
    "       'DAH', 'DAS', 'DAT', 'DBC', 'DBD', 'DBM', 'DBT', 'DC1', 'DC2',\n",
    "       'DC4', 'DCD', 'DCF', 'DCL', 'DCM', 'DCT', 'DDM', 'DDN', 'DDV',\n",
    "       'DGC', 'DGL', 'DGT', 'DGW', 'DHA', 'DHC', 'DHD', 'DHG', 'DHM',\n",
    "       'DHP', 'DHT', 'DIC', 'DID', 'DIG', 'DIH', 'DL1', 'DLG', 'DMC',\n",
    "       'DND', 'DNL', 'DNM', 'DNP', 'DNS', 'DNY', 'DP3', 'DPC', 'DPG',\n",
    "       'DPM', 'DPR', 'DPS', 'DQC', 'DRC', 'DRH', 'DRI', 'DS3', 'DSC',\n",
    "       'DSN', 'DSP', 'DST', 'DTA', 'DTC', 'DTD', 'DTI', 'DTL', 'DTT',\n",
    "       'DVN', 'DVP', 'DXG', 'DXP', 'DXV', 'DZM', 'EBS', 'ECI', 'EIC',\n",
    "       'EID', 'EIN', 'ELC', 'EMC', 'EME', 'EMS', 'EVE', 'EVG', 'FBA',\n",
    "       'FCM', 'FCN', 'FDC', 'FDG', 'FDT', 'FID', 'FIR', 'FLC', 'FMC',\n",
    "       'FOC', 'FOX', 'FPT', 'FRT', 'FTM', 'FUCTVGF1', 'FUCVREIT',\n",
    "       'FUESSV50', 'G20', 'G36', 'GAB', 'GDT', 'GEX', 'GGG', 'GIL', 'GKM',\n",
    "       'GLT', 'GMC', 'GMD', 'GMX', 'GND', 'GSM', 'GSP', 'GTA', 'GTH',\n",
    "       'GTN', 'GTS', 'GTT', 'GVT', 'HAD', 'HAF', 'HAH', 'HAI', 'HAP',\n",
    "       'HAR', 'HAS', 'HAT', 'HAX', 'HBC', 'HBD', 'HBE', 'HC3', 'HCC',\n",
    "       'HCD', 'HCT', 'HD2', 'HDA', 'HDB', 'HDC', 'HDG', 'HDM', 'HDO',\n",
    "       'HDP', 'HEM', 'HEV', 'HGM', 'HHA', 'HHC', 'HHG', 'HHP', 'HHS',\n",
    "       'HID', 'HIG', 'HII', 'HKB', 'HKT', 'HLA', 'HLC', 'HLD', 'HLY',\n",
    "       'HMC', 'HMH', 'HMS', 'HNF', 'HNG', 'HNI', 'HNM', 'HNP', 'HOM',\n",
    "       'HOT', 'HPB', 'HPD', 'HPG', 'HPI', 'HPM', 'HPP', 'HPS', 'HPT',\n",
    "       'HPX', 'HQC', 'HRC', 'HRT', 'HSG', 'HSI', 'HSL', 'HST', 'HT1',\n",
    "       'HTG', 'HTI', 'HTL', 'HTM', 'HTN', 'HTP', 'HTT', 'HTV', 'HU1',\n",
    "       'HU3', 'HU4', 'HU6', 'HUB', 'HUG', 'HUT', 'HVA', 'HVG', 'HVH',\n",
    "       'HVN', 'HVT', 'HVX', 'IBC', 'ICC', 'ICG', 'ICI', 'ICN', 'IDI',\n",
    "       'IDJ', 'IDV', 'IFC', 'IFS', 'IJC', 'ILA', 'ILB', 'ILC', 'ILS',\n",
    "       'IMP', 'IMT', 'INC', 'INN', 'ITA', 'ITC', 'ITD', 'ITQ', 'ITS',\n",
    "       'JVC', 'KBC', 'KCB', 'KDC', 'KDF', 'KDH', 'KDM', 'KGU', 'KHA',\n",
    "       'KHD', 'KHL', 'KHS', 'KKC', 'KLF', 'KMR', 'KMT', 'KOS', 'KPF',\n",
    "       'KSA', 'KSB', 'KSD', 'KSK', 'KSQ', 'KSS', 'KST', 'KTL', 'KTS',\n",
    "       'KTT', 'KVC', 'L10', 'L14', 'L18', 'L35', 'L43', 'L44', 'L61',\n",
    "       'L62', 'LAF', 'LAS', 'LBE', 'LBM', 'LCC', 'LCG', 'LCM', 'LCS',\n",
    "       'LDG', 'LDP', 'LEC', 'LGC', 'LGL', 'LHC', 'LHG', 'LIG', 'LIX',\n",
    "       'LLM', 'LM3', 'LM7', 'LM8', 'LO5', 'LSS', 'LTG', 'LUT', 'M10',\n",
    "       'MAC', 'MAS', 'MBG', 'MCC', 'MCF', 'MCG', 'MCH', 'MCO', 'MCP',\n",
    "       'MDC', 'MDF', 'MDG', 'MEC', 'MFS', 'MH3', 'MHC', 'MHL', 'MIC',\n",
    "       'MIM', 'MKP', 'MKV', 'MLN', 'MLS', 'MMC', 'MNC', 'MPC', 'MPT',\n",
    "       'MQN', 'MSC', 'MSH', 'MSR', 'MST', 'MTA', 'MTH', 'MTP', 'MVB',\n",
    "       'MVC', 'MWG', 'NAF', 'NAG', 'NAS', 'NAV', 'NBB', 'NBC', 'NBE',\n",
    "       'NCS', 'NCT', 'NDC', 'NDF', 'NDN', 'NDP', 'NDX', 'NED', 'NET',\n",
    "       'NGC', 'NHA', 'NHC', 'NHP', 'NHS', 'NHT', 'NHV', 'NKG', 'NLG',\n",
    "       'NMK', 'NNC', 'NNG', 'NOS', 'NPS', 'NRC', 'NSC', 'NSG', 'NSH',\n",
    "       'NSP', 'NST', 'NTB', 'NTC', 'NTH', 'NTL', 'NTP', 'NVL', 'NVT',\n",
    "       'OCH', 'OGC', 'OIL', 'ONE', 'OPC', 'PAC', 'PAN', 'PBP', 'PC1',\n",
    "       'PCE', 'PCT', 'PDB', 'PDC', 'PDN', 'PDR', 'PEN', 'PET', 'PFL',\n",
    "       'PGN', 'PGT', 'PHC', 'PHH', 'PHN', 'PHP', 'PHR', 'PIA', 'PIT',\n",
    "       'PJC', 'PJT', 'PLC', 'PLP', 'PLX', 'PMB', 'PMC', 'PME', 'PMS',\n",
    "       'PMT', 'PNC', 'PNG', 'PNJ', 'PNT', 'POM', 'POS', 'POT', 'PPE',\n",
    "       'PPG', 'PPH', 'PPI', 'PPP', 'PPS', 'PRC', 'PRT', 'PSB', 'PSC',\n",
    "       'PSD', 'PSE', 'PSG', 'PSL', 'PSP', 'PSW', 'PTB', 'PTC', 'PTD',\n",
    "       'PTL', 'PTM', 'PTP', 'PTS', 'PTT', 'PV2', 'PVA', 'PVB', 'PVC',\n",
    "       'PVD', 'PVE', 'PVH', 'PVI', 'PVL', 'PVM', 'PVO', 'PVP', 'PVR',\n",
    "       'PVS', 'PVT', 'PVV', 'PVX', 'PWA', 'PXA', 'PXI', 'PXL', 'PXM',\n",
    "       'PXS', 'PXT', 'QBS', 'QCC', 'QCG', 'QHD', 'QHW', 'QNC', 'QNS',\n",
    "       'QST', 'QTC', 'RAL', 'RCC', 'RCD', 'RCL', 'RDP', 'REE', 'RIC',\n",
    "       'ROS', 'S12', 'S27', 'S55', 'S74', 'S96', 'S99', 'SAB', 'SAC',\n",
    "       'SAF', 'SAM', 'SAP', 'SAS', 'SAV', 'SB1', 'SBD', 'SBL', 'SBT',\n",
    "       'SBV', 'SC5', 'SCC', 'SCD', 'SCI', 'SCJ', 'SCO', 'SCR', 'SCS',\n",
    "       'SD1', 'SD2', 'SD3', 'SD4', 'SD5', 'SD6', 'SD7', 'SD8', 'SD9',\n",
    "       'SDA', 'SDB', 'SDC', 'SDG', 'SDH', 'SDI', 'SDJ', 'SDK', 'SDN',\n",
    "       'SDP', 'SDT', 'SDU', 'SDV', 'SDY', 'SEA', 'SEC', 'SED', 'SFG',\n",
    "       'SFI', 'SFN', 'SGC', 'SGD', 'SGH', 'SGN', 'SGO', 'SGP', 'SGR',\n",
    "       'SGS', 'SGT', 'SHA', 'SHC', 'SHE', 'SHG', 'SHI', 'SIC', 'SID',\n",
    "       'SII', 'SIP', 'SIV', 'SJ1', 'SJC', 'SJE', 'SJF', 'SJM', 'SJS',\n",
    "       'SKG', 'SKH', 'SKV', 'SLC', 'SLS', 'SMA', 'SMB', 'SMC', 'SMN',\n",
    "       'SMT', 'SNC', 'SNZ', 'SPC', 'SPI', 'SPM', 'SPP', 'SPV', 'SQC',\n",
    "       'SRA', 'SRB', 'SRC', 'SRF', 'SRT', 'SSC', 'SSF', 'SSM', 'SSN',\n",
    "       'ST8', 'STC', 'STG', 'STK', 'STL', 'STP', 'STT', 'STV', 'SVC',\n",
    "       'SVI', 'SVN', 'SVT', 'SWC', 'SZC', 'SZE', 'SZL', 'TA9', 'TAC',\n",
    "       'TAR', 'TBD', 'TBX', 'TC6', 'TCD', 'TCH', 'TCL', 'TCM', 'TCO',\n",
    "       'TCR', 'TCS', 'TCT', 'TCW', 'TDC', 'TDH', 'TDN', 'TDP', 'TDS',\n",
    "       'TDT', 'TEG', 'TEL', 'TET', 'TFC', 'TGG', 'TGP', 'TH1', 'THB',\n",
    "       'THG', 'THI', 'THS', 'THT', 'THV', 'TIC', 'TID', 'TIP', 'TIS',\n",
    "       'TIX', 'TJC', 'TKC', 'TKU', 'TL4', 'TLC', 'TLD', 'TLG', 'TLH',\n",
    "       'TLP', 'TLT', 'TMS', 'TMT', 'TMX', 'TN1', 'TNA', 'TNB', 'TNC',\n",
    "       'TND', 'TNG', 'TNI', 'TNM', 'TNS', 'TNT', 'TOP', 'TPC', 'TPH',\n",
    "       'TPP', 'TRA', 'TRC', 'TRS', 'TS4', 'TSB', 'TSC', 'TST', 'TTB',\n",
    "       'TTC', 'TTD', 'TTF', 'TTG', 'TTH', 'TTN', 'TTP', 'TTT', 'TTZ',\n",
    "       'TV1', 'TV2', 'TV3', 'TV4', 'TVA', 'TVD', 'TVN', 'TVP', 'TVT',\n",
    "       'TXM', 'TYA', 'UDC', 'UDJ', 'UIC', 'UNI', 'V11', 'V12', 'V15',\n",
    "       'V21', 'VAF', 'VAT', 'VBC', 'VBH', 'VC1', 'VC2', 'VC3', 'VC5',\n",
    "       'VC6', 'VC7', 'VC9', 'VCA', 'VCC', 'VCF', 'VCG', 'VCM', 'VCP',\n",
    "       'VCS', 'VCT', 'VCX', 'VDL', 'VDP', 'VDT', 'VE1', 'VE2', 'VE3',\n",
    "       'VE4', 'VE8', 'VE9', 'VEA', 'VEC', 'VEF', 'VES', 'VET', 'VFC',\n",
    "       'VFG', 'VFR', 'VGC', 'VGG', 'VGI', 'VGP', 'VGS', 'VGT', 'VGV',\n",
    "       'VHC', 'VHD', 'VHE', 'VHG', 'VHH', 'VHL', 'VHM', 'VIC', 'VID',\n",
    "       'VIF', 'VIH', 'VIM', 'VIN', 'VIP', 'VIS', 'VIT', 'VJC', 'VKC',\n",
    "       'VKD', 'VKP', 'VLA', 'VLB', 'VLC', 'VLF', 'VLG', 'VMC', 'VMD',\n",
    "       'VMI', 'VMS', 'VNA', 'VNB', 'VNC', 'VNE', 'VNF', 'VNG', 'VNH',\n",
    "       'VNI', 'VNL', 'VNM', 'VNP', 'VNS', 'VNT', 'VNX', 'VOC', 'VOS',\n",
    "       'VPC', 'VPG', 'VPH', 'VPI', 'VPL', 'VPS', 'VQC', 'VRC', 'VRE',\n",
    "       'VRG', 'VSA', 'VSC', 'VSG', 'VSI', 'VSM', 'VSN', 'VSP', 'VST',\n",
    "       'VTA', 'VTB', 'VTC', 'VTF', 'VTH', 'VTJ', 'VTK', 'VTL', 'VTO',\n",
    "       'VTP', 'VTS', 'VTV', 'VTX', 'VXB', 'WCS', 'WSB', 'X18', 'X26',\n",
    "       'XHC', 'XPH', 'YBC', 'YBM', 'YEG', 'YTC']\n",
    "\n",
    "for cophieu in list_cophieu:\n",
    "    if not(os.path.isfile(f\"BCTC/{cophieu}.tsv\")):\n",
    "        print(cophieu,end='...')\n",
    "        r = s.get(f\"http://www.cophieu68.vn/export/reportfinance.php?id={cophieu}\")\n",
    "        with open(f'BCTC/{cophieu}.tsv','w',encoding='utf-8') as f:\n",
    "            f.write(r.text)\n",
    "            f.close()\n",
    "        time.sleep(1)"
   ]
  },
  {
   "cell_type": "code",
   "execution_count": null,
   "metadata": {},
   "outputs": [],
   "source": []
  }
 ],
 "metadata": {
  "kernelspec": {
   "display_name": "Python 3",
   "language": "python",
   "name": "python3"
  },
  "language_info": {
   "codemirror_mode": {
    "name": "ipython",
    "version": 3
   },
   "file_extension": ".py",
   "mimetype": "text/x-python",
   "name": "python",
   "nbconvert_exporter": "python",
   "pygments_lexer": "ipython3",
   "version": "3.8.2"
  }
 },
 "nbformat": 4,
 "nbformat_minor": 4
}
