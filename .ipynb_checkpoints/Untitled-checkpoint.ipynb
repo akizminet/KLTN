{
 "cells": [
  {
   "cell_type": "code",
   "execution_count": 8,
   "metadata": {},
   "outputs": [],
   "source": [
    "import pandas as pd\n",
    "import numpy as np\n",
    "import sys\n",
    "np.set_printoptions(threshold=sys.maxsize)\n",
    "stockprices = pd.read_csv(\"StockPrices/CafeF.UPCOM.Upto02.10.2020.csv\")\\\n",
    "                .append(pd.read_csv(\"StockPrices/CafeF.HNX.Upto02.10.2020.csv\"))\\\n",
    "                .append(pd.read_csv(\"StockPrices/CafeF.HSX.Upto02.10.2020.csv\"))\n",
    "stockprices.columns=[\"TICKER\",\"DATE\",\"OPEN\",\"HIGH\",\"LOW\",\"CLOSE\",\"VOLUME\"]\n",
    "stockprices = stockprices[(stockprices.DATE < 20200101) & (stockprices.DATE > 20131231)]\n",
    "stockprices.drop(columns=[\"OPEN\",\"HIGH\",\"LOW\"],inplace=True)\n",
    "stockprices.drop_duplicates(inplace=True)\n",
    "stockprices.sort_values(by=[\"TICKER\",\"DATE\"],inplace=True)\n",
    "stockprices[\"CLOSE\"]=stockprices[\"CLOSE\"].round(4)\n",
    "stockprices.reset_index(inplace=True,drop=True)\n",
    "stockprices.to_csv(\"close3san20142019.csv\",index=False)"
   ]
  },
  {
   "cell_type": "code",
   "execution_count": 2,
   "metadata": {},
   "outputs": [
    {
     "name": "stdout",
     "output_type": "stream",
     "text": [
      "Collecting openpyxl\n",
      "\u001b[?25l  Downloading https://files.pythonhosted.org/packages/5c/90/61f83be1c335a9b69fa773784a785d9de95c7561d1661918796fd1cba3d2/openpyxl-3.0.5-py2.py3-none-any.whl (242kB)\n",
      "\u001b[K     |████████████████████████████████| 245kB 755kB/s eta 0:00:01\n",
      "\u001b[?25hCollecting jdcal\n",
      "  Downloading https://files.pythonhosted.org/packages/f0/da/572cbc0bc582390480bbd7c4e93d14dc46079778ed915b505dc494b37c57/jdcal-1.4.1-py2.py3-none-any.whl\n",
      "Collecting et-xmlfile\n",
      "  Downloading https://files.pythonhosted.org/packages/22/28/a99c42aea746e18382ad9fb36f64c1c1f04216f41797f2f0fa567da11388/et_xmlfile-1.0.1.tar.gz\n",
      "Installing collected packages: jdcal, et-xmlfile, openpyxl\n",
      "    Running setup.py install for et-xmlfile ... \u001b[?25ldone\n",
      "\u001b[?25hSuccessfully installed et-xmlfile-1.0.1 jdcal-1.4.1 openpyxl-3.0.5\n"
     ]
    }
   ],
   "source": [
    "!pip3 install openpyxl --user"
   ]
  },
  {
   "cell_type": "code",
   "execution_count": null,
   "metadata": {},
   "outputs": [],
   "source": []
  }
 ],
 "metadata": {
  "kernelspec": {
   "display_name": "Python 3",
   "language": "python",
   "name": "python3"
  },
  "language_info": {
   "codemirror_mode": {
    "name": "ipython",
    "version": 3
   },
   "file_extension": ".py",
   "mimetype": "text/x-python",
   "name": "python",
   "nbconvert_exporter": "python",
   "pygments_lexer": "ipython3",
   "version": "3.8.5"
  }
 },
 "nbformat": 4,
 "nbformat_minor": 4
}
