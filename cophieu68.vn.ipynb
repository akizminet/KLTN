{
 "cells": [
  {
   "cell_type": "code",
   "execution_count": 1,
   "metadata": {},
   "outputs": [],
   "source": [
    "# Download from cophieu68.vn\n",
    "\n",
    "import requests\n",
    "import json\n",
    "import time"
   ]
  },
  {
   "cell_type": "code",
   "execution_count": 2,
   "metadata": {},
   "outputs": [
    {
     "name": "stderr",
     "output_type": "stream",
     "text": [
      "/usr/lib/python3.8/site-packages/urllib3/connectionpool.py:997: InsecureRequestWarning: Unverified HTTPS request is being made. Adding certificate verification is strongly advised. See: https://urllib3.readthedocs.io/en/latest/advanced-usage.html#ssl-warnings\n",
      "  warnings.warn(\n"
     ]
    },
    {
     "data": {
      "text/plain": [
       "<Response [200]>"
      ]
     },
     "execution_count": 2,
     "metadata": {},
     "output_type": "execute_result"
    }
   ],
   "source": [
    "s = requests.Session()\n",
    "s.get(\"https://www.cophieu68.vn\",verify=False)"
   ]
  },
  {
   "cell_type": "code",
   "execution_count": 3,
   "metadata": {},
   "outputs": [
    {
     "name": "stderr",
     "output_type": "stream",
     "text": [
      "/usr/lib/python3.8/site-packages/urllib3/connectionpool.py:997: InsecureRequestWarning: Unverified HTTPS request is being made. Adding certificate verification is strongly advised. See: https://urllib3.readthedocs.io/en/latest/advanced-usage.html#ssl-warnings\n",
      "  warnings.warn(\n"
     ]
    },
    {
     "data": {
      "text/plain": [
       "<RequestsCookieJar[Cookie(version=0, name='PHPSESSID', value='tu0mt1oigf5kfpof2futovdm67', port=None, port_specified=False, domain='.cophieu68.vn', domain_specified=True, domain_initial_dot=True, path='/', path_specified=True, secure=False, expires=None, discard=True, comment=None, comment_url=None, rest={}, rfc2109=False), Cookie(version=0, name='cophieu68password', value='NmZiNDJkYTBlMzJlMDdiNjFjOWYwMjUxZmU2MjdhOWM%3D', port=None, port_specified=False, domain='www.cophieu68.vn', domain_specified=False, domain_initial_dot=False, path='/', path_specified=True, secure=False, expires=1602948752, discard=False, comment=None, comment_url=None, rest={}, rfc2109=False), Cookie(version=0, name='cophieu68username', value='cGhhbWF2Z0B5b3BtYWlsLmNvbQ%3D%3D', port=None, port_specified=False, domain='www.cophieu68.vn', domain_specified=False, domain_initial_dot=False, path='/', path_specified=True, secure=False, expires=1602948752, discard=False, comment=None, comment_url=None, rest={}, rfc2109=False)]>"
      ]
     },
     "execution_count": 3,
     "metadata": {},
     "output_type": "execute_result"
    }
   ],
   "source": [
    "data = \"username=phamavg%40yopmail.com&tpassword=0987654321&ajax=1&login=1\"\n",
    "headers={\n",
    "    \"User-Agent\": \"Mozilla/5.0 (X11; Fedora; Linux x86_64; rv:81.0) Gecko/20100101 Firefox/81.0\",\n",
    "    \"Content-Type\": \"application/x-www-form-urlencoded; charset=UTF-8\",\n",
    "    \"X-Requested-With\": \"XMLHttpRequest\"\n",
    "}\n",
    "r = s.post('https://www.cophieu68.vn/account/login.php',data=data,headers=headers,verify=False)\n",
    "s.cookies"
   ]
  },
  {
   "cell_type": "code",
   "execution_count": 5,
   "metadata": {},
   "outputs": [
    {
     "name": "stdout",
     "output_type": "stream",
     "text": [
      "AAA...AAM...AAV...ABC...ABR...ABT...ACC...ACE...ACL...ACM...ACV...ADP...ADS...AFX...AGM...AMC...AMD...AME...AMS...AMV...ANT...ANV...APC...APF...APP...ASA...ASM...ASP...AST...ATA...ATB...ATG...ATS...AVC...AVF...BAM...BAX...BBC...BBS...BBT...BCC...BCE...BCI...BCM...BCP...BDG...BDT...BEL...BFC...BGM...BHC...BHN...BHP...BHS...BHT...BII...BKC...BLF...BMC...BMJ...BMP...BOT...BPC...BRC...BSA...BSG...BSL...BSP...BSQ...BSR...BT6...BTC...BTD...BTP...BTS...BUD...BVG...BVN...BXH...C21...C32...C47...C4G...C69...C92...CAD...CAN...CAP...CAT...CAV...CCI...CCL...CCM...CDC...CDN...CDO...CDP...CEC...CEE...CEN...CEO...CET...CFC...CGP...CGV...CHP...CHS...CIA...CID...CIG...CII...CJC...CKA...CKD...CLC...CLG...CLH...CLL...CLS...CMC...CMG...CMN...CMT...CMV...CMX...CNC...CNG...CNT...COM...CPC...CRC...CRE...CSC...CSM...CSV...CT3...CTA...CTB...CTD...CTF...CTI...CTN...CTP...CTR...CTX...CVN...CVT...CX8...CYC...D11...D2D...DAC...DAG...DAS...DAT...DBC...DBD...DBM...DBT...DC1...DC2...DC4...DCF...DCL...DCM...DCT...DDG...DDM...DDN...DDV...DGC...DGL...DGT...DGW...DHA...DHC...DHD...DHG...DHP...DHT...DIC...DID...DIG...DIH...DL1...DLG...DMC...DNA...DNC...DND...DNL...DNM...DNP...DNS...DNY...DP3...DPC...DPG...DPM...DPR...DPS...DQC...DRC...DRH...DRI...DRL...DSC...DSP...DTA...DTC...DTD...DTI...DTL...DTT...DVN...DVP...DXG...DXP...DXV...DZM...EIC...EIN...ELC...EMC...EME...EVE...EVG...FBA...FCM...FCN...FDG...FIR...FLC...FMC...FOC...FOX...FPT...FRT...FTM...FUCTVGF1...FUCVREIT...FUESSV50...G20...G36...GAB...GAS...GDT...GEG...GEX...GGG...GHC...GIL...GKM...GLT...GMC...GMD...GMX...GND...GSM...GSP...GTA...GTH...GTN...GTS...GTT...GVT...HAD...HAF...HAH...HAI...HAP...HAR...HAS...HAT...HBC...HBD...HC3...HCC...HCD...HCT...HD2...HDA...HDB...HDC...HDG...HDM...HDO...HDP...HEM...HGM...HHA...HHC...HHG...HHP...HHS...HID...HIG...HII...HJS...HKB...HKT...HLA...HLC...HLD...HLY...HMC...HMH...HMS...HNA...HND...HNF...HNG...HNI...HNM...HNP...HOM...HPB...HPD...HPG...HPM...HPP...HPS...HPT...HPX...HQC...HRC...HRT...HSG...HSI...HSL...HT1...HTE...HTG...HTI...HTN...HTT...HTV...HU1...HU3...HU4...HU6...HUB...HUG...HUT...HVA...HVG...HVN...HVT...HVX...ICC...ICG...ICI...ICN...IDI...IDJ...IDV...IFC...IFS...IJC...ILA...ILB...ILS...IMP...IMT...INC...INN...ISH...ITA...ITC...ITD...ITQ...ITS...JVC...KBC...KCB...KDC...KDF...KDH...KDM...KHA...KHD...KHL...KHP...KHS...KKC...KMR...KMT...KOS...KPF...KSA...KSB...KSD...KSK...KSQ...KSS...KST...KTL...KTS...KTT...KVC...L10...L14...L18...L35...L43...L44...L61...L62...LAF...LAS...LBM...LCC...LCG...LCM...LCS...LDG...LDP...LEC...LGC...LGL...LHC...LHG...LIG...LIX...LLM...LM3...LM7...LM8...LMH...LO5...LSS...LTG...LUT...M10...MAC...MAS...MBG...MCC...MCF...MCG...MCH...MCO...MCP...MDC...MDF...MDG...MEC...MFS...MH3...MHC...MHL...MIC...MIM...MKP...MKV...MLN...MLS...MMC...MNC...MPC...MPT...MSH...MSR...MST...MTA...MTG...MTP...MVB...MVC...MWG...NAF...NAG...NAS...NAV...NBB...NBC...NBE...NBP...NCP...NCS...NCT...ND2...NDC...NDF...NDN...NDP...NDX...NED...NET...NGC...NHA...NHC...NHP...NHS...NHT...NHV...NKG...NLG...NMK...NNC...NNG...NOS...NPS...NRC...NSC...NSG...NSH...NSP...NST...NT2...NTB...NTC...NTH...NTL...NTP...NVL...NVT...OCH...OGC...OIL...ONE...OPC...PAC...PAN...PBP...PC1...PCE...PCG...PCT...PDB...PDN...PDR...PEN...PFL...PGC...PGD...PGN...PGS...PGT...PGV...PHC...PHH...PHN...PHP...PHR...PIA...PIC...PJC...PJT...PLC...PLP...PLX...PMB...PMC...PME...PMG...PMS...PMT...PNG...PNT...POM...POS...POT...POV...POW...PPC...PPE...PPG...PPH...PPI...PPP...PPS...PRC...PRT...PSB...PSC...PSE...PSG...PSL...PSP...PSW...PTC...PTD...PTL...PTM...PTP...PTS...PTT...PV2...PVA...PVB...PVC...PVD...PVE...PVG...PVH...PVL...PVM...PVO...PVP...PVR...PVS...PVT...PVV...PVX...PWA...PXA...PXI...PXL...PXM...PXS...PXT...QBS...QCC...QCG...QHD...QHW...QNC...QNS...QTC...QTP...RAL...RCC...RCD...RCL...RDP...REE...ROS...S12...S27...S4A...S55...S74...S96...S99...SAB...SAC...SAF...SAM...SAS...SAV...SB1...SBA...SBD...SBL...SBT...SBV...SC5...SCC...SCD...SCI...SCJ...SCO...SCR...SD1...SD2...SD3...SD4...SD5...SD6...SD7...SD8...SD9...SDB...SDC...SDG...SDH...SDI...SDJ...SDK...SDN...SDP...SDT...SDU...SDY...SEA...SEB...SEC...SFC...SFG...SFI...SFN...SGC...SGO...SGP...SGR...SGS...SGT...SHA...SHC...SHE...SHG...SHI...SHP...SIC...SII...SIP...SIV...SJ1...SJC...SJD...SJE...SJF...SJM...SJS...SKG...SKH...SKV...SLS...SMB...SMC...SMT...SNC...SNZ...SPC...SPI...SPM...SPP...SPV...SQC...SRA...SRB...SRC...SRF...SRT...SSC...SSF...SSM...SSN...STG...STK...STL...STP...STT...STV...SVI...SVN...SWC...SZC...SZL...TA9...TAC...TAR...TBC...TBD...TBX...TC6...TCD...TCL...TCM...TCO...TCR...TCS...TCW...TDB...TDC...TDG...TDH...TDN...TDP...TDS...TDT...TEG...TEL...TET...TFC...TGG...TGP...THB...THG...THI...THS...THT...THV...TIC...TID...TIP...TIS...TIX...TJC...TKC...TKU...TL4...TLC...TLD...TLG...TLH...TLP...TLT...TMP...TMS...TMT...TN1...TNB...TNC...TND...TNG...TNI...TNM...TNS...TNT...TOP...TPC...TPP...TRA...TRC...TRS...TS4...TSB...TSC...TST...TTB...TTC...TTD...TTE...TTF...TTG...TTH...TTN...TTP...TTZ...TV1...TV2...TV3...TV4...TVA...TVD...TVN...TVP...TVT...TXM...TYA...UDC...UDJ...UIC...UNI...V11...V12...V15...V21...VAF...VAT...VBC...VBH...VC1...VC2...VC3...VC5...VC6...VC7...VC9...VCA...VCC...VCF...VCG...VCP...VCS...VCX...VDL...VDP...VDT...VE1...VE2...VE3...VE4...VE8...VE9...VEA...VEC...VES...VET...VFC...VFG...VFR...VGC...VGG...VGI...VGP...VGS...VGT...VGV...VHC...VHD...VHE...VHG...VHH...VHL...VHM...VIC...VID...VIF...VIH...VIM...VIN...VIP...VIS...VIT...VJC...VKC...VKD...VKP...VLB...VLC...VLF...VLG...VMC...VMD...VMG...VMI...VMS...VNA...VNB...VNE...VNF...VNH...VNI...VNL...VNM...VNP...VNS...VNT...VOC...VOS...VPD...VPH...VPI...VPL...VPS...VRC...VRE...VRG...VSA...VSC...VSG...VSH...VSM...VSN...VSP...VST...VTA...VTB...VTC...VTF...VTJ...VTK...VTL...VTO...VTS...VTV...VTX...VXB...WCS...WSB...X18...X26...XHC...XPH...YBC...YBM...YTC..."
     ]
    }
   ],
   "source": [
    "list_cophieu=['AAA', 'AAM', 'AAV', 'ABC', 'ABR', 'ABT', 'ACC', 'ACE', 'ACL',\n",
    "       'ACM', 'ACV', 'ADP', 'ADS', 'AFX', 'AGM', 'AMC', 'AMD', 'AME',\n",
    "       'AMS', 'AMV', 'ANT', 'ANV', 'APC', 'APF', 'APP', 'ASA', 'ASM',\n",
    "       'ASP', 'AST', 'ATA', 'ATB', 'ATG', 'ATS', 'AVC', 'AVF', 'BAM',\n",
    "       'BAX', 'BBC', 'BBS', 'BBT', 'BCC', 'BCE', 'BCI', 'BCM', 'BCP',\n",
    "       'BDG', 'BDT', 'BEL', 'BFC', 'BGM', 'BHC', 'BHN', 'BHP', 'BHS',\n",
    "       'BHT', 'BII', 'BKC', 'BLF', 'BMC', 'BMJ', 'BMP', 'BOT', 'BPC',\n",
    "       'BRC', 'BSA', 'BSG', 'BSL', 'BSP', 'BSQ', 'BSR', 'BT6', 'BTC',\n",
    "       'BTD', 'BTP', 'BTS', 'BUD', 'BVG', 'BVN', 'BXH', 'C21', 'C32',\n",
    "       'C47', 'C4G', 'C69', 'C92', 'CAD', 'CAN', 'CAP', 'CAT', 'CAV',\n",
    "       'CCI', 'CCL', 'CCM', 'CDC', 'CDN', 'CDO', 'CDP', 'CEC', 'CEE',\n",
    "       'CEN', 'CEO', 'CET', 'CFC', 'CGP', 'CGV', 'CHP', 'CHS', 'CIA',\n",
    "       'CID', 'CIG', 'CII', 'CJC', 'CKA', 'CKD', 'CLC', 'CLG', 'CLH',\n",
    "       'CLL', 'CLS', 'CMC', 'CMG', 'CMN', 'CMT', 'CMV', 'CMX', 'CNC',\n",
    "       'CNG', 'CNT', 'COM', 'CPC', 'CRC', 'CRE', 'CSC', 'CSM', 'CSV',\n",
    "       'CT3', 'CTA', 'CTB', 'CTD', 'CTF', 'CTI', 'CTN', 'CTP', 'CTR',\n",
    "       'CTX', 'CVN', 'CVT', 'CX8', 'CYC', 'D11', 'D2D', 'DAC', 'DAG',\n",
    "       'DAS', 'DAT', 'DBC', 'DBD', 'DBM', 'DBT', 'DC1', 'DC2', 'DC4',\n",
    "       'DCF', 'DCL', 'DCM', 'DCT', 'DDG', 'DDM', 'DDN', 'DDV', 'DGC',\n",
    "       'DGL', 'DGT', 'DGW', 'DHA', 'DHC', 'DHD', 'DHG', 'DHP', 'DHT',\n",
    "       'DIC', 'DID', 'DIG', 'DIH', 'DL1', 'DLG', 'DMC', 'DNA', 'DNC',\n",
    "       'DND', 'DNL', 'DNM', 'DNP', 'DNS', 'DNY', 'DP3', 'DPC', 'DPG',\n",
    "       'DPM', 'DPR', 'DPS', 'DQC', 'DRC', 'DRH', 'DRI', 'DRL', 'DSC',\n",
    "       'DSP', 'DTA', 'DTC', 'DTD', 'DTI', 'DTL', 'DTT', 'DVN', 'DVP',\n",
    "       'DXG', 'DXP', 'DXV', 'DZM', 'EIC', 'EIN', 'ELC', 'EMC', 'EME',\n",
    "       'EVE', 'EVG', 'FBA', 'FCM', 'FCN', 'FDG', 'FIR', 'FLC', 'FMC',\n",
    "       'FOC', 'FOX', 'FPT', 'FRT', 'FTM', 'FUCTVGF1', 'FUCVREIT',\n",
    "       'FUESSV50', 'G20', 'G36', 'GAB', 'GAS', 'GDT', 'GEG', 'GEX', 'GGG',\n",
    "       'GHC', 'GIL', 'GKM', 'GLT', 'GMC', 'GMD', 'GMX', 'GND', 'GSM',\n",
    "       'GSP', 'GTA', 'GTH', 'GTN', 'GTS', 'GTT', 'GVT', 'HAD', 'HAF',\n",
    "       'HAH', 'HAI', 'HAP', 'HAR', 'HAS', 'HAT', 'HBC', 'HBD', 'HC3',\n",
    "       'HCC', 'HCD', 'HCT', 'HD2', 'HDA', 'HDB', 'HDC', 'HDG', 'HDM',\n",
    "       'HDO', 'HDP', 'HEM', 'HGM', 'HHA', 'HHC', 'HHG', 'HHP', 'HHS',\n",
    "       'HID', 'HIG', 'HII', 'HJS', 'HKB', 'HKT', 'HLA', 'HLC', 'HLD',\n",
    "       'HLY', 'HMC', 'HMH', 'HMS', 'HNA', 'HND', 'HNF', 'HNG', 'HNI',\n",
    "       'HNM', 'HNP', 'HOM', 'HPB', 'HPD', 'HPG', 'HPM', 'HPP', 'HPS',\n",
    "       'HPT', 'HPX', 'HQC', 'HRC', 'HRT', 'HSG', 'HSI', 'HSL', 'HT1',\n",
    "       'HTE', 'HTG', 'HTI', 'HTN', 'HTT', 'HTV', 'HU1', 'HU3', 'HU4',\n",
    "       'HU6', 'HUB', 'HUG', 'HUT', 'HVA', 'HVG', 'HVN', 'HVT', 'HVX',\n",
    "       'ICC', 'ICG', 'ICI', 'ICN', 'IDI', 'IDJ', 'IDV', 'IFC', 'IFS',\n",
    "       'IJC', 'ILA', 'ILB', 'ILS', 'IMP', 'IMT', 'INC', 'INN', 'ISH',\n",
    "       'ITA', 'ITC', 'ITD', 'ITQ', 'ITS', 'JVC', 'KBC', 'KCB', 'KDC',\n",
    "       'KDF', 'KDH', 'KDM', 'KHA', 'KHD', 'KHL', 'KHP', 'KHS', 'KKC',\n",
    "       'KMR', 'KMT', 'KOS', 'KPF', 'KSA', 'KSB', 'KSD', 'KSK', 'KSQ',\n",
    "       'KSS', 'KST', 'KTL', 'KTS', 'KTT', 'KVC', 'L10', 'L14', 'L18',\n",
    "       'L35', 'L43', 'L44', 'L61', 'L62', 'LAF', 'LAS', 'LBM', 'LCC',\n",
    "       'LCG', 'LCM', 'LCS', 'LDG', 'LDP', 'LEC', 'LGC', 'LGL', 'LHC',\n",
    "       'LHG', 'LIG', 'LIX', 'LLM', 'LM3', 'LM7', 'LM8', 'LMH', 'LO5',\n",
    "       'LSS', 'LTG', 'LUT', 'M10', 'MAC', 'MAS', 'MBG', 'MCC', 'MCF',\n",
    "       'MCG', 'MCH', 'MCO', 'MCP', 'MDC', 'MDF', 'MDG', 'MEC', 'MFS',\n",
    "       'MH3', 'MHC', 'MHL', 'MIC', 'MIM', 'MKP', 'MKV', 'MLN', 'MLS',\n",
    "       'MMC', 'MNC', 'MPC', 'MPT', 'MSH', 'MSR', 'MST', 'MTA', 'MTG',\n",
    "       'MTP', 'MVB', 'MVC', 'MWG', 'NAF', 'NAG', 'NAS', 'NAV', 'NBB',\n",
    "       'NBC', 'NBE', 'NBP', 'NCP', 'NCS', 'NCT', 'ND2', 'NDC', 'NDF',\n",
    "       'NDN', 'NDP', 'NDX', 'NED', 'NET', 'NGC', 'NHA', 'NHC', 'NHP',\n",
    "       'NHS', 'NHT', 'NHV', 'NKG', 'NLG', 'NMK', 'NNC', 'NNG', 'NOS',\n",
    "       'NPS', 'NRC', 'NSC', 'NSG', 'NSH', 'NSP', 'NST', 'NT2', 'NTB',\n",
    "       'NTC', 'NTH', 'NTL', 'NTP', 'NVL', 'NVT', 'OCH', 'OGC', 'OIL',\n",
    "       'ONE', 'OPC', 'PAC', 'PAN', 'PBP', 'PC1', 'PCE', 'PCG', 'PCT',\n",
    "       'PDB', 'PDN', 'PDR', 'PEN', 'PFL', 'PGC', 'PGD', 'PGN', 'PGS',\n",
    "       'PGT', 'PGV', 'PHC', 'PHH', 'PHN', 'PHP', 'PHR', 'PIA', 'PIC',\n",
    "       'PJC', 'PJT', 'PLC', 'PLP', 'PLX', 'PMB', 'PMC', 'PME', 'PMG',\n",
    "       'PMS', 'PMT', 'PNG', 'PNT', 'POM', 'POS', 'POT', 'POV', 'POW',\n",
    "       'PPC', 'PPE', 'PPG', 'PPH', 'PPI', 'PPP', 'PPS', 'PRC', 'PRT',\n",
    "       'PSB', 'PSC', 'PSE', 'PSG', 'PSL', 'PSP', 'PSW', 'PTC', 'PTD',\n",
    "       'PTL', 'PTM', 'PTP', 'PTS', 'PTT', 'PV2', 'PVA', 'PVB', 'PVC',\n",
    "       'PVD', 'PVE', 'PVG', 'PVH', 'PVL', 'PVM', 'PVO', 'PVP', 'PVR',\n",
    "       'PVS', 'PVT', 'PVV', 'PVX', 'PWA', 'PXA', 'PXI', 'PXL', 'PXM',\n",
    "       'PXS', 'PXT', 'QBS', 'QCC', 'QCG', 'QHD', 'QHW', 'QNC', 'QNS',\n",
    "       'QTC', 'QTP', 'RAL', 'RCC', 'RCD', 'RCL', 'RDP', 'REE', 'ROS',\n",
    "       'S12', 'S27', 'S4A', 'S55', 'S74', 'S96', 'S99', 'SAB', 'SAC',\n",
    "       'SAF', 'SAM', 'SAS', 'SAV', 'SB1', 'SBA', 'SBD', 'SBL', 'SBT',\n",
    "       'SBV', 'SC5', 'SCC', 'SCD', 'SCI', 'SCJ', 'SCO', 'SCR', 'SD1',\n",
    "       'SD2', 'SD3', 'SD4', 'SD5', 'SD6', 'SD7', 'SD8', 'SD9', 'SDB',\n",
    "       'SDC', 'SDG', 'SDH', 'SDI', 'SDJ', 'SDK', 'SDN', 'SDP', 'SDT',\n",
    "       'SDU', 'SDY', 'SEA', 'SEB', 'SEC', 'SFC', 'SFG', 'SFI', 'SFN',\n",
    "       'SGC', 'SGO', 'SGP', 'SGR', 'SGS', 'SGT', 'SHA', 'SHC', 'SHE',\n",
    "       'SHG', 'SHI', 'SHP', 'SIC', 'SII', 'SIP', 'SIV', 'SJ1', 'SJC',\n",
    "       'SJD', 'SJE', 'SJF', 'SJM', 'SJS', 'SKG', 'SKH', 'SKV', 'SLS',\n",
    "       'SMB', 'SMC', 'SMT', 'SNC', 'SNZ', 'SPC', 'SPI', 'SPM', 'SPP',\n",
    "       'SPV', 'SQC', 'SRA', 'SRB', 'SRC', 'SRF', 'SRT', 'SSC', 'SSF',\n",
    "       'SSM', 'SSN', 'STG', 'STK', 'STL', 'STP', 'STT', 'STV', 'SVI',\n",
    "       'SVN', 'SWC', 'SZC', 'SZL', 'TA9', 'TAC', 'TAR', 'TBC', 'TBD',\n",
    "       'TBX', 'TC6', 'TCD', 'TCL', 'TCM', 'TCO', 'TCR', 'TCS', 'TCW',\n",
    "       'TDB', 'TDC', 'TDG', 'TDH', 'TDN', 'TDP', 'TDS', 'TDT', 'TEG',\n",
    "       'TEL', 'TET', 'TFC', 'TGG', 'TGP', 'THB', 'THG', 'THI', 'THS',\n",
    "       'THT', 'THV', 'TIC', 'TID', 'TIP', 'TIS', 'TIX', 'TJC', 'TKC',\n",
    "       'TKU', 'TL4', 'TLC', 'TLD', 'TLG', 'TLH', 'TLP', 'TLT', 'TMP',\n",
    "       'TMS', 'TMT', 'TN1', 'TNB', 'TNC', 'TND', 'TNG', 'TNI', 'TNM',\n",
    "       'TNS', 'TNT', 'TOP', 'TPC', 'TPP', 'TRA', 'TRC', 'TRS', 'TS4',\n",
    "       'TSB', 'TSC', 'TST', 'TTB', 'TTC', 'TTD', 'TTE', 'TTF', 'TTG',\n",
    "       'TTH', 'TTN', 'TTP', 'TTZ', 'TV1', 'TV2', 'TV3', 'TV4', 'TVA',\n",
    "       'TVD', 'TVN', 'TVP', 'TVT', 'TXM', 'TYA', 'UDC', 'UDJ', 'UIC',\n",
    "       'UNI', 'V11', 'V12', 'V15', 'V21', 'VAF', 'VAT', 'VBC', 'VBH',\n",
    "       'VC1', 'VC2', 'VC3', 'VC5', 'VC6', 'VC7', 'VC9', 'VCA', 'VCC',\n",
    "       'VCF', 'VCG', 'VCP', 'VCS', 'VCX', 'VDL', 'VDP', 'VDT', 'VE1',\n",
    "       'VE2', 'VE3', 'VE4', 'VE8', 'VE9', 'VEA', 'VEC', 'VES', 'VET',\n",
    "       'VFC', 'VFG', 'VFR', 'VGC', 'VGG', 'VGI', 'VGP', 'VGS', 'VGT',\n",
    "       'VGV', 'VHC', 'VHD', 'VHE', 'VHG', 'VHH', 'VHL', 'VHM', 'VIC',\n",
    "       'VID', 'VIF', 'VIH', 'VIM', 'VIN', 'VIP', 'VIS', 'VIT', 'VJC',\n",
    "       'VKC', 'VKD', 'VKP', 'VLB', 'VLC', 'VLF', 'VLG', 'VMC', 'VMD',\n",
    "       'VMG', 'VMI', 'VMS', 'VNA', 'VNB', 'VNE', 'VNF', 'VNH', 'VNI',\n",
    "       'VNL', 'VNM', 'VNP', 'VNS', 'VNT', 'VOC', 'VOS', 'VPD', 'VPH',\n",
    "       'VPI', 'VPL', 'VPS', 'VRC', 'VRE', 'VRG', 'VSA', 'VSC', 'VSG',\n",
    "       'VSH', 'VSM', 'VSN', 'VSP', 'VST', 'VTA', 'VTB', 'VTC', 'VTF',\n",
    "       'VTJ', 'VTK', 'VTL', 'VTO', 'VTS', 'VTV', 'VTX', 'VXB', 'WCS',\n",
    "       'WSB', 'X18', 'X26', 'XHC', 'XPH', 'YBC', 'YBM', 'YTC']\n",
    "\n",
    "for cophieu in list_cophieu:\n",
    "    print(cophieu,end='...')\n",
    "    r = s.get(f\"http://www.cophieu68.vn/export/reportfinance.php?id={cophieu}\")\n",
    "    with open(f'BCTC/{cophieu}.tsv','w',encoding='utf-8') as f:\n",
    "        f.write(r.text)\n",
    "        f.close()\n",
    "    time.sleep(1)"
   ]
  }
 ],
 "metadata": {
  "kernelspec": {
   "display_name": "Python 3",
   "language": "python",
   "name": "python3"
  },
  "language_info": {
   "codemirror_mode": {
    "name": "ipython",
    "version": 3
   },
   "file_extension": ".py",
   "mimetype": "text/x-python",
   "name": "python",
   "nbconvert_exporter": "python",
   "pygments_lexer": "ipython3",
   "version": "3.8.5"
  }
 },
 "nbformat": 4,
 "nbformat_minor": 4
}
